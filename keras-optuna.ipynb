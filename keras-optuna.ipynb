{
 "cells": [
  {
   "cell_type": "code",
   "execution_count": 1,
   "id": "8287b8c4",
   "metadata": {
    "_cell_guid": "b1076dfc-b9ad-4769-8c92-a6c4dae69d19",
    "_uuid": "8f2839f25d086af736a60e9eeb907d3b93b6e0e5",
    "execution": {
     "iopub.execute_input": "2022-07-13T11:58:54.274120Z",
     "iopub.status.busy": "2022-07-13T11:58:54.273287Z",
     "iopub.status.idle": "2022-07-13T11:58:54.288772Z",
     "shell.execute_reply": "2022-07-13T11:58:54.287745Z"
    },
    "papermill": {
     "duration": 0.02715,
     "end_time": "2022-07-13T11:58:54.290996",
     "exception": false,
     "start_time": "2022-07-13T11:58:54.263846",
     "status": "completed"
    },
    "tags": []
   },
   "outputs": [
    {
     "name": "stdout",
     "output_type": "stream",
     "text": [
      "/kaggle/input/digit-recognizer/sample_submission.csv\n",
      "/kaggle/input/digit-recognizer/train.csv\n",
      "/kaggle/input/digit-recognizer/test.csv\n"
     ]
    }
   ],
   "source": [
    "# This Python 3 environment comes with many helpful analytics libraries installed\n",
    "# It is defined by the kaggle/python Docker image: https://github.com/kaggle/docker-python\n",
    "# For example, here's several helpful packages to load\n",
    "\n",
    "import numpy as np # linear algebra\n",
    "import pandas as pd # data processing, CSV file I/O (e.g. pd.read_csv)\n",
    "\n",
    "# Input data files are available in the read-only \"../input/\" directory\n",
    "# For example, running this (by clicking run or pressing Shift+Enter) will list all files under the input directory\n",
    "\n",
    "import os\n",
    "for dirname, _, filenames in os.walk('/kaggle/input'):\n",
    "    for filename in filenames:\n",
    "        print(os.path.join(dirname, filename))\n",
    "\n",
    "# You can write up to 20GB to the current directory (/kaggle/working/) that gets preserved as output when you create a version using \"Save & Run All\" \n",
    "# You can also write temporary files to /kaggle/temp/, but they won't be saved outside of the current session"
   ]
  },
  {
   "cell_type": "code",
   "execution_count": 2,
   "id": "0f01ac12",
   "metadata": {
    "execution": {
     "iopub.execute_input": "2022-07-13T11:58:54.306186Z",
     "iopub.status.busy": "2022-07-13T11:58:54.305644Z",
     "iopub.status.idle": "2022-07-13T11:59:06.855251Z",
     "shell.execute_reply": "2022-07-13T11:59:06.854249Z"
    },
    "papermill": {
     "duration": 12.560094,
     "end_time": "2022-07-13T11:59:06.857885",
     "exception": false,
     "start_time": "2022-07-13T11:58:54.297791",
     "status": "completed"
    },
    "tags": []
   },
   "outputs": [],
   "source": [
    "import pandas as pd\n",
    "import numpy as np\n",
    "\n",
    "import tensorflow as tf\n",
    "import optuna\n",
    "import keras\n",
    "from keras.models import Sequential\n",
    "from keras.layers import Dense, Dropout, Flatten\n",
    "from keras.layers import Conv2D, MaxPooling2D\n",
    "\n",
    "import matplotlib.pyplot as plt\n",
    "import seaborn as sns\n",
    "sns.set()\n",
    " \n",
    "train = pd.read_csv('../input/digit-recognizer/train.csv') \n",
    "test = pd.read_csv('../input/digit-recognizer/test.csv')"
   ]
  },
  {
   "cell_type": "markdown",
   "id": "ad3e76fd",
   "metadata": {
    "papermill": {
     "duration": 0.006369,
     "end_time": "2022-07-13T11:59:06.871238",
     "exception": false,
     "start_time": "2022-07-13T11:59:06.864869",
     "status": "completed"
    },
    "tags": []
   },
   "source": [
    "**The objective of this nootebok will be to create and optimize the hyperparameters of a neural network intended to distinguish digits, the goal is to reach a level of accuracy higher than 98.5%.**"
   ]
  },
  {
   "cell_type": "code",
   "execution_count": 3,
   "id": "a3dc0370",
   "metadata": {
    "execution": {
     "iopub.execute_input": "2022-07-13T11:59:06.886402Z",
     "iopub.status.busy": "2022-07-13T11:59:06.885563Z",
     "iopub.status.idle": "2022-07-13T11:59:06.891076Z",
     "shell.execute_reply": "2022-07-13T11:59:06.889955Z"
    },
    "papermill": {
     "duration": 0.016315,
     "end_time": "2022-07-13T11:59:06.894172",
     "exception": false,
     "start_time": "2022-07-13T11:59:06.877857",
     "status": "completed"
    },
    "tags": []
   },
   "outputs": [
    {
     "name": "stdout",
     "output_type": "stream",
     "text": [
      "(42000, 785)\n",
      "(28000, 784)\n"
     ]
    }
   ],
   "source": [
    "print(train.shape)\n",
    "print(test.shape)"
   ]
  },
  {
   "cell_type": "code",
   "execution_count": 4,
   "id": "c48e60a3",
   "metadata": {
    "execution": {
     "iopub.execute_input": "2022-07-13T11:59:06.908390Z",
     "iopub.status.busy": "2022-07-13T11:59:06.908138Z",
     "iopub.status.idle": "2022-07-13T11:59:07.009958Z",
     "shell.execute_reply": "2022-07-13T11:59:07.008941Z"
    },
    "papermill": {
     "duration": 0.111977,
     "end_time": "2022-07-13T11:59:07.012595",
     "exception": false,
     "start_time": "2022-07-13T11:59:06.900618",
     "status": "completed"
    },
    "tags": []
   },
   "outputs": [],
   "source": [
    "# Transform data\n",
    "X_train = (train.iloc[:,1:].values).astype('float32') \n",
    "y_train = train.iloc[:,0].values\n",
    "X_test = test.values.astype('float32')"
   ]
  },
  {
   "cell_type": "code",
   "execution_count": 5,
   "id": "3f61eebd",
   "metadata": {
    "execution": {
     "iopub.execute_input": "2022-07-13T11:59:07.028511Z",
     "iopub.status.busy": "2022-07-13T11:59:07.028132Z",
     "iopub.status.idle": "2022-07-13T11:59:07.373171Z",
     "shell.execute_reply": "2022-07-13T11:59:07.372100Z"
    },
    "papermill": {
     "duration": 0.355803,
     "end_time": "2022-07-13T11:59:07.375367",
     "exception": false,
     "start_time": "2022-07-13T11:59:07.019564",
     "status": "completed"
    },
    "tags": []
   },
   "outputs": [
    {
     "name": "stdout",
     "output_type": "stream",
     "text": [
      "(42000, 784)\n",
      "(42000,)\n"
     ]
    }
   ],
   "source": [
    "from sklearn.model_selection import train_test_split\n",
    "X_train2, X_test2, y_train2, y_test2 = train_test_split(X_train, y_train, \n",
    "                                                    test_size = 0.20,\n",
    "                                                    train_size = 0.80,\n",
    "                                                    random_state = 0,\n",
    "                                                    stratify= y_train)\n",
    "print(X_train.shape)\n",
    "print(y_train.shape)"
   ]
  },
  {
   "cell_type": "code",
   "execution_count": 6,
   "id": "f49e6ce4",
   "metadata": {
    "execution": {
     "iopub.execute_input": "2022-07-13T11:59:07.391348Z",
     "iopub.status.busy": "2022-07-13T11:59:07.389959Z",
     "iopub.status.idle": "2022-07-13T11:59:07.395315Z",
     "shell.execute_reply": "2022-07-13T11:59:07.394474Z"
    },
    "papermill": {
     "duration": 0.015121,
     "end_time": "2022-07-13T11:59:07.397359",
     "exception": false,
     "start_time": "2022-07-13T11:59:07.382238",
     "status": "completed"
    },
    "tags": []
   },
   "outputs": [],
   "source": [
    "# Reshape data\n",
    "img_rows, img_cols = 28, 28\n",
    "num_classes = 10"
   ]
  },
  {
   "cell_type": "code",
   "execution_count": 7,
   "id": "500d6e90",
   "metadata": {
    "execution": {
     "iopub.execute_input": "2022-07-13T11:59:07.412674Z",
     "iopub.status.busy": "2022-07-13T11:59:07.411886Z",
     "iopub.status.idle": "2022-07-13T11:59:07.793610Z",
     "shell.execute_reply": "2022-07-13T11:59:07.792487Z"
    },
    "papermill": {
     "duration": 0.391491,
     "end_time": "2022-07-13T11:59:07.795817",
     "exception": false,
     "start_time": "2022-07-13T11:59:07.404326",
     "status": "completed"
    },
    "tags": []
   },
   "outputs": [
    {
     "name": "stdout",
     "output_type": "stream",
     "text": [
      "(33600, 28, 28, 1)\n"
     ]
    }
   ],
   "source": [
    "# We process the data and convert it into a 28 x 28 matrix.\n",
    "X_train = X_train2.reshape(X_train2.shape[0], img_rows, img_cols,1)\n",
    "X_test = X_test2.reshape(X_test2.shape[0], img_rows, img_cols,1)\n",
    "\n",
    "y_train = tf.keras.utils.to_categorical(y_train2, num_classes)\n",
    "print(X_train.shape)"
   ]
  },
  {
   "cell_type": "code",
   "execution_count": 8,
   "id": "f99b963e",
   "metadata": {
    "execution": {
     "iopub.execute_input": "2022-07-13T11:59:07.811134Z",
     "iopub.status.busy": "2022-07-13T11:59:07.810591Z",
     "iopub.status.idle": "2022-07-13T11:59:07.818880Z",
     "shell.execute_reply": "2022-07-13T11:59:07.817875Z"
    },
    "papermill": {
     "duration": 0.018493,
     "end_time": "2022-07-13T11:59:07.821175",
     "exception": false,
     "start_time": "2022-07-13T11:59:07.802682",
     "status": "completed"
    },
    "tags": []
   },
   "outputs": [],
   "source": [
    "# Model CNN\n",
    "def create_model(num_layer, mid_units, num_filters,dropout_rate):\n",
    "    \n",
    "    model = Sequential()\n",
    "    model.add(Conv2D(filters=num_filters[0], kernel_size=(3, 3),\n",
    "                 activation=\"relu\",\n",
    "                 input_shape=(img_rows, img_cols, 1)))\n",
    "    model.add(MaxPooling2D(pool_size=(2, 2)))\n",
    "    for i in range(1,num_layer):\n",
    "        model.add(Conv2D(filters=num_filters[i], kernel_size=(3,3), padding=\"same\", activation=\"relu\"))\n",
    "    \n",
    "    model.add(MaxPooling2D(pool_size=(2, 2)))\n",
    "    model.add(Dropout(dropout_rate[0]))\n",
    "    model.add(Flatten())\n",
    "    model.add(Dense(mid_units))\n",
    "    model.add(Dropout(dropout_rate[1]))\n",
    "    model.add(Dense(num_classes, activation='softmax'))\n",
    "    \n",
    "    return model"
   ]
  },
  {
   "cell_type": "code",
   "execution_count": 9,
   "id": "0881b79a",
   "metadata": {
    "execution": {
     "iopub.execute_input": "2022-07-13T11:59:07.835874Z",
     "iopub.status.busy": "2022-07-13T11:59:07.835629Z",
     "iopub.status.idle": "2022-07-13T11:59:07.845379Z",
     "shell.execute_reply": "2022-07-13T11:59:07.844436Z"
    },
    "papermill": {
     "duration": 0.019276,
     "end_time": "2022-07-13T11:59:07.847253",
     "exception": false,
     "start_time": "2022-07-13T11:59:07.827977",
     "status": "completed"
    },
    "tags": []
   },
   "outputs": [],
   "source": [
    "def objective(trial):\n",
    "    # Clear session\n",
    "    keras.backend.clear_session()\n",
    "    \n",
    "    # Number of layers\n",
    "    num_layer = trial.suggest_int(\"num_layer\", 2, 5)\n",
    "    mid_units = int(trial.suggest_discrete_uniform(\"mid_units\", 100, 300, 100))\n",
    "    \n",
    "    # Number of filters in each convolution layer\n",
    "    num_filters = [int(trial.suggest_discrete_uniform(\"num_filter_\"+str(i), 16, 128, 16))\n",
    "                   for i in range(num_layer)]\n",
    "    \n",
    "    # Dropout\n",
    "    dropout_rate = [0] * 2\n",
    "    dropout_rate[0] = trial.suggest_uniform('dropout_rate'+str(0), 0.0, 0.5)\n",
    "    dropout_rate[1] = trial.suggest_uniform('dropout_rate'+str(1), 0.0, 0.5)\n",
    "    \n",
    "    #Optimizer\n",
    "    optimizer = trial.suggest_categorical(\"optimizer\", [\"sgd\", \"adam\"])\n",
    "    \n",
    "    model = create_model(num_layer, mid_units, num_filters,dropout_rate)\n",
    "    model.compile(optimizer=optimizer,\n",
    "                  loss=\"categorical_crossentropy\",\n",
    "                  metrics=[\"acc\"])\n",
    "    \n",
    "    history = model.fit(X_train, y_train, verbose=0, epochs=20,\n",
    "                        batch_size=128, validation_split=0.1)\n",
    "    \n",
    "    scores = model.evaluate(X_train, y_train)\n",
    "    print('accuracy={}'.format(*scores))\n",
    "    \n",
    "    # Find the hyperparameters that maximize the percentage of correct responses to the data for validation\n",
    "    return 1 - history.history[\"val_acc\"][-1]"
   ]
  },
  {
   "cell_type": "code",
   "execution_count": 10,
   "id": "dc7371a5",
   "metadata": {
    "execution": {
     "iopub.execute_input": "2022-07-13T11:59:07.862411Z",
     "iopub.status.busy": "2022-07-13T11:59:07.862145Z",
     "iopub.status.idle": "2022-07-13T12:31:17.642356Z",
     "shell.execute_reply": "2022-07-13T12:31:17.641468Z"
    },
    "papermill": {
     "duration": 1929.78956,
     "end_time": "2022-07-13T12:31:17.644380",
     "exception": false,
     "start_time": "2022-07-13T11:59:07.854820",
     "status": "completed"
    },
    "tags": []
   },
   "outputs": [
    {
     "name": "stderr",
     "output_type": "stream",
     "text": [
      "\u001b[32m[I 2022-07-13 11:59:07,863]\u001b[0m A new study created in memory with name: no-name-22bea215-3881-4f87-8ade-3738d855fdef\u001b[0m\n",
      "2022-07-13 11:59:07.964531: I tensorflow/stream_executor/cuda/cuda_gpu_executor.cc:937] successful NUMA node read from SysFS had negative value (-1), but there must be at least one NUMA node, so returning NUMA node zero\n",
      "2022-07-13 11:59:08.073053: I tensorflow/stream_executor/cuda/cuda_gpu_executor.cc:937] successful NUMA node read from SysFS had negative value (-1), but there must be at least one NUMA node, so returning NUMA node zero\n",
      "2022-07-13 11:59:08.073857: I tensorflow/stream_executor/cuda/cuda_gpu_executor.cc:937] successful NUMA node read from SysFS had negative value (-1), but there must be at least one NUMA node, so returning NUMA node zero\n",
      "2022-07-13 11:59:08.075169: I tensorflow/core/platform/cpu_feature_guard.cc:142] This TensorFlow binary is optimized with oneAPI Deep Neural Network Library (oneDNN) to use the following CPU instructions in performance-critical operations:  AVX2 AVX512F FMA\n",
      "To enable them in other operations, rebuild TensorFlow with the appropriate compiler flags.\n",
      "2022-07-13 11:59:08.075509: I tensorflow/stream_executor/cuda/cuda_gpu_executor.cc:937] successful NUMA node read from SysFS had negative value (-1), but there must be at least one NUMA node, so returning NUMA node zero\n",
      "2022-07-13 11:59:08.076344: I tensorflow/stream_executor/cuda/cuda_gpu_executor.cc:937] successful NUMA node read from SysFS had negative value (-1), but there must be at least one NUMA node, so returning NUMA node zero\n",
      "2022-07-13 11:59:08.077030: I tensorflow/stream_executor/cuda/cuda_gpu_executor.cc:937] successful NUMA node read from SysFS had negative value (-1), but there must be at least one NUMA node, so returning NUMA node zero\n",
      "2022-07-13 11:59:10.474397: I tensorflow/stream_executor/cuda/cuda_gpu_executor.cc:937] successful NUMA node read from SysFS had negative value (-1), but there must be at least one NUMA node, so returning NUMA node zero\n",
      "2022-07-13 11:59:10.475287: I tensorflow/stream_executor/cuda/cuda_gpu_executor.cc:937] successful NUMA node read from SysFS had negative value (-1), but there must be at least one NUMA node, so returning NUMA node zero\n",
      "2022-07-13 11:59:10.475982: I tensorflow/stream_executor/cuda/cuda_gpu_executor.cc:937] successful NUMA node read from SysFS had negative value (-1), but there must be at least one NUMA node, so returning NUMA node zero\n",
      "2022-07-13 11:59:10.476617: I tensorflow/core/common_runtime/gpu/gpu_device.cc:1510] Created device /job:localhost/replica:0/task:0/device:GPU:0 with 15403 MB memory:  -> device: 0, name: Tesla P100-PCIE-16GB, pci bus id: 0000:00:04.0, compute capability: 6.0\n",
      "2022-07-13 11:59:11.150624: I tensorflow/compiler/mlir/mlir_graph_optimization_pass.cc:185] None of the MLIR Optimization Passes are enabled (registered 2)\n",
      "2022-07-13 11:59:12.631762: I tensorflow/stream_executor/cuda/cuda_dnn.cc:369] Loaded cuDNN version 8005\n"
     ]
    },
    {
     "name": "stdout",
     "output_type": "stream",
     "text": [
      "1050/1050 [==============================] - 3s 3ms/step - loss: 0.0557 - acc: 0.9818\n"
     ]
    },
    {
     "name": "stderr",
     "output_type": "stream",
     "text": [
      "\u001b[32m[I 2022-07-13 11:59:43,624]\u001b[0m Trial 0 finished with value: 0.01904761791229248 and parameters: {'num_layer': 5, 'mid_units': 100.0, 'num_filter_0': 32.0, 'num_filter_1': 96.0, 'num_filter_2': 16.0, 'num_filter_3': 48.0, 'num_filter_4': 32.0, 'dropout_rate0': 0.27828689284181335, 'dropout_rate1': 0.37117361529060827, 'optimizer': 'sgd'}. Best is trial 0 with value: 0.01904761791229248.\u001b[0m\n"
     ]
    },
    {
     "name": "stdout",
     "output_type": "stream",
     "text": [
      "accuracy=0.055711522698402405\n",
      "1050/1050 [==============================] - 3s 3ms/step - loss: 0.0203 - acc: 0.9942\n"
     ]
    },
    {
     "name": "stderr",
     "output_type": "stream",
     "text": [
      "\u001b[32m[I 2022-07-13 12:00:15,319]\u001b[0m Trial 1 finished with value: 0.016071438789367676 and parameters: {'num_layer': 3, 'mid_units': 200.0, 'num_filter_0': 32.0, 'num_filter_1': 112.0, 'num_filter_2': 112.0, 'dropout_rate0': 0.00935901243384435, 'dropout_rate1': 0.07322258226942924, 'optimizer': 'adam'}. Best is trial 1 with value: 0.016071438789367676.\u001b[0m\n"
     ]
    },
    {
     "name": "stdout",
     "output_type": "stream",
     "text": [
      "accuracy=0.02030150592327118\n",
      "1050/1050 [==============================] - 3s 3ms/step - loss: 0.0218 - acc: 0.9947\n"
     ]
    },
    {
     "name": "stderr",
     "output_type": "stream",
     "text": [
      "\u001b[32m[I 2022-07-13 12:00:44,438]\u001b[0m Trial 2 finished with value: 0.011904776096343994 and parameters: {'num_layer': 4, 'mid_units': 100.0, 'num_filter_0': 16.0, 'num_filter_1': 64.0, 'num_filter_2': 128.0, 'num_filter_3': 64.0, 'dropout_rate0': 0.1788223437062113, 'dropout_rate1': 0.11550078007494952, 'optimizer': 'adam'}. Best is trial 2 with value: 0.011904776096343994.\u001b[0m\n"
     ]
    },
    {
     "name": "stdout",
     "output_type": "stream",
     "text": [
      "accuracy=0.021754369139671326\n",
      "1050/1050 [==============================] - 3s 2ms/step - loss: 0.0194 - acc: 0.9941\n"
     ]
    },
    {
     "name": "stderr",
     "output_type": "stream",
     "text": [
      "\u001b[32m[I 2022-07-13 12:01:10,276]\u001b[0m Trial 3 finished with value: 0.013095259666442871 and parameters: {'num_layer': 2, 'mid_units': 300.0, 'num_filter_0': 96.0, 'num_filter_1': 80.0, 'dropout_rate0': 0.3970480853552237, 'dropout_rate1': 0.31075617390899396, 'optimizer': 'adam'}. Best is trial 2 with value: 0.011904776096343994.\u001b[0m\n"
     ]
    },
    {
     "name": "stdout",
     "output_type": "stream",
     "text": [
      "accuracy=0.019375115633010864\n",
      "1050/1050 [==============================] - 3s 3ms/step - loss: 0.0066 - acc: 0.9987\n"
     ]
    },
    {
     "name": "stderr",
     "output_type": "stream",
     "text": [
      "\u001b[32m[I 2022-07-13 12:01:46,724]\u001b[0m Trial 4 finished with value: 0.00952380895614624 and parameters: {'num_layer': 5, 'mid_units': 200.0, 'num_filter_0': 64.0, 'num_filter_1': 112.0, 'num_filter_2': 32.0, 'num_filter_3': 48.0, 'num_filter_4': 80.0, 'dropout_rate0': 0.1886175667881292, 'dropout_rate1': 0.08239516787835971, 'optimizer': 'sgd'}. Best is trial 4 with value: 0.00952380895614624.\u001b[0m\n"
     ]
    },
    {
     "name": "stdout",
     "output_type": "stream",
     "text": [
      "accuracy=0.006602724082767963\n",
      "1050/1050 [==============================] - 3s 3ms/step - loss: 0.0104 - acc: 0.9971\n"
     ]
    },
    {
     "name": "stderr",
     "output_type": "stream",
     "text": [
      "\u001b[32m[I 2022-07-13 12:02:20,410]\u001b[0m Trial 5 finished with value: 0.012499988079071045 and parameters: {'num_layer': 4, 'mid_units': 100.0, 'num_filter_0': 112.0, 'num_filter_1': 48.0, 'num_filter_2': 16.0, 'num_filter_3': 128.0, 'dropout_rate0': 0.03892494848529504, 'dropout_rate1': 0.1738371730509758, 'optimizer': 'adam'}. Best is trial 4 with value: 0.00952380895614624.\u001b[0m\n"
     ]
    },
    {
     "name": "stdout",
     "output_type": "stream",
     "text": [
      "accuracy=0.010370785370469093\n",
      "1050/1050 [==============================] - 3s 3ms/step - loss: 0.0116 - acc: 0.9962\n"
     ]
    },
    {
     "name": "stderr",
     "output_type": "stream",
     "text": [
      "\u001b[32m[I 2022-07-13 12:03:07,497]\u001b[0m Trial 6 finished with value: 0.010714292526245117 and parameters: {'num_layer': 4, 'mid_units': 100.0, 'num_filter_0': 48.0, 'num_filter_1': 16.0, 'num_filter_2': 80.0, 'num_filter_3': 80.0, 'dropout_rate0': 0.24194437479279102, 'dropout_rate1': 0.42963473010415876, 'optimizer': 'adam'}. Best is trial 4 with value: 0.00952380895614624.\u001b[0m\n"
     ]
    },
    {
     "name": "stdout",
     "output_type": "stream",
     "text": [
      "accuracy=0.011563547886908054\n",
      "1050/1050 [==============================] - 2s 2ms/step - loss: 2.3012 - acc: 0.1112\n"
     ]
    },
    {
     "name": "stderr",
     "output_type": "stream",
     "text": [
      "\u001b[32m[I 2022-07-13 12:03:25,501]\u001b[0m Trial 7 finished with value: 0.8943452388048172 and parameters: {'num_layer': 2, 'mid_units': 200.0, 'num_filter_0': 16.0, 'num_filter_1': 16.0, 'dropout_rate0': 0.09821138754053826, 'dropout_rate1': 0.1952554474644152, 'optimizer': 'sgd'}. Best is trial 4 with value: 0.00952380895614624.\u001b[0m\n"
     ]
    },
    {
     "name": "stdout",
     "output_type": "stream",
     "text": [
      "accuracy=2.301173686981201\n",
      "1050/1050 [==============================] - 3s 3ms/step - loss: nan - acc: 0.0984\n"
     ]
    },
    {
     "name": "stderr",
     "output_type": "stream",
     "text": [
      "\u001b[32m[I 2022-07-13 12:04:07,137]\u001b[0m Trial 8 finished with value: 0.9014880955219269 and parameters: {'num_layer': 5, 'mid_units': 100.0, 'num_filter_0': 64.0, 'num_filter_1': 64.0, 'num_filter_2': 112.0, 'num_filter_3': 128.0, 'num_filter_4': 32.0, 'dropout_rate0': 0.20166310242485008, 'dropout_rate1': 0.14466360189989247, 'optimizer': 'sgd'}. Best is trial 4 with value: 0.00952380895614624.\u001b[0m\n"
     ]
    },
    {
     "name": "stdout",
     "output_type": "stream",
     "text": [
      "accuracy=nan\n",
      "1050/1050 [==============================] - 3s 3ms/step - loss: 0.0214 - acc: 0.9940\n"
     ]
    },
    {
     "name": "stderr",
     "output_type": "stream",
     "text": [
      "\u001b[32m[I 2022-07-13 12:04:36,946]\u001b[0m Trial 9 finished with value: 0.014583349227905273 and parameters: {'num_layer': 2, 'mid_units': 100.0, 'num_filter_0': 112.0, 'num_filter_1': 128.0, 'dropout_rate0': 0.2749254503039769, 'dropout_rate1': 0.08005786079834637, 'optimizer': 'adam'}. Best is trial 4 with value: 0.00952380895614624.\u001b[0m\n"
     ]
    },
    {
     "name": "stdout",
     "output_type": "stream",
     "text": [
      "accuracy=0.021433278918266296\n",
      "1050/1050 [==============================] - 3s 3ms/step - loss: 0.0545 - acc: 0.9818\n"
     ]
    },
    {
     "name": "stderr",
     "output_type": "stream",
     "text": [
      "\u001b[32m[I 2022-07-13 12:05:15,347]\u001b[0m Trial 10 finished with value: 0.02529764175415039 and parameters: {'num_layer': 5, 'mid_units': 300.0, 'num_filter_0': 80.0, 'num_filter_1': 128.0, 'num_filter_2': 48.0, 'num_filter_3': 16.0, 'num_filter_4': 128.0, 'dropout_rate0': 0.46951993866173025, 'dropout_rate1': 0.0007535036249653876, 'optimizer': 'sgd'}. Best is trial 4 with value: 0.00952380895614624.\u001b[0m\n"
     ]
    },
    {
     "name": "stdout",
     "output_type": "stream",
     "text": [
      "accuracy=0.05445941910147667\n",
      "1050/1050 [==============================] - 3s 3ms/step - loss: 0.0210 - acc: 0.9933\n"
     ]
    },
    {
     "name": "stderr",
     "output_type": "stream",
     "text": [
      "\u001b[32m[I 2022-07-13 12:06:02,591]\u001b[0m Trial 11 finished with value: 0.01220238208770752 and parameters: {'num_layer': 4, 'mid_units': 200.0, 'num_filter_0': 64.0, 'num_filter_1': 16.0, 'num_filter_2': 64.0, 'num_filter_3': 80.0, 'dropout_rate0': 0.3566080423713403, 'dropout_rate1': 0.4958865498669879, 'optimizer': 'sgd'}. Best is trial 4 with value: 0.00952380895614624.\u001b[0m\n"
     ]
    },
    {
     "name": "stdout",
     "output_type": "stream",
     "text": [
      "accuracy=0.02101047895848751\n",
      "1050/1050 [==============================] - 3s 3ms/step - loss: 0.0123 - acc: 0.9959\n"
     ]
    },
    {
     "name": "stderr",
     "output_type": "stream",
     "text": [
      "\u001b[32m[I 2022-07-13 12:06:26,444]\u001b[0m Trial 12 finished with value: 0.014285743236541748 and parameters: {'num_layer': 3, 'mid_units': 200.0, 'num_filter_0': 48.0, 'num_filter_1': 32.0, 'num_filter_2': 80.0, 'dropout_rate0': 0.1471837048080266, 'dropout_rate1': 0.4961261031874953, 'optimizer': 'adam'}. Best is trial 4 with value: 0.00952380895614624.\u001b[0m\n"
     ]
    },
    {
     "name": "stdout",
     "output_type": "stream",
     "text": [
      "accuracy=0.01230879221111536\n",
      "1050/1050 [==============================] - 3s 3ms/step - loss: 0.0104 - acc: 0.9972\n"
     ]
    },
    {
     "name": "stderr",
     "output_type": "stream",
     "text": [
      "\u001b[32m[I 2022-07-13 12:07:08,457]\u001b[0m Trial 13 finished with value: 0.008630931377410889 and parameters: {'num_layer': 5, 'mid_units': 300.0, 'num_filter_0': 80.0, 'num_filter_1': 96.0, 'num_filter_2': 48.0, 'num_filter_3': 80.0, 'num_filter_4': 96.0, 'dropout_rate0': 0.24369956454349437, 'dropout_rate1': 0.3763178247531169, 'optimizer': 'sgd'}. Best is trial 13 with value: 0.008630931377410889.\u001b[0m\n"
     ]
    },
    {
     "name": "stdout",
     "output_type": "stream",
     "text": [
      "accuracy=0.010404914617538452\n",
      "1050/1050 [==============================] - 3s 3ms/step - loss: 0.0116 - acc: 0.9968\n"
     ]
    },
    {
     "name": "stderr",
     "output_type": "stream",
     "text": [
      "\u001b[32m[I 2022-07-13 12:07:44,020]\u001b[0m Trial 14 finished with value: 0.008630931377410889 and parameters: {'num_layer': 5, 'mid_units': 300.0, 'num_filter_0': 80.0, 'num_filter_1': 96.0, 'num_filter_2': 48.0, 'num_filter_3': 32.0, 'num_filter_4': 96.0, 'dropout_rate0': 0.32349154315634765, 'dropout_rate1': 0.2737106654921644, 'optimizer': 'sgd'}. Best is trial 13 with value: 0.008630931377410889.\u001b[0m\n"
     ]
    },
    {
     "name": "stdout",
     "output_type": "stream",
     "text": [
      "accuracy=0.011624664068222046\n",
      "1050/1050 [==============================] - 3s 3ms/step - loss: 0.0242 - acc: 0.9923\n"
     ]
    },
    {
     "name": "stderr",
     "output_type": "stream",
     "text": [
      "\u001b[32m[I 2022-07-13 12:08:22,254]\u001b[0m Trial 15 finished with value: 0.013988077640533447 and parameters: {'num_layer': 5, 'mid_units': 300.0, 'num_filter_0': 128.0, 'num_filter_1': 96.0, 'num_filter_2': 48.0, 'num_filter_3': 16.0, 'num_filter_4': 96.0, 'dropout_rate0': 0.3513930049900553, 'dropout_rate1': 0.2677577374749554, 'optimizer': 'sgd'}. Best is trial 13 with value: 0.008630931377410889.\u001b[0m\n"
     ]
    },
    {
     "name": "stdout",
     "output_type": "stream",
     "text": [
      "accuracy=0.0241529680788517\n",
      "1050/1050 [==============================] - 4s 3ms/step - loss: 0.0071 - acc: 0.9981\n"
     ]
    },
    {
     "name": "stderr",
     "output_type": "stream",
     "text": [
      "\u001b[32m[I 2022-07-13 12:09:06,992]\u001b[0m Trial 16 finished with value: 0.008630931377410889 and parameters: {'num_layer': 5, 'mid_units': 300.0, 'num_filter_0': 96.0, 'num_filter_1': 80.0, 'num_filter_2': 48.0, 'num_filter_3': 96.0, 'num_filter_4': 112.0, 'dropout_rate0': 0.32411147507735427, 'dropout_rate1': 0.3467625400877427, 'optimizer': 'sgd'}. Best is trial 13 with value: 0.008630931377410889.\u001b[0m\n"
     ]
    },
    {
     "name": "stdout",
     "output_type": "stream",
     "text": [
      "accuracy=0.007140865549445152\n",
      "1050/1050 [==============================] - 3s 3ms/step - loss: nan - acc: 0.0984\n"
     ]
    },
    {
     "name": "stderr",
     "output_type": "stream",
     "text": [
      "\u001b[32m[I 2022-07-13 12:09:38,566]\u001b[0m Trial 17 finished with value: 0.9014880955219269 and parameters: {'num_layer': 3, 'mid_units': 300.0, 'num_filter_0': 96.0, 'num_filter_1': 80.0, 'num_filter_2': 64.0, 'dropout_rate0': 0.47036594980948154, 'dropout_rate1': 0.25594936670384083, 'optimizer': 'sgd'}. Best is trial 13 with value: 0.008630931377410889.\u001b[0m\n"
     ]
    },
    {
     "name": "stdout",
     "output_type": "stream",
     "text": [
      "accuracy=nan\n",
      "1050/1050 [==============================] - 4s 3ms/step - loss: nan - acc: 0.0984\n"
     ]
    },
    {
     "name": "stderr",
     "output_type": "stream",
     "text": [
      "\u001b[32m[I 2022-07-13 12:10:09,040]\u001b[0m Trial 18 finished with value: 0.9014880955219269 and parameters: {'num_layer': 4, 'mid_units': 300.0, 'num_filter_0': 96.0, 'num_filter_1': 48.0, 'num_filter_2': 32.0, 'num_filter_3': 96.0, 'dropout_rate0': 0.41368552424466065, 'dropout_rate1': 0.36000906784955633, 'optimizer': 'sgd'}. Best is trial 13 with value: 0.008630931377410889.\u001b[0m\n"
     ]
    },
    {
     "name": "stdout",
     "output_type": "stream",
     "text": [
      "accuracy=nan\n",
      "1050/1050 [==============================] - 3s 3ms/step - loss: 0.0166 - acc: 0.9951\n"
     ]
    },
    {
     "name": "stderr",
     "output_type": "stream",
     "text": [
      "\u001b[32m[I 2022-07-13 12:11:35,309]\u001b[0m Trial 19 finished with value: 0.010416686534881592 and parameters: {'num_layer': 5, 'mid_units': 300.0, 'num_filter_0': 128.0, 'num_filter_1': 80.0, 'num_filter_2': 96.0, 'num_filter_3': 112.0, 'num_filter_4': 128.0, 'dropout_rate0': 0.3186770591076369, 'dropout_rate1': 0.313485679046627, 'optimizer': 'sgd'}. Best is trial 13 with value: 0.008630931377410889.\u001b[0m\n"
     ]
    },
    {
     "name": "stdout",
     "output_type": "stream",
     "text": [
      "accuracy=0.016571316868066788\n",
      "1050/1050 [==============================] - 3s 3ms/step - loss: 2.3012 - acc: 0.1115\n"
     ]
    },
    {
     "name": "stderr",
     "output_type": "stream",
     "text": [
      "\u001b[32m[I 2022-07-13 12:12:11,908]\u001b[0m Trial 20 finished with value: 0.8940476179122925 and parameters: {'num_layer': 4, 'mid_units': 300.0, 'num_filter_0': 112.0, 'num_filter_1': 112.0, 'num_filter_2': 32.0, 'num_filter_3': 48.0, 'dropout_rate0': 0.40948739966684566, 'dropout_rate1': 0.21524158571089883, 'optimizer': 'sgd'}. Best is trial 13 with value: 0.008630931377410889.\u001b[0m\n"
     ]
    },
    {
     "name": "stdout",
     "output_type": "stream",
     "text": [
      "accuracy=2.3012099266052246\n",
      "1050/1050 [==============================] - 3s 3ms/step - loss: 0.0077 - acc: 0.9980\n"
     ]
    },
    {
     "name": "stderr",
     "output_type": "stream",
     "text": [
      "\u001b[32m[I 2022-07-13 12:12:56,818]\u001b[0m Trial 21 finished with value: 0.009226202964782715 and parameters: {'num_layer': 5, 'mid_units': 300.0, 'num_filter_0': 80.0, 'num_filter_1': 96.0, 'num_filter_2': 48.0, 'num_filter_3': 96.0, 'num_filter_4': 96.0, 'dropout_rate0': 0.3093524030515883, 'dropout_rate1': 0.39931439142186764, 'optimizer': 'sgd'}. Best is trial 13 with value: 0.008630931377410889.\u001b[0m\n"
     ]
    },
    {
     "name": "stdout",
     "output_type": "stream",
     "text": [
      "accuracy=0.007679165340960026\n",
      "1050/1050 [==============================] - 3s 3ms/step - loss: 0.0139 - acc: 0.9958\n"
     ]
    },
    {
     "name": "stderr",
     "output_type": "stream",
     "text": [
      "\u001b[32m[I 2022-07-13 12:13:41,754]\u001b[0m Trial 22 finished with value: 0.009226202964782715 and parameters: {'num_layer': 5, 'mid_units': 300.0, 'num_filter_0': 80.0, 'num_filter_1': 96.0, 'num_filter_2': 64.0, 'num_filter_3': 96.0, 'num_filter_4': 96.0, 'dropout_rate0': 0.23260310243265053, 'dropout_rate1': 0.31367442523968575, 'optimizer': 'sgd'}. Best is trial 13 with value: 0.008630931377410889.\u001b[0m\n"
     ]
    },
    {
     "name": "stdout",
     "output_type": "stream",
     "text": [
      "accuracy=0.013866842724382877\n",
      "1050/1050 [==============================] - 3s 3ms/step - loss: 0.0106 - acc: 0.9970\n"
     ]
    },
    {
     "name": "stderr",
     "output_type": "stream",
     "text": [
      "\u001b[32m[I 2022-07-13 12:14:20,545]\u001b[0m Trial 23 finished with value: 0.008333325386047363 and parameters: {'num_layer': 5, 'mid_units': 300.0, 'num_filter_0': 96.0, 'num_filter_1': 64.0, 'num_filter_2': 48.0, 'num_filter_3': 64.0, 'num_filter_4': 112.0, 'dropout_rate0': 0.32956551803058176, 'dropout_rate1': 0.43599129112490237, 'optimizer': 'sgd'}. Best is trial 23 with value: 0.008333325386047363.\u001b[0m\n"
     ]
    },
    {
     "name": "stdout",
     "output_type": "stream",
     "text": [
      "accuracy=0.010574462823569775\n",
      "1050/1050 [==============================] - 3s 3ms/step - loss: 0.0692 - acc: 0.9765\n"
     ]
    },
    {
     "name": "stderr",
     "output_type": "stream",
     "text": [
      "\u001b[32m[I 2022-07-13 12:14:54,267]\u001b[0m Trial 24 finished with value: 0.02767854928970337 and parameters: {'num_layer': 5, 'mid_units': 200.0, 'num_filter_0': 96.0, 'num_filter_1': 64.0, 'num_filter_2': 32.0, 'num_filter_3': 32.0, 'num_filter_4': 112.0, 'dropout_rate0': 0.349506897462051, 'dropout_rate1': 0.44111619794056595, 'optimizer': 'sgd'}. Best is trial 23 with value: 0.008333325386047363.\u001b[0m\n"
     ]
    },
    {
     "name": "stdout",
     "output_type": "stream",
     "text": [
      "accuracy=0.06918742507696152\n",
      "1050/1050 [==============================] - 3s 3ms/step - loss: nan - acc: 0.0984\n"
     ]
    },
    {
     "name": "stderr",
     "output_type": "stream",
     "text": [
      "\u001b[32m[I 2022-07-13 12:15:26,509]\u001b[0m Trial 25 finished with value: 0.9014880955219269 and parameters: {'num_layer': 4, 'mid_units': 300.0, 'num_filter_0': 112.0, 'num_filter_1': 48.0, 'num_filter_2': 64.0, 'num_filter_3': 64.0, 'dropout_rate0': 0.2952293826657609, 'dropout_rate1': 0.4368266333121822, 'optimizer': 'sgd'}. Best is trial 23 with value: 0.008333325386047363.\u001b[0m\n"
     ]
    },
    {
     "name": "stdout",
     "output_type": "stream",
     "text": [
      "accuracy=nan\n",
      "1050/1050 [==============================] - 3s 3ms/step - loss: nan - acc: 0.0984\n"
     ]
    },
    {
     "name": "stderr",
     "output_type": "stream",
     "text": [
      "\u001b[32m[I 2022-07-13 12:16:02,935]\u001b[0m Trial 26 finished with value: 0.9014880955219269 and parameters: {'num_layer': 5, 'mid_units': 300.0, 'num_filter_0': 96.0, 'num_filter_1': 80.0, 'num_filter_2': 48.0, 'num_filter_3': 32.0, 'num_filter_4': 64.0, 'dropout_rate0': 0.3803509553033356, 'dropout_rate1': 0.28946943025877847, 'optimizer': 'sgd'}. Best is trial 23 with value: 0.008333325386047363.\u001b[0m\n"
     ]
    },
    {
     "name": "stdout",
     "output_type": "stream",
     "text": [
      "accuracy=nan\n",
      "1050/1050 [==============================] - 3s 3ms/step - loss: nan - acc: 0.0984\n"
     ]
    },
    {
     "name": "stderr",
     "output_type": "stream",
     "text": [
      "\u001b[32m[I 2022-07-13 12:16:40,214]\u001b[0m Trial 27 finished with value: 0.9014880955219269 and parameters: {'num_layer': 4, 'mid_units': 300.0, 'num_filter_0': 80.0, 'num_filter_1': 112.0, 'num_filter_2': 80.0, 'num_filter_3': 64.0, 'dropout_rate0': 0.25229944103325397, 'dropout_rate1': 0.38760421821770524, 'optimizer': 'sgd'}. Best is trial 23 with value: 0.008333325386047363.\u001b[0m\n"
     ]
    },
    {
     "name": "stdout",
     "output_type": "stream",
     "text": [
      "accuracy=nan\n",
      "1050/1050 [==============================] - 3s 3ms/step - loss: 0.0218 - acc: 0.9930\n"
     ]
    },
    {
     "name": "stderr",
     "output_type": "stream",
     "text": [
      "\u001b[32m[I 2022-07-13 12:17:27,268]\u001b[0m Trial 28 finished with value: 0.009821414947509766 and parameters: {'num_layer': 5, 'mid_units': 200.0, 'num_filter_0': 48.0, 'num_filter_1': 96.0, 'num_filter_2': 16.0, 'num_filter_3': 32.0, 'num_filter_4': 64.0, 'dropout_rate0': 0.43191258655768405, 'dropout_rate1': 0.47237598949561105, 'optimizer': 'sgd'}. Best is trial 23 with value: 0.008333325386047363.\u001b[0m\n"
     ]
    },
    {
     "name": "stdout",
     "output_type": "stream",
     "text": [
      "accuracy=0.021775806322693825\n",
      "1050/1050 [==============================] - 3s 3ms/step - loss: 0.0111 - acc: 0.9969\n"
     ]
    },
    {
     "name": "stderr",
     "output_type": "stream",
     "text": [
      "\u001b[32m[I 2022-07-13 12:18:09,290]\u001b[0m Trial 29 finished with value: 0.0077381134033203125 and parameters: {'num_layer': 5, 'mid_units': 300.0, 'num_filter_0': 112.0, 'num_filter_1': 64.0, 'num_filter_2': 32.0, 'num_filter_3': 112.0, 'num_filter_4': 112.0, 'dropout_rate0': 0.3274558427776527, 'dropout_rate1': 0.36377494600940175, 'optimizer': 'sgd'}. Best is trial 29 with value: 0.0077381134033203125.\u001b[0m\n"
     ]
    },
    {
     "name": "stdout",
     "output_type": "stream",
     "text": [
      "accuracy=0.011062217876315117\n",
      "1050/1050 [==============================] - 3s 2ms/step - loss: nan - acc: 0.0984\n"
     ]
    },
    {
     "name": "stderr",
     "output_type": "stream",
     "text": [
      "\u001b[32m[I 2022-07-13 12:18:37,671]\u001b[0m Trial 30 finished with value: 0.9014880955219269 and parameters: {'num_layer': 3, 'mid_units': 200.0, 'num_filter_0': 128.0, 'num_filter_1': 32.0, 'num_filter_2': 32.0, 'dropout_rate0': 0.49923155956667914, 'dropout_rate1': 0.34490589910736025, 'optimizer': 'sgd'}. Best is trial 29 with value: 0.0077381134033203125.\u001b[0m\n"
     ]
    },
    {
     "name": "stdout",
     "output_type": "stream",
     "text": [
      "accuracy=nan\n",
      "1050/1050 [==============================] - 3s 3ms/step - loss: 0.0074 - acc: 0.9982\n"
     ]
    },
    {
     "name": "stderr",
     "output_type": "stream",
     "text": [
      "\u001b[32m[I 2022-07-13 12:19:24,111]\u001b[0m Trial 31 finished with value: 0.007440447807312012 and parameters: {'num_layer': 5, 'mid_units': 300.0, 'num_filter_0': 112.0, 'num_filter_1': 64.0, 'num_filter_2': 48.0, 'num_filter_3': 112.0, 'num_filter_4': 112.0, 'dropout_rate0': 0.2789296733100679, 'dropout_rate1': 0.40562913428407965, 'optimizer': 'sgd'}. Best is trial 31 with value: 0.007440447807312012.\u001b[0m\n"
     ]
    },
    {
     "name": "stdout",
     "output_type": "stream",
     "text": [
      "accuracy=0.007376879453659058\n",
      "1050/1050 [==============================] - 4s 3ms/step - loss: 0.0097 - acc: 0.9974\n"
     ]
    },
    {
     "name": "stderr",
     "output_type": "stream",
     "text": [
      "\u001b[32m[I 2022-07-13 12:20:06,569]\u001b[0m Trial 32 finished with value: 0.007440447807312012 and parameters: {'num_layer': 5, 'mid_units': 300.0, 'num_filter_0': 112.0, 'num_filter_1': 64.0, 'num_filter_2': 32.0, 'num_filter_3': 112.0, 'num_filter_4': 112.0, 'dropout_rate0': 0.27891623961126855, 'dropout_rate1': 0.41139563960080644, 'optimizer': 'sgd'}. Best is trial 31 with value: 0.007440447807312012.\u001b[0m\n"
     ]
    },
    {
     "name": "stdout",
     "output_type": "stream",
     "text": [
      "accuracy=0.009734012186527252\n",
      "1050/1050 [==============================] - 3s 3ms/step - loss: 0.0184 - acc: 0.9943\n"
     ]
    },
    {
     "name": "stderr",
     "output_type": "stream",
     "text": [
      "\u001b[32m[I 2022-07-13 12:20:47,855]\u001b[0m Trial 33 finished with value: 0.010714292526245117 and parameters: {'num_layer': 5, 'mid_units': 300.0, 'num_filter_0': 112.0, 'num_filter_1': 64.0, 'num_filter_2': 16.0, 'num_filter_3': 112.0, 'num_filter_4': 112.0, 'dropout_rate0': 0.2882242687398962, 'dropout_rate1': 0.4097686940956778, 'optimizer': 'sgd'}. Best is trial 31 with value: 0.007440447807312012.\u001b[0m\n"
     ]
    },
    {
     "name": "stdout",
     "output_type": "stream",
     "text": [
      "accuracy=0.018354598432779312\n",
      "1050/1050 [==============================] - 4s 3ms/step - loss: 0.0487 - acc: 0.9846\n"
     ]
    },
    {
     "name": "stderr",
     "output_type": "stream",
     "text": [
      "\u001b[32m[I 2022-07-13 12:21:33,241]\u001b[0m Trial 34 finished with value: 0.020833313465118408 and parameters: {'num_layer': 5, 'mid_units': 300.0, 'num_filter_0': 128.0, 'num_filter_1': 48.0, 'num_filter_2': 32.0, 'num_filter_3': 112.0, 'num_filter_4': 128.0, 'dropout_rate0': 0.26429421039991374, 'dropout_rate1': 0.4601310391768561, 'optimizer': 'sgd'}. Best is trial 31 with value: 0.007440447807312012.\u001b[0m\n"
     ]
    },
    {
     "name": "stdout",
     "output_type": "stream",
     "text": [
      "accuracy=0.04871976375579834\n",
      "1050/1050 [==============================] - 3s 3ms/step - loss: 0.0266 - acc: 0.9918\n"
     ]
    },
    {
     "name": "stderr",
     "output_type": "stream",
     "text": [
      "\u001b[32m[I 2022-07-13 12:22:08,273]\u001b[0m Trial 35 finished with value: 0.016666650772094727 and parameters: {'num_layer': 4, 'mid_units': 300.0, 'num_filter_0': 112.0, 'num_filter_1': 64.0, 'num_filter_2': 16.0, 'num_filter_3': 128.0, 'dropout_rate0': 0.20967400245494186, 'dropout_rate1': 0.41744316821700866, 'optimizer': 'sgd'}. Best is trial 31 with value: 0.007440447807312012.\u001b[0m\n"
     ]
    },
    {
     "name": "stdout",
     "output_type": "stream",
     "text": [
      "accuracy=0.026608657091856003\n",
      "1050/1050 [==============================] - 3s 3ms/step - loss: 0.0084 - acc: 0.9974\n"
     ]
    },
    {
     "name": "stderr",
     "output_type": "stream",
     "text": [
      "\u001b[32m[I 2022-07-13 12:22:52,085]\u001b[0m Trial 36 finished with value: 0.009226202964782715 and parameters: {'num_layer': 5, 'mid_units': 300.0, 'num_filter_0': 112.0, 'num_filter_1': 48.0, 'num_filter_2': 32.0, 'num_filter_3': 112.0, 'num_filter_4': 112.0, 'dropout_rate0': 0.36948772664672336, 'dropout_rate1': 0.4607946776368102, 'optimizer': 'adam'}. Best is trial 31 with value: 0.007440447807312012.\u001b[0m\n"
     ]
    },
    {
     "name": "stdout",
     "output_type": "stream",
     "text": [
      "accuracy=0.008361930027604103\n",
      "1050/1050 [==============================] - 3s 3ms/step - loss: 0.0286 - acc: 0.9912\n"
     ]
    },
    {
     "name": "stderr",
     "output_type": "stream",
     "text": [
      "\u001b[32m[I 2022-07-13 12:23:25,307]\u001b[0m Trial 37 finished with value: 0.01815474033355713 and parameters: {'num_layer': 4, 'mid_units': 200.0, 'num_filter_0': 128.0, 'num_filter_1': 64.0, 'num_filter_2': 16.0, 'num_filter_3': 112.0, 'dropout_rate0': 0.1557714409517426, 'dropout_rate1': 0.3326309474271047, 'optimizer': 'sgd'}. Best is trial 31 with value: 0.007440447807312012.\u001b[0m\n"
     ]
    },
    {
     "name": "stdout",
     "output_type": "stream",
     "text": [
      "accuracy=0.02861255407333374\n",
      "1050/1050 [==============================] - 3s 3ms/step - loss: 0.0122 - acc: 0.9963\n"
     ]
    },
    {
     "name": "stderr",
     "output_type": "stream",
     "text": [
      "\u001b[32m[I 2022-07-13 12:24:08,999]\u001b[0m Trial 38 finished with value: 0.011309504508972168 and parameters: {'num_layer': 5, 'mid_units': 300.0, 'num_filter_0': 112.0, 'num_filter_1': 32.0, 'num_filter_2': 64.0, 'num_filter_3': 128.0, 'num_filter_4': 112.0, 'dropout_rate0': 0.3411747541267805, 'dropout_rate1': 0.3711595962830644, 'optimizer': 'adam'}. Best is trial 31 with value: 0.007440447807312012.\u001b[0m\n"
     ]
    },
    {
     "name": "stdout",
     "output_type": "stream",
     "text": [
      "accuracy=0.01220799796283245\n",
      "1050/1050 [==============================] - 3s 3ms/step - loss: 0.0099 - acc: 0.9972\n"
     ]
    },
    {
     "name": "stderr",
     "output_type": "stream",
     "text": [
      "\u001b[32m[I 2022-07-13 12:24:47,638]\u001b[0m Trial 39 finished with value: 0.0077381134033203125 and parameters: {'num_layer': 5, 'mid_units': 200.0, 'num_filter_0': 96.0, 'num_filter_1': 64.0, 'num_filter_2': 32.0, 'num_filter_3': 96.0, 'num_filter_4': 80.0, 'dropout_rate0': 0.2899986912679905, 'dropout_rate1': 0.3958480531091827, 'optimizer': 'sgd'}. Best is trial 31 with value: 0.007440447807312012.\u001b[0m\n"
     ]
    },
    {
     "name": "stdout",
     "output_type": "stream",
     "text": [
      "accuracy=0.009921826422214508\n",
      "1050/1050 [==============================] - 3s 3ms/step - loss: 0.0139 - acc: 0.9956\n"
     ]
    },
    {
     "name": "stderr",
     "output_type": "stream",
     "text": [
      "\u001b[32m[I 2022-07-13 12:25:20,413]\u001b[0m Trial 40 finished with value: 0.01279759407043457 and parameters: {'num_layer': 4, 'mid_units': 200.0, 'num_filter_0': 128.0, 'num_filter_1': 48.0, 'num_filter_2': 32.0, 'num_filter_3': 96.0, 'dropout_rate0': 0.21333830950204882, 'dropout_rate1': 0.22280809928055914, 'optimizer': 'adam'}. Best is trial 31 with value: 0.007440447807312012.\u001b[0m\n"
     ]
    },
    {
     "name": "stdout",
     "output_type": "stream",
     "text": [
      "accuracy=0.013903931714594364\n",
      "1050/1050 [==============================] - 3s 3ms/step - loss: 0.0132 - acc: 0.9963\n"
     ]
    },
    {
     "name": "stderr",
     "output_type": "stream",
     "text": [
      "\u001b[32m[I 2022-07-13 12:25:57,135]\u001b[0m Trial 41 finished with value: 0.010714292526245117 and parameters: {'num_layer': 5, 'mid_units': 200.0, 'num_filter_0': 96.0, 'num_filter_1': 64.0, 'num_filter_2': 16.0, 'num_filter_3': 112.0, 'num_filter_4': 80.0, 'dropout_rate0': 0.283463857365715, 'dropout_rate1': 0.39611577328599445, 'optimizer': 'sgd'}. Best is trial 31 with value: 0.007440447807312012.\u001b[0m\n"
     ]
    },
    {
     "name": "stdout",
     "output_type": "stream",
     "text": [
      "accuracy=0.013209600932896137\n",
      "1050/1050 [==============================] - 4s 3ms/step - loss: 0.0154 - acc: 0.9956\n"
     ]
    },
    {
     "name": "stderr",
     "output_type": "stream",
     "text": [
      "\u001b[32m[I 2022-07-13 12:26:38,280]\u001b[0m Trial 42 finished with value: 0.00952380895614624 and parameters: {'num_layer': 5, 'mid_units': 200.0, 'num_filter_0': 96.0, 'num_filter_1': 64.0, 'num_filter_2': 48.0, 'num_filter_3': 80.0, 'num_filter_4': 128.0, 'dropout_rate0': 0.305454407893571, 'dropout_rate1': 0.42944248803905205, 'optimizer': 'sgd'}. Best is trial 31 with value: 0.007440447807312012.\u001b[0m\n"
     ]
    },
    {
     "name": "stdout",
     "output_type": "stream",
     "text": [
      "accuracy=0.015353252179920673\n",
      "1050/1050 [==============================] - 3s 3ms/step - loss: 0.0136 - acc: 0.9960\n"
     ]
    },
    {
     "name": "stderr",
     "output_type": "stream",
     "text": [
      "\u001b[32m[I 2022-07-13 12:27:22,316]\u001b[0m Trial 43 finished with value: 0.00952380895614624 and parameters: {'num_layer': 5, 'mid_units': 200.0, 'num_filter_0': 112.0, 'num_filter_1': 80.0, 'num_filter_2': 32.0, 'num_filter_3': 96.0, 'num_filter_4': 112.0, 'dropout_rate0': 0.38897006392919725, 'dropout_rate1': 0.4537881258916776, 'optimizer': 'sgd'}. Best is trial 31 with value: 0.007440447807312012.\u001b[0m\n"
     ]
    },
    {
     "name": "stdout",
     "output_type": "stream",
     "text": [
      "accuracy=0.013585374690592289\n",
      "1050/1050 [==============================] - 3s 3ms/step - loss: 0.0513 - acc: 0.9827\n"
     ]
    },
    {
     "name": "stderr",
     "output_type": "stream",
     "text": [
      "\u001b[32m[I 2022-07-13 12:28:07,416]\u001b[0m Trial 44 finished with value: 0.026488065719604492 and parameters: {'num_layer': 5, 'mid_units': 300.0, 'num_filter_0': 96.0, 'num_filter_1': 64.0, 'num_filter_2': 128.0, 'num_filter_3': 128.0, 'num_filter_4': 48.0, 'dropout_rate0': 0.26801845737039626, 'dropout_rate1': 0.47650861394302546, 'optimizer': 'sgd'}. Best is trial 31 with value: 0.007440447807312012.\u001b[0m\n"
     ]
    },
    {
     "name": "stdout",
     "output_type": "stream",
     "text": [
      "accuracy=0.0512956902384758\n",
      "1050/1050 [==============================] - 3s 2ms/step - loss: nan - acc: 0.0984\n"
     ]
    },
    {
     "name": "stderr",
     "output_type": "stream",
     "text": [
      "\u001b[32m[I 2022-07-13 12:28:51,874]\u001b[0m Trial 45 finished with value: 0.9014880955219269 and parameters: {'num_layer': 2, 'mid_units': 100.0, 'num_filter_0': 112.0, 'num_filter_1': 48.0, 'dropout_rate0': 0.16945937509107484, 'dropout_rate1': 0.41930117662592165, 'optimizer': 'sgd'}. Best is trial 31 with value: 0.007440447807312012.\u001b[0m\n"
     ]
    },
    {
     "name": "stdout",
     "output_type": "stream",
     "text": [
      "accuracy=nan\n",
      "1050/1050 [==============================] - 3s 3ms/step - loss: 0.0122 - acc: 0.9968\n"
     ]
    },
    {
     "name": "stderr",
     "output_type": "stream",
     "text": [
      "\u001b[32m[I 2022-07-13 12:29:34,757]\u001b[0m Trial 46 finished with value: 0.009821414947509766 and parameters: {'num_layer': 5, 'mid_units': 200.0, 'num_filter_0': 112.0, 'num_filter_1': 80.0, 'num_filter_2': 32.0, 'num_filter_3': 112.0, 'num_filter_4': 80.0, 'dropout_rate0': 0.11966535213492158, 'dropout_rate1': 0.38115632036106933, 'optimizer': 'sgd'}. Best is trial 31 with value: 0.007440447807312012.\u001b[0m\n"
     ]
    },
    {
     "name": "stdout",
     "output_type": "stream",
     "text": [
      "accuracy=0.012207102961838245\n",
      "1050/1050 [==============================] - 3s 3ms/step - loss: 0.0154 - acc: 0.9957\n"
     ]
    },
    {
     "name": "stderr",
     "output_type": "stream",
     "text": [
      "\u001b[32m[I 2022-07-13 12:30:12,416]\u001b[0m Trial 47 finished with value: 0.011607170104980469 and parameters: {'num_layer': 5, 'mid_units': 300.0, 'num_filter_0': 96.0, 'num_filter_1': 64.0, 'num_filter_2': 48.0, 'num_filter_3': 48.0, 'num_filter_4': 112.0, 'dropout_rate0': 0.22893857131575987, 'dropout_rate1': 0.35962032275473693, 'optimizer': 'adam'}. Best is trial 31 with value: 0.007440447807312012.\u001b[0m\n"
     ]
    },
    {
     "name": "stdout",
     "output_type": "stream",
     "text": [
      "accuracy=0.015363222919404507\n",
      "1050/1050 [==============================] - 3s 3ms/step - loss: 0.0059 - acc: 0.9985\n"
     ]
    },
    {
     "name": "stderr",
     "output_type": "stream",
     "text": [
      "\u001b[32m[I 2022-07-13 12:30:51,770]\u001b[0m Trial 48 finished with value: 0.011904776096343994 and parameters: {'num_layer': 5, 'mid_units': 300.0, 'num_filter_0': 32.0, 'num_filter_1': 80.0, 'num_filter_2': 32.0, 'num_filter_3': 128.0, 'num_filter_4': 128.0, 'dropout_rate0': 0.0030894076444860363, 'dropout_rate1': 0.33590318274969627, 'optimizer': 'sgd'}. Best is trial 31 with value: 0.007440447807312012.\u001b[0m\n"
     ]
    },
    {
     "name": "stdout",
     "output_type": "stream",
     "text": [
      "accuracy=0.0058884890750050545\n",
      "1050/1050 [==============================] - 3s 3ms/step - loss: 0.6564 - acc: 0.8184\n"
     ]
    },
    {
     "name": "stderr",
     "output_type": "stream",
     "text": [
      "\u001b[32m[I 2022-07-13 12:31:17,637]\u001b[0m Trial 49 finished with value: 0.180059552192688 and parameters: {'num_layer': 3, 'mid_units': 200.0, 'num_filter_0': 64.0, 'num_filter_1': 48.0, 'num_filter_2': 96.0, 'dropout_rate0': 0.3332313511971124, 'dropout_rate1': 0.48859252529141906, 'optimizer': 'sgd'}. Best is trial 31 with value: 0.007440447807312012.\u001b[0m\n"
     ]
    },
    {
     "name": "stdout",
     "output_type": "stream",
     "text": [
      "accuracy=0.6563836336135864\n"
     ]
    }
   ],
   "source": [
    "study = optuna.create_study()\n",
    "study.optimize(objective, n_trials=50)"
   ]
  },
  {
   "cell_type": "code",
   "execution_count": 11,
   "id": "26eaa498",
   "metadata": {
    "execution": {
     "iopub.execute_input": "2022-07-13T12:31:18.023539Z",
     "iopub.status.busy": "2022-07-13T12:31:18.023163Z",
     "iopub.status.idle": "2022-07-13T12:31:18.028441Z",
     "shell.execute_reply": "2022-07-13T12:31:18.027319Z"
    },
    "papermill": {
     "duration": 0.198951,
     "end_time": "2022-07-13T12:31:18.030805",
     "exception": false,
     "start_time": "2022-07-13T12:31:17.831854",
     "status": "completed"
    },
    "tags": []
   },
   "outputs": [],
   "source": [
    "# We can extract very valuable information from the optuna graphs, it will allow us to be more precise as to\n",
    "# which hyperparameters we should intervene and how much.\n",
    "from optuna.visualization import plot_edf\n",
    "from optuna.visualization import plot_parallel_coordinate\n",
    "from optuna.visualization import plot_param_importances\n",
    "from optuna.visualization import plot_slice"
   ]
  },
  {
   "cell_type": "code",
   "execution_count": 12,
   "id": "eeb9b452",
   "metadata": {
    "execution": {
     "iopub.execute_input": "2022-07-13T12:31:18.406790Z",
     "iopub.status.busy": "2022-07-13T12:31:18.406411Z",
     "iopub.status.idle": "2022-07-13T12:31:18.546218Z",
     "shell.execute_reply": "2022-07-13T12:31:18.545251Z"
    },
    "papermill": {
     "duration": 0.331429,
     "end_time": "2022-07-13T12:31:18.548147",
     "exception": false,
     "start_time": "2022-07-13T12:31:18.216718",
     "status": "completed"
    },
    "tags": []
   },
   "outputs": [
    {
     "data": {
      "text/html": [
       "        <script type=\"text/javascript\">\n",
       "        window.PlotlyConfig = {MathJaxConfig: 'local'};\n",
       "        if (window.MathJax && window.MathJax.Hub && window.MathJax.Hub.Config) {window.MathJax.Hub.Config({SVG: {font: \"STIX-Web\"}});}\n",
       "        if (typeof require !== 'undefined') {\n",
       "        require.undef(\"plotly\");\n",
       "        requirejs.config({\n",
       "            paths: {\n",
       "                'plotly': ['https://cdn.plot.ly/plotly-2.12.1.min']\n",
       "            }\n",
       "        });\n",
       "        require(['plotly'], function(Plotly) {\n",
       "            window._Plotly = Plotly;\n",
       "        });\n",
       "        }\n",
       "        </script>\n",
       "        "
      ]
     },
     "metadata": {},
     "output_type": "display_data"
    },
    {
     "data": {
      "text/html": [
       "<div>                            <div id=\"dcb6c2b5-d3c0-4df5-92d4-9d79d484b69d\" class=\"plotly-graph-div\" style=\"height:525px; width:100%;\"></div>            <script type=\"text/javascript\">                require([\"plotly\"], function(Plotly) {                    window.PLOTLYENV=window.PLOTLYENV || {};                                    if (document.getElementById(\"dcb6c2b5-d3c0-4df5-92d4-9d79d484b69d\")) {                    Plotly.newPlot(                        \"dcb6c2b5-d3c0-4df5-92d4-9d79d484b69d\",                        [{\"mode\":\"lines\",\"name\":\"no-name-22bea215-3881-4f87-8ade-3738d855fdef\",\"x\":[0.007440447807312012,0.016471232127661654,0.0255020164480113,0.03453280076836095,0.04356358508871059,0.05259436940906023,0.06162515372940988,0.07065593804975952,0.07968672237010917,0.08871750669045882,0.09774829101080845,0.1067790753311581,0.11580985965150775,0.12484064397185739,0.13387142829220702,0.14290221261255667,0.15193299693290632,0.16096378125325597,0.16999456557360562,0.17902534989395524,0.1880561342143049,0.19708691853465454,0.2061177028550042,0.21514848717535384,0.2241792714957035,0.2332100558160531,0.24224084013640276,0.25127162445675244,0.26030240877710203,0.2693331930974517,0.27836397741780133,0.287394761738151,0.29642554605850063,0.3054563303788503,0.31448711469919993,0.3235178990195496,0.33254868333989923,0.3415794676602489,0.3506102519805985,0.3596410363009481,0.3686718206212978,0.3777026049416474,0.3867333892619971,0.3957641735823467,0.4047949579026964,0.413825742223046,0.42285652654339567,0.4318873108637453,0.44091809518409497,0.44994887950444457,0.4589796638247942,0.46801044814514386,0.4770412324654935,0.48607201678584316,0.4951028011061928,0.5041335854265425,0.5131643697468921,0.5221951540672417,0.5312259383875914,0.540256722707941,0.5492875070282907,0.5583182913486403,0.56734907566899,0.5763798599893396,0.5854106443096893,0.5944414286300389,0.6034722129503886,0.6125029972707382,0.6215337815910879,0.6305645659114375,0.6395953502317872,0.6486261345521368,0.6576569188724865,0.6666877031928361,0.6757184875131858,0.6847492718335353,0.6937800561538849,0.7028108404742346,0.7118416247945842,0.7208724091149339,0.7299031934352835,0.7389339777556332,0.7479647620759828,0.7569955463963325,0.7660263307166821,0.7750571150370318,0.7840878993573814,0.7931186836777311,0.8021494679980807,0.8111802523184304,0.82021103663878,0.8292418209591297,0.8382726052794793,0.847303389599829,0.8563341739201786,0.8653649582405283,0.8743957425608779,0.8834265268812275,0.8924573112015771,0.9014880955219269],\"y\":[0.04,0.64,0.74,0.78,0.78,0.78,0.78,0.78,0.78,0.78,0.78,0.78,0.78,0.78,0.78,0.78,0.78,0.78,0.78,0.78,0.8,0.8,0.8,0.8,0.8,0.8,0.8,0.8,0.8,0.8,0.8,0.8,0.8,0.8,0.8,0.8,0.8,0.8,0.8,0.8,0.8,0.8,0.8,0.8,0.8,0.8,0.8,0.8,0.8,0.8,0.8,0.8,0.8,0.8,0.8,0.8,0.8,0.8,0.8,0.8,0.8,0.8,0.8,0.8,0.8,0.8,0.8,0.8,0.8,0.8,0.8,0.8,0.8,0.8,0.8,0.8,0.8,0.8,0.8,0.8,0.8,0.8,0.8,0.8,0.8,0.8,0.8,0.8,0.8,0.8,0.8,0.8,0.8,0.8,0.8,0.8,0.8,0.8,0.8,1.0],\"type\":\"scatter\"}],                        {\"title\":{\"text\":\"Empirical Distribution Function Plot\"},\"xaxis\":{\"title\":{\"text\":\"Objective Value\"}},\"yaxis\":{\"title\":{\"text\":\"Cumulative Probability\"},\"range\":[0,1]},\"template\":{\"data\":{\"histogram2dcontour\":[{\"type\":\"histogram2dcontour\",\"colorbar\":{\"outlinewidth\":0,\"ticks\":\"\"},\"colorscale\":[[0.0,\"#0d0887\"],[0.1111111111111111,\"#46039f\"],[0.2222222222222222,\"#7201a8\"],[0.3333333333333333,\"#9c179e\"],[0.4444444444444444,\"#bd3786\"],[0.5555555555555556,\"#d8576b\"],[0.6666666666666666,\"#ed7953\"],[0.7777777777777778,\"#fb9f3a\"],[0.8888888888888888,\"#fdca26\"],[1.0,\"#f0f921\"]]}],\"choropleth\":[{\"type\":\"choropleth\",\"colorbar\":{\"outlinewidth\":0,\"ticks\":\"\"}}],\"histogram2d\":[{\"type\":\"histogram2d\",\"colorbar\":{\"outlinewidth\":0,\"ticks\":\"\"},\"colorscale\":[[0.0,\"#0d0887\"],[0.1111111111111111,\"#46039f\"],[0.2222222222222222,\"#7201a8\"],[0.3333333333333333,\"#9c179e\"],[0.4444444444444444,\"#bd3786\"],[0.5555555555555556,\"#d8576b\"],[0.6666666666666666,\"#ed7953\"],[0.7777777777777778,\"#fb9f3a\"],[0.8888888888888888,\"#fdca26\"],[1.0,\"#f0f921\"]]}],\"heatmap\":[{\"type\":\"heatmap\",\"colorbar\":{\"outlinewidth\":0,\"ticks\":\"\"},\"colorscale\":[[0.0,\"#0d0887\"],[0.1111111111111111,\"#46039f\"],[0.2222222222222222,\"#7201a8\"],[0.3333333333333333,\"#9c179e\"],[0.4444444444444444,\"#bd3786\"],[0.5555555555555556,\"#d8576b\"],[0.6666666666666666,\"#ed7953\"],[0.7777777777777778,\"#fb9f3a\"],[0.8888888888888888,\"#fdca26\"],[1.0,\"#f0f921\"]]}],\"heatmapgl\":[{\"type\":\"heatmapgl\",\"colorbar\":{\"outlinewidth\":0,\"ticks\":\"\"},\"colorscale\":[[0.0,\"#0d0887\"],[0.1111111111111111,\"#46039f\"],[0.2222222222222222,\"#7201a8\"],[0.3333333333333333,\"#9c179e\"],[0.4444444444444444,\"#bd3786\"],[0.5555555555555556,\"#d8576b\"],[0.6666666666666666,\"#ed7953\"],[0.7777777777777778,\"#fb9f3a\"],[0.8888888888888888,\"#fdca26\"],[1.0,\"#f0f921\"]]}],\"contourcarpet\":[{\"type\":\"contourcarpet\",\"colorbar\":{\"outlinewidth\":0,\"ticks\":\"\"}}],\"contour\":[{\"type\":\"contour\",\"colorbar\":{\"outlinewidth\":0,\"ticks\":\"\"},\"colorscale\":[[0.0,\"#0d0887\"],[0.1111111111111111,\"#46039f\"],[0.2222222222222222,\"#7201a8\"],[0.3333333333333333,\"#9c179e\"],[0.4444444444444444,\"#bd3786\"],[0.5555555555555556,\"#d8576b\"],[0.6666666666666666,\"#ed7953\"],[0.7777777777777778,\"#fb9f3a\"],[0.8888888888888888,\"#fdca26\"],[1.0,\"#f0f921\"]]}],\"surface\":[{\"type\":\"surface\",\"colorbar\":{\"outlinewidth\":0,\"ticks\":\"\"},\"colorscale\":[[0.0,\"#0d0887\"],[0.1111111111111111,\"#46039f\"],[0.2222222222222222,\"#7201a8\"],[0.3333333333333333,\"#9c179e\"],[0.4444444444444444,\"#bd3786\"],[0.5555555555555556,\"#d8576b\"],[0.6666666666666666,\"#ed7953\"],[0.7777777777777778,\"#fb9f3a\"],[0.8888888888888888,\"#fdca26\"],[1.0,\"#f0f921\"]]}],\"mesh3d\":[{\"type\":\"mesh3d\",\"colorbar\":{\"outlinewidth\":0,\"ticks\":\"\"}}],\"scatter\":[{\"fillpattern\":{\"fillmode\":\"overlay\",\"size\":10,\"solidity\":0.2},\"type\":\"scatter\"}],\"parcoords\":[{\"type\":\"parcoords\",\"line\":{\"colorbar\":{\"outlinewidth\":0,\"ticks\":\"\"}}}],\"scatterpolargl\":[{\"type\":\"scatterpolargl\",\"marker\":{\"colorbar\":{\"outlinewidth\":0,\"ticks\":\"\"}}}],\"bar\":[{\"error_x\":{\"color\":\"#2a3f5f\"},\"error_y\":{\"color\":\"#2a3f5f\"},\"marker\":{\"line\":{\"color\":\"#E5ECF6\",\"width\":0.5},\"pattern\":{\"fillmode\":\"overlay\",\"size\":10,\"solidity\":0.2}},\"type\":\"bar\"}],\"scattergeo\":[{\"type\":\"scattergeo\",\"marker\":{\"colorbar\":{\"outlinewidth\":0,\"ticks\":\"\"}}}],\"scatterpolar\":[{\"type\":\"scatterpolar\",\"marker\":{\"colorbar\":{\"outlinewidth\":0,\"ticks\":\"\"}}}],\"histogram\":[{\"marker\":{\"pattern\":{\"fillmode\":\"overlay\",\"size\":10,\"solidity\":0.2}},\"type\":\"histogram\"}],\"scattergl\":[{\"type\":\"scattergl\",\"marker\":{\"colorbar\":{\"outlinewidth\":0,\"ticks\":\"\"}}}],\"scatter3d\":[{\"type\":\"scatter3d\",\"line\":{\"colorbar\":{\"outlinewidth\":0,\"ticks\":\"\"}},\"marker\":{\"colorbar\":{\"outlinewidth\":0,\"ticks\":\"\"}}}],\"scattermapbox\":[{\"type\":\"scattermapbox\",\"marker\":{\"colorbar\":{\"outlinewidth\":0,\"ticks\":\"\"}}}],\"scatterternary\":[{\"type\":\"scatterternary\",\"marker\":{\"colorbar\":{\"outlinewidth\":0,\"ticks\":\"\"}}}],\"scattercarpet\":[{\"type\":\"scattercarpet\",\"marker\":{\"colorbar\":{\"outlinewidth\":0,\"ticks\":\"\"}}}],\"carpet\":[{\"aaxis\":{\"endlinecolor\":\"#2a3f5f\",\"gridcolor\":\"white\",\"linecolor\":\"white\",\"minorgridcolor\":\"white\",\"startlinecolor\":\"#2a3f5f\"},\"baxis\":{\"endlinecolor\":\"#2a3f5f\",\"gridcolor\":\"white\",\"linecolor\":\"white\",\"minorgridcolor\":\"white\",\"startlinecolor\":\"#2a3f5f\"},\"type\":\"carpet\"}],\"table\":[{\"cells\":{\"fill\":{\"color\":\"#EBF0F8\"},\"line\":{\"color\":\"white\"}},\"header\":{\"fill\":{\"color\":\"#C8D4E3\"},\"line\":{\"color\":\"white\"}},\"type\":\"table\"}],\"barpolar\":[{\"marker\":{\"line\":{\"color\":\"#E5ECF6\",\"width\":0.5},\"pattern\":{\"fillmode\":\"overlay\",\"size\":10,\"solidity\":0.2}},\"type\":\"barpolar\"}],\"pie\":[{\"automargin\":true,\"type\":\"pie\"}]},\"layout\":{\"autotypenumbers\":\"strict\",\"colorway\":[\"#636efa\",\"#EF553B\",\"#00cc96\",\"#ab63fa\",\"#FFA15A\",\"#19d3f3\",\"#FF6692\",\"#B6E880\",\"#FF97FF\",\"#FECB52\"],\"font\":{\"color\":\"#2a3f5f\"},\"hovermode\":\"closest\",\"hoverlabel\":{\"align\":\"left\"},\"paper_bgcolor\":\"white\",\"plot_bgcolor\":\"#E5ECF6\",\"polar\":{\"bgcolor\":\"#E5ECF6\",\"angularaxis\":{\"gridcolor\":\"white\",\"linecolor\":\"white\",\"ticks\":\"\"},\"radialaxis\":{\"gridcolor\":\"white\",\"linecolor\":\"white\",\"ticks\":\"\"}},\"ternary\":{\"bgcolor\":\"#E5ECF6\",\"aaxis\":{\"gridcolor\":\"white\",\"linecolor\":\"white\",\"ticks\":\"\"},\"baxis\":{\"gridcolor\":\"white\",\"linecolor\":\"white\",\"ticks\":\"\"},\"caxis\":{\"gridcolor\":\"white\",\"linecolor\":\"white\",\"ticks\":\"\"}},\"coloraxis\":{\"colorbar\":{\"outlinewidth\":0,\"ticks\":\"\"}},\"colorscale\":{\"sequential\":[[0.0,\"#0d0887\"],[0.1111111111111111,\"#46039f\"],[0.2222222222222222,\"#7201a8\"],[0.3333333333333333,\"#9c179e\"],[0.4444444444444444,\"#bd3786\"],[0.5555555555555556,\"#d8576b\"],[0.6666666666666666,\"#ed7953\"],[0.7777777777777778,\"#fb9f3a\"],[0.8888888888888888,\"#fdca26\"],[1.0,\"#f0f921\"]],\"sequentialminus\":[[0.0,\"#0d0887\"],[0.1111111111111111,\"#46039f\"],[0.2222222222222222,\"#7201a8\"],[0.3333333333333333,\"#9c179e\"],[0.4444444444444444,\"#bd3786\"],[0.5555555555555556,\"#d8576b\"],[0.6666666666666666,\"#ed7953\"],[0.7777777777777778,\"#fb9f3a\"],[0.8888888888888888,\"#fdca26\"],[1.0,\"#f0f921\"]],\"diverging\":[[0,\"#8e0152\"],[0.1,\"#c51b7d\"],[0.2,\"#de77ae\"],[0.3,\"#f1b6da\"],[0.4,\"#fde0ef\"],[0.5,\"#f7f7f7\"],[0.6,\"#e6f5d0\"],[0.7,\"#b8e186\"],[0.8,\"#7fbc41\"],[0.9,\"#4d9221\"],[1,\"#276419\"]]},\"xaxis\":{\"gridcolor\":\"white\",\"linecolor\":\"white\",\"ticks\":\"\",\"title\":{\"standoff\":15},\"zerolinecolor\":\"white\",\"automargin\":true,\"zerolinewidth\":2},\"yaxis\":{\"gridcolor\":\"white\",\"linecolor\":\"white\",\"ticks\":\"\",\"title\":{\"standoff\":15},\"zerolinecolor\":\"white\",\"automargin\":true,\"zerolinewidth\":2},\"scene\":{\"xaxis\":{\"backgroundcolor\":\"#E5ECF6\",\"gridcolor\":\"white\",\"linecolor\":\"white\",\"showbackground\":true,\"ticks\":\"\",\"zerolinecolor\":\"white\",\"gridwidth\":2},\"yaxis\":{\"backgroundcolor\":\"#E5ECF6\",\"gridcolor\":\"white\",\"linecolor\":\"white\",\"showbackground\":true,\"ticks\":\"\",\"zerolinecolor\":\"white\",\"gridwidth\":2},\"zaxis\":{\"backgroundcolor\":\"#E5ECF6\",\"gridcolor\":\"white\",\"linecolor\":\"white\",\"showbackground\":true,\"ticks\":\"\",\"zerolinecolor\":\"white\",\"gridwidth\":2}},\"shapedefaults\":{\"line\":{\"color\":\"#2a3f5f\"}},\"annotationdefaults\":{\"arrowcolor\":\"#2a3f5f\",\"arrowhead\":0,\"arrowwidth\":1},\"geo\":{\"bgcolor\":\"white\",\"landcolor\":\"#E5ECF6\",\"subunitcolor\":\"white\",\"showland\":true,\"showlakes\":true,\"lakecolor\":\"white\"},\"title\":{\"x\":0.05},\"mapbox\":{\"style\":\"light\"}}}},                        {\"responsive\": true}                    ).then(function(){\n",
       "                            \n",
       "var gd = document.getElementById('dcb6c2b5-d3c0-4df5-92d4-9d79d484b69d');\n",
       "var x = new MutationObserver(function (mutations, observer) {{\n",
       "        var display = window.getComputedStyle(gd).display;\n",
       "        if (!display || display === 'none') {{\n",
       "            console.log([gd, 'removed!']);\n",
       "            Plotly.purge(gd);\n",
       "            observer.disconnect();\n",
       "        }}\n",
       "}});\n",
       "\n",
       "// Listen for the removal of the full notebook cells\n",
       "var notebookContainer = gd.closest('#notebook-container');\n",
       "if (notebookContainer) {{\n",
       "    x.observe(notebookContainer, {childList: true});\n",
       "}}\n",
       "\n",
       "// Listen for the clearing of the current output cell\n",
       "var outputEl = gd.closest('.output');\n",
       "if (outputEl) {{\n",
       "    x.observe(outputEl, {childList: true});\n",
       "}}\n",
       "\n",
       "                        })                };                });            </script>        </div>"
      ]
     },
     "metadata": {},
     "output_type": "display_data"
    }
   ],
   "source": [
    "plot_edf(study)"
   ]
  },
  {
   "cell_type": "code",
   "execution_count": 13,
   "id": "ab73e46e",
   "metadata": {
    "execution": {
     "iopub.execute_input": "2022-07-13T12:31:18.928821Z",
     "iopub.status.busy": "2022-07-13T12:31:18.928415Z",
     "iopub.status.idle": "2022-07-13T12:31:19.010786Z",
     "shell.execute_reply": "2022-07-13T12:31:19.009952Z"
    },
    "papermill": {
     "duration": 0.274445,
     "end_time": "2022-07-13T12:31:19.012842",
     "exception": false,
     "start_time": "2022-07-13T12:31:18.738397",
     "status": "completed"
    },
    "tags": []
   },
   "outputs": [
    {
     "data": {
      "text/html": [
       "<div>                            <div id=\"92786233-130b-4fc4-8e85-f74744fb88f2\" class=\"plotly-graph-div\" style=\"height:525px; width:100%;\"></div>            <script type=\"text/javascript\">                require([\"plotly\"], function(Plotly) {                    window.PLOTLYENV=window.PLOTLYENV || {};                                    if (document.getElementById(\"92786233-130b-4fc4-8e85-f74744fb88f2\")) {                    Plotly.newPlot(                        \"92786233-130b-4fc4-8e85-f74744fb88f2\",                        [{\"dimensions\":[{\"label\":\"Objective Value\",\"range\":[0.007440447807312012,0.9014880955219269],\"values\":[0.01904761791229248,0.016071438789367676,0.011904776096343994,0.013095259666442871,0.00952380895614624,0.012499988079071045,0.010714292526245117,0.8943452388048172,0.9014880955219269,0.014583349227905273,0.02529764175415039,0.01220238208770752,0.014285743236541748,0.008630931377410889,0.008630931377410889,0.013988077640533447,0.008630931377410889,0.9014880955219269,0.9014880955219269,0.010416686534881592,0.8940476179122925,0.009226202964782715,0.009226202964782715,0.008333325386047363,0.02767854928970337,0.9014880955219269,0.9014880955219269,0.9014880955219269,0.009821414947509766,0.0077381134033203125,0.9014880955219269,0.007440447807312012,0.007440447807312012,0.010714292526245117,0.020833313465118408,0.016666650772094727,0.009226202964782715,0.01815474033355713,0.011309504508972168,0.0077381134033203125,0.01279759407043457,0.010714292526245117,0.00952380895614624,0.00952380895614624,0.026488065719604492,0.9014880955219269,0.009821414947509766,0.011607170104980469,0.011904776096343994,0.180059552192688]},{\"label\":\"dropout_rate0\",\"range\":[0.0030894076444860363,0.49923155956667914],\"values\":[0.27828689284181335,0.00935901243384435,0.1788223437062113,0.3970480853552237,0.1886175667881292,0.03892494848529504,0.24194437479279102,0.09821138754053826,0.20166310242485008,0.2749254503039769,0.46951993866173025,0.3566080423713403,0.1471837048080266,0.24369956454349437,0.32349154315634765,0.3513930049900553,0.32411147507735427,0.47036594980948154,0.41368552424466065,0.3186770591076369,0.40948739966684566,0.3093524030515883,0.23260310243265053,0.32956551803058176,0.349506897462051,0.2952293826657609,0.3803509553033356,0.25229944103325397,0.43191258655768405,0.3274558427776527,0.49923155956667914,0.2789296733100679,0.27891623961126855,0.2882242687398962,0.26429421039991374,0.20967400245494186,0.36948772664672336,0.1557714409517426,0.3411747541267805,0.2899986912679905,0.21333830950204882,0.283463857365715,0.305454407893571,0.38897006392919725,0.26801845737039626,0.16945937509107484,0.11966535213492158,0.22893857131575987,0.0030894076444860363,0.3332313511971124]},{\"label\":\"dropout_rate1\",\"range\":[0.0007535036249653876,0.4961261031874953],\"values\":[0.37117361529060827,0.07322258226942924,0.11550078007494952,0.31075617390899396,0.08239516787835971,0.1738371730509758,0.42963473010415876,0.1952554474644152,0.14466360189989247,0.08005786079834637,0.0007535036249653876,0.4958865498669879,0.4961261031874953,0.3763178247531169,0.2737106654921644,0.2677577374749554,0.3467625400877427,0.25594936670384083,0.36000906784955633,0.313485679046627,0.21524158571089883,0.39931439142186764,0.31367442523968575,0.43599129112490237,0.44111619794056595,0.4368266333121822,0.28946943025877847,0.38760421821770524,0.47237598949561105,0.36377494600940175,0.34490589910736025,0.40562913428407965,0.41139563960080644,0.4097686940956778,0.4601310391768561,0.41744316821700866,0.4607946776368102,0.3326309474271047,0.3711595962830644,0.3958480531091827,0.22280809928055914,0.39611577328599445,0.42944248803905205,0.4537881258916776,0.47650861394302546,0.41930117662592165,0.38115632036106933,0.35962032275473693,0.33590318274969627,0.48859252529141906]},{\"label\":\"mid_units\",\"range\":[100.0,300.0],\"values\":[100.0,200.0,100.0,300.0,200.0,100.0,100.0,200.0,100.0,100.0,300.0,200.0,200.0,300.0,300.0,300.0,300.0,300.0,300.0,300.0,300.0,300.0,300.0,300.0,200.0,300.0,300.0,300.0,200.0,300.0,200.0,300.0,300.0,300.0,300.0,300.0,300.0,200.0,300.0,200.0,200.0,200.0,200.0,200.0,300.0,100.0,200.0,300.0,300.0,200.0]},{\"label\":\"num_filter_0\",\"range\":[16.0,128.0],\"values\":[32.0,32.0,16.0,96.0,64.0,112.0,48.0,16.0,64.0,112.0,80.0,64.0,48.0,80.0,80.0,128.0,96.0,96.0,96.0,128.0,112.0,80.0,80.0,96.0,96.0,112.0,96.0,80.0,48.0,112.0,128.0,112.0,112.0,112.0,128.0,112.0,112.0,128.0,112.0,96.0,128.0,96.0,96.0,112.0,96.0,112.0,112.0,96.0,32.0,64.0]},{\"label\":\"num_filter_1\",\"range\":[16.0,128.0],\"values\":[96.0,112.0,64.0,80.0,112.0,48.0,16.0,16.0,64.0,128.0,128.0,16.0,32.0,96.0,96.0,96.0,80.0,80.0,48.0,80.0,112.0,96.0,96.0,64.0,64.0,48.0,80.0,112.0,96.0,64.0,32.0,64.0,64.0,64.0,48.0,64.0,48.0,64.0,32.0,64.0,48.0,64.0,64.0,80.0,64.0,48.0,80.0,64.0,80.0,48.0]},{\"label\":\"num_filter_2\",\"range\":[16.0,128.0],\"values\":[16.0,112.0,128.0,32.0,16.0,80.0,112.0,48.0,64.0,80.0,48.0,48.0,48.0,48.0,64.0,32.0,96.0,32.0,48.0,64.0,48.0,32.0,64.0,48.0,80.0,16.0,32.0,32.0,48.0,32.0,16.0,32.0,16.0,32.0,16.0,64.0,32.0,32.0,16.0,48.0,32.0,128.0,32.0,48.0,32.0,96.0]},{\"label\":\"num_filter_3\",\"range\":[16.0,128.0],\"values\":[48.0,64.0,48.0,128.0,80.0,128.0,16.0,80.0,80.0,32.0,16.0,96.0,96.0,112.0,48.0,96.0,96.0,64.0,32.0,64.0,32.0,64.0,32.0,112.0,112.0,112.0,112.0,112.0,128.0,112.0,112.0,128.0,96.0,96.0,112.0,80.0,96.0,128.0,112.0,48.0,128.0]},{\"label\":\"num_filter_4\",\"range\":[32.0,128.0],\"values\":[32.0,80.0,32.0,128.0,96.0,96.0,96.0,112.0,128.0,96.0,96.0,112.0,112.0,64.0,64.0,112.0,112.0,112.0,112.0,128.0,112.0,112.0,80.0,80.0,128.0,112.0,48.0,80.0,112.0,128.0]},{\"label\":\"num_layer\",\"range\":[2,5],\"values\":[5,3,4,2,5,4,4,2,5,2,5,4,3,5,5,5,5,3,4,5,4,5,5,5,5,4,5,4,5,5,3,5,5,5,5,4,5,4,5,5,4,5,5,5,5,2,5,5,5,3]},{\"label\":\"optimizer\",\"range\":[0,1],\"ticktext\":[\"sgd\",\"adam\"],\"tickvals\":[0,1],\"values\":[0,1,1,1,0,1,1,0,0,1,0,0,1,0,0,0,0,0,0,0,0,0,0,0,0,0,0,0,0,0,0,0,0,0,0,0,1,0,1,0,1,0,0,0,0,0,0,1,0,0]}],\"labelangle\":30,\"labelside\":\"bottom\",\"line\":{\"color\":[0.01904761791229248,0.016071438789367676,0.011904776096343994,0.013095259666442871,0.00952380895614624,0.012499988079071045,0.010714292526245117,0.8943452388048172,0.9014880955219269,0.014583349227905273,0.02529764175415039,0.01220238208770752,0.014285743236541748,0.008630931377410889,0.008630931377410889,0.013988077640533447,0.008630931377410889,0.9014880955219269,0.9014880955219269,0.010416686534881592,0.8940476179122925,0.009226202964782715,0.009226202964782715,0.008333325386047363,0.02767854928970337,0.9014880955219269,0.9014880955219269,0.9014880955219269,0.009821414947509766,0.0077381134033203125,0.9014880955219269,0.007440447807312012,0.007440447807312012,0.010714292526245117,0.020833313465118408,0.016666650772094727,0.009226202964782715,0.01815474033355713,0.011309504508972168,0.0077381134033203125,0.01279759407043457,0.010714292526245117,0.00952380895614624,0.00952380895614624,0.026488065719604492,0.9014880955219269,0.009821414947509766,0.011607170104980469,0.011904776096343994,0.180059552192688],\"colorbar\":{\"title\":{\"text\":\"Objective Value\"}},\"colorscale\":[[0.0,\"rgb(247,251,255)\"],[0.125,\"rgb(222,235,247)\"],[0.25,\"rgb(198,219,239)\"],[0.375,\"rgb(158,202,225)\"],[0.5,\"rgb(107,174,214)\"],[0.625,\"rgb(66,146,198)\"],[0.75,\"rgb(33,113,181)\"],[0.875,\"rgb(8,81,156)\"],[1.0,\"rgb(8,48,107)\"]],\"reversescale\":true,\"showscale\":true},\"type\":\"parcoords\"}],                        {\"title\":{\"text\":\"Parallel Coordinate Plot\"},\"template\":{\"data\":{\"histogram2dcontour\":[{\"type\":\"histogram2dcontour\",\"colorbar\":{\"outlinewidth\":0,\"ticks\":\"\"},\"colorscale\":[[0.0,\"#0d0887\"],[0.1111111111111111,\"#46039f\"],[0.2222222222222222,\"#7201a8\"],[0.3333333333333333,\"#9c179e\"],[0.4444444444444444,\"#bd3786\"],[0.5555555555555556,\"#d8576b\"],[0.6666666666666666,\"#ed7953\"],[0.7777777777777778,\"#fb9f3a\"],[0.8888888888888888,\"#fdca26\"],[1.0,\"#f0f921\"]]}],\"choropleth\":[{\"type\":\"choropleth\",\"colorbar\":{\"outlinewidth\":0,\"ticks\":\"\"}}],\"histogram2d\":[{\"type\":\"histogram2d\",\"colorbar\":{\"outlinewidth\":0,\"ticks\":\"\"},\"colorscale\":[[0.0,\"#0d0887\"],[0.1111111111111111,\"#46039f\"],[0.2222222222222222,\"#7201a8\"],[0.3333333333333333,\"#9c179e\"],[0.4444444444444444,\"#bd3786\"],[0.5555555555555556,\"#d8576b\"],[0.6666666666666666,\"#ed7953\"],[0.7777777777777778,\"#fb9f3a\"],[0.8888888888888888,\"#fdca26\"],[1.0,\"#f0f921\"]]}],\"heatmap\":[{\"type\":\"heatmap\",\"colorbar\":{\"outlinewidth\":0,\"ticks\":\"\"},\"colorscale\":[[0.0,\"#0d0887\"],[0.1111111111111111,\"#46039f\"],[0.2222222222222222,\"#7201a8\"],[0.3333333333333333,\"#9c179e\"],[0.4444444444444444,\"#bd3786\"],[0.5555555555555556,\"#d8576b\"],[0.6666666666666666,\"#ed7953\"],[0.7777777777777778,\"#fb9f3a\"],[0.8888888888888888,\"#fdca26\"],[1.0,\"#f0f921\"]]}],\"heatmapgl\":[{\"type\":\"heatmapgl\",\"colorbar\":{\"outlinewidth\":0,\"ticks\":\"\"},\"colorscale\":[[0.0,\"#0d0887\"],[0.1111111111111111,\"#46039f\"],[0.2222222222222222,\"#7201a8\"],[0.3333333333333333,\"#9c179e\"],[0.4444444444444444,\"#bd3786\"],[0.5555555555555556,\"#d8576b\"],[0.6666666666666666,\"#ed7953\"],[0.7777777777777778,\"#fb9f3a\"],[0.8888888888888888,\"#fdca26\"],[1.0,\"#f0f921\"]]}],\"contourcarpet\":[{\"type\":\"contourcarpet\",\"colorbar\":{\"outlinewidth\":0,\"ticks\":\"\"}}],\"contour\":[{\"type\":\"contour\",\"colorbar\":{\"outlinewidth\":0,\"ticks\":\"\"},\"colorscale\":[[0.0,\"#0d0887\"],[0.1111111111111111,\"#46039f\"],[0.2222222222222222,\"#7201a8\"],[0.3333333333333333,\"#9c179e\"],[0.4444444444444444,\"#bd3786\"],[0.5555555555555556,\"#d8576b\"],[0.6666666666666666,\"#ed7953\"],[0.7777777777777778,\"#fb9f3a\"],[0.8888888888888888,\"#fdca26\"],[1.0,\"#f0f921\"]]}],\"surface\":[{\"type\":\"surface\",\"colorbar\":{\"outlinewidth\":0,\"ticks\":\"\"},\"colorscale\":[[0.0,\"#0d0887\"],[0.1111111111111111,\"#46039f\"],[0.2222222222222222,\"#7201a8\"],[0.3333333333333333,\"#9c179e\"],[0.4444444444444444,\"#bd3786\"],[0.5555555555555556,\"#d8576b\"],[0.6666666666666666,\"#ed7953\"],[0.7777777777777778,\"#fb9f3a\"],[0.8888888888888888,\"#fdca26\"],[1.0,\"#f0f921\"]]}],\"mesh3d\":[{\"type\":\"mesh3d\",\"colorbar\":{\"outlinewidth\":0,\"ticks\":\"\"}}],\"scatter\":[{\"fillpattern\":{\"fillmode\":\"overlay\",\"size\":10,\"solidity\":0.2},\"type\":\"scatter\"}],\"parcoords\":[{\"type\":\"parcoords\",\"line\":{\"colorbar\":{\"outlinewidth\":0,\"ticks\":\"\"}}}],\"scatterpolargl\":[{\"type\":\"scatterpolargl\",\"marker\":{\"colorbar\":{\"outlinewidth\":0,\"ticks\":\"\"}}}],\"bar\":[{\"error_x\":{\"color\":\"#2a3f5f\"},\"error_y\":{\"color\":\"#2a3f5f\"},\"marker\":{\"line\":{\"color\":\"#E5ECF6\",\"width\":0.5},\"pattern\":{\"fillmode\":\"overlay\",\"size\":10,\"solidity\":0.2}},\"type\":\"bar\"}],\"scattergeo\":[{\"type\":\"scattergeo\",\"marker\":{\"colorbar\":{\"outlinewidth\":0,\"ticks\":\"\"}}}],\"scatterpolar\":[{\"type\":\"scatterpolar\",\"marker\":{\"colorbar\":{\"outlinewidth\":0,\"ticks\":\"\"}}}],\"histogram\":[{\"marker\":{\"pattern\":{\"fillmode\":\"overlay\",\"size\":10,\"solidity\":0.2}},\"type\":\"histogram\"}],\"scattergl\":[{\"type\":\"scattergl\",\"marker\":{\"colorbar\":{\"outlinewidth\":0,\"ticks\":\"\"}}}],\"scatter3d\":[{\"type\":\"scatter3d\",\"line\":{\"colorbar\":{\"outlinewidth\":0,\"ticks\":\"\"}},\"marker\":{\"colorbar\":{\"outlinewidth\":0,\"ticks\":\"\"}}}],\"scattermapbox\":[{\"type\":\"scattermapbox\",\"marker\":{\"colorbar\":{\"outlinewidth\":0,\"ticks\":\"\"}}}],\"scatterternary\":[{\"type\":\"scatterternary\",\"marker\":{\"colorbar\":{\"outlinewidth\":0,\"ticks\":\"\"}}}],\"scattercarpet\":[{\"type\":\"scattercarpet\",\"marker\":{\"colorbar\":{\"outlinewidth\":0,\"ticks\":\"\"}}}],\"carpet\":[{\"aaxis\":{\"endlinecolor\":\"#2a3f5f\",\"gridcolor\":\"white\",\"linecolor\":\"white\",\"minorgridcolor\":\"white\",\"startlinecolor\":\"#2a3f5f\"},\"baxis\":{\"endlinecolor\":\"#2a3f5f\",\"gridcolor\":\"white\",\"linecolor\":\"white\",\"minorgridcolor\":\"white\",\"startlinecolor\":\"#2a3f5f\"},\"type\":\"carpet\"}],\"table\":[{\"cells\":{\"fill\":{\"color\":\"#EBF0F8\"},\"line\":{\"color\":\"white\"}},\"header\":{\"fill\":{\"color\":\"#C8D4E3\"},\"line\":{\"color\":\"white\"}},\"type\":\"table\"}],\"barpolar\":[{\"marker\":{\"line\":{\"color\":\"#E5ECF6\",\"width\":0.5},\"pattern\":{\"fillmode\":\"overlay\",\"size\":10,\"solidity\":0.2}},\"type\":\"barpolar\"}],\"pie\":[{\"automargin\":true,\"type\":\"pie\"}]},\"layout\":{\"autotypenumbers\":\"strict\",\"colorway\":[\"#636efa\",\"#EF553B\",\"#00cc96\",\"#ab63fa\",\"#FFA15A\",\"#19d3f3\",\"#FF6692\",\"#B6E880\",\"#FF97FF\",\"#FECB52\"],\"font\":{\"color\":\"#2a3f5f\"},\"hovermode\":\"closest\",\"hoverlabel\":{\"align\":\"left\"},\"paper_bgcolor\":\"white\",\"plot_bgcolor\":\"#E5ECF6\",\"polar\":{\"bgcolor\":\"#E5ECF6\",\"angularaxis\":{\"gridcolor\":\"white\",\"linecolor\":\"white\",\"ticks\":\"\"},\"radialaxis\":{\"gridcolor\":\"white\",\"linecolor\":\"white\",\"ticks\":\"\"}},\"ternary\":{\"bgcolor\":\"#E5ECF6\",\"aaxis\":{\"gridcolor\":\"white\",\"linecolor\":\"white\",\"ticks\":\"\"},\"baxis\":{\"gridcolor\":\"white\",\"linecolor\":\"white\",\"ticks\":\"\"},\"caxis\":{\"gridcolor\":\"white\",\"linecolor\":\"white\",\"ticks\":\"\"}},\"coloraxis\":{\"colorbar\":{\"outlinewidth\":0,\"ticks\":\"\"}},\"colorscale\":{\"sequential\":[[0.0,\"#0d0887\"],[0.1111111111111111,\"#46039f\"],[0.2222222222222222,\"#7201a8\"],[0.3333333333333333,\"#9c179e\"],[0.4444444444444444,\"#bd3786\"],[0.5555555555555556,\"#d8576b\"],[0.6666666666666666,\"#ed7953\"],[0.7777777777777778,\"#fb9f3a\"],[0.8888888888888888,\"#fdca26\"],[1.0,\"#f0f921\"]],\"sequentialminus\":[[0.0,\"#0d0887\"],[0.1111111111111111,\"#46039f\"],[0.2222222222222222,\"#7201a8\"],[0.3333333333333333,\"#9c179e\"],[0.4444444444444444,\"#bd3786\"],[0.5555555555555556,\"#d8576b\"],[0.6666666666666666,\"#ed7953\"],[0.7777777777777778,\"#fb9f3a\"],[0.8888888888888888,\"#fdca26\"],[1.0,\"#f0f921\"]],\"diverging\":[[0,\"#8e0152\"],[0.1,\"#c51b7d\"],[0.2,\"#de77ae\"],[0.3,\"#f1b6da\"],[0.4,\"#fde0ef\"],[0.5,\"#f7f7f7\"],[0.6,\"#e6f5d0\"],[0.7,\"#b8e186\"],[0.8,\"#7fbc41\"],[0.9,\"#4d9221\"],[1,\"#276419\"]]},\"xaxis\":{\"gridcolor\":\"white\",\"linecolor\":\"white\",\"ticks\":\"\",\"title\":{\"standoff\":15},\"zerolinecolor\":\"white\",\"automargin\":true,\"zerolinewidth\":2},\"yaxis\":{\"gridcolor\":\"white\",\"linecolor\":\"white\",\"ticks\":\"\",\"title\":{\"standoff\":15},\"zerolinecolor\":\"white\",\"automargin\":true,\"zerolinewidth\":2},\"scene\":{\"xaxis\":{\"backgroundcolor\":\"#E5ECF6\",\"gridcolor\":\"white\",\"linecolor\":\"white\",\"showbackground\":true,\"ticks\":\"\",\"zerolinecolor\":\"white\",\"gridwidth\":2},\"yaxis\":{\"backgroundcolor\":\"#E5ECF6\",\"gridcolor\":\"white\",\"linecolor\":\"white\",\"showbackground\":true,\"ticks\":\"\",\"zerolinecolor\":\"white\",\"gridwidth\":2},\"zaxis\":{\"backgroundcolor\":\"#E5ECF6\",\"gridcolor\":\"white\",\"linecolor\":\"white\",\"showbackground\":true,\"ticks\":\"\",\"zerolinecolor\":\"white\",\"gridwidth\":2}},\"shapedefaults\":{\"line\":{\"color\":\"#2a3f5f\"}},\"annotationdefaults\":{\"arrowcolor\":\"#2a3f5f\",\"arrowhead\":0,\"arrowwidth\":1},\"geo\":{\"bgcolor\":\"white\",\"landcolor\":\"#E5ECF6\",\"subunitcolor\":\"white\",\"showland\":true,\"showlakes\":true,\"lakecolor\":\"white\"},\"title\":{\"x\":0.05},\"mapbox\":{\"style\":\"light\"}}}},                        {\"responsive\": true}                    ).then(function(){\n",
       "                            \n",
       "var gd = document.getElementById('92786233-130b-4fc4-8e85-f74744fb88f2');\n",
       "var x = new MutationObserver(function (mutations, observer) {{\n",
       "        var display = window.getComputedStyle(gd).display;\n",
       "        if (!display || display === 'none') {{\n",
       "            console.log([gd, 'removed!']);\n",
       "            Plotly.purge(gd);\n",
       "            observer.disconnect();\n",
       "        }}\n",
       "}});\n",
       "\n",
       "// Listen for the removal of the full notebook cells\n",
       "var notebookContainer = gd.closest('#notebook-container');\n",
       "if (notebookContainer) {{\n",
       "    x.observe(notebookContainer, {childList: true});\n",
       "}}\n",
       "\n",
       "// Listen for the clearing of the current output cell\n",
       "var outputEl = gd.closest('.output');\n",
       "if (outputEl) {{\n",
       "    x.observe(outputEl, {childList: true});\n",
       "}}\n",
       "\n",
       "                        })                };                });            </script>        </div>"
      ]
     },
     "metadata": {},
     "output_type": "display_data"
    }
   ],
   "source": [
    "plot_parallel_coordinate(study)"
   ]
  },
  {
   "cell_type": "code",
   "execution_count": 14,
   "id": "c2a20ea8",
   "metadata": {
    "execution": {
     "iopub.execute_input": "2022-07-13T12:31:19.438398Z",
     "iopub.status.busy": "2022-07-13T12:31:19.438064Z",
     "iopub.status.idle": "2022-07-13T12:31:20.493980Z",
     "shell.execute_reply": "2022-07-13T12:31:20.492970Z"
    },
    "papermill": {
     "duration": 1.246583,
     "end_time": "2022-07-13T12:31:20.496347",
     "exception": false,
     "start_time": "2022-07-13T12:31:19.249764",
     "status": "completed"
    },
    "tags": []
   },
   "outputs": [
    {
     "data": {
      "text/html": [
       "<div>                            <div id=\"a5981aa6-26eb-485b-9fd3-f80d907a74be\" class=\"plotly-graph-div\" style=\"height:525px; width:100%;\"></div>            <script type=\"text/javascript\">                require([\"plotly\"], function(Plotly) {                    window.PLOTLYENV=window.PLOTLYENV || {};                                    if (document.getElementById(\"a5981aa6-26eb-485b-9fd3-f80d907a74be\")) {                    Plotly.newPlot(                        \"a5981aa6-26eb-485b-9fd3-f80d907a74be\",                        [{\"cliponaxis\":false,\"hovertemplate\":[\"num_filter_1 (DiscreteUniformDistribution): 0.06348276105036398<extra></extra>\",\"num_filter_0 (DiscreteUniformDistribution): 0.07935696154303117<extra></extra>\",\"mid_units (DiscreteUniformDistribution): 0.0816220490342319<extra></extra>\",\"num_layer (IntUniformDistribution): 0.09035193748151553<extra></extra>\",\"dropout_rate1 (UniformDistribution): 0.12455655537905007<extra></extra>\",\"optimizer (CategoricalDistribution): 0.20379600503248865<extra></extra>\",\"dropout_rate0 (UniformDistribution): 0.3568337304793187<extra></extra>\"],\"marker\":{\"color\":\"rgb(66,146,198)\"},\"orientation\":\"h\",\"text\":[\"0.06348276105036398\",\"0.07935696154303117\",\"0.0816220490342319\",\"0.09035193748151553\",\"0.12455655537905007\",\"0.20379600503248865\",\"0.3568337304793187\"],\"textposition\":\"outside\",\"texttemplate\":\"%{text:.2f}\",\"x\":[0.06348276105036398,0.07935696154303117,0.0816220490342319,0.09035193748151553,0.12455655537905007,0.20379600503248865,0.3568337304793187],\"y\":[\"num_filter_1\",\"num_filter_0\",\"mid_units\",\"num_layer\",\"dropout_rate1\",\"optimizer\",\"dropout_rate0\"],\"type\":\"bar\"}],                        {\"showlegend\":false,\"title\":{\"text\":\"Hyperparameter Importances\"},\"xaxis\":{\"title\":{\"text\":\"Importance for Objective Value\"}},\"yaxis\":{\"title\":{\"text\":\"Hyperparameter\"}},\"template\":{\"data\":{\"histogram2dcontour\":[{\"type\":\"histogram2dcontour\",\"colorbar\":{\"outlinewidth\":0,\"ticks\":\"\"},\"colorscale\":[[0.0,\"#0d0887\"],[0.1111111111111111,\"#46039f\"],[0.2222222222222222,\"#7201a8\"],[0.3333333333333333,\"#9c179e\"],[0.4444444444444444,\"#bd3786\"],[0.5555555555555556,\"#d8576b\"],[0.6666666666666666,\"#ed7953\"],[0.7777777777777778,\"#fb9f3a\"],[0.8888888888888888,\"#fdca26\"],[1.0,\"#f0f921\"]]}],\"choropleth\":[{\"type\":\"choropleth\",\"colorbar\":{\"outlinewidth\":0,\"ticks\":\"\"}}],\"histogram2d\":[{\"type\":\"histogram2d\",\"colorbar\":{\"outlinewidth\":0,\"ticks\":\"\"},\"colorscale\":[[0.0,\"#0d0887\"],[0.1111111111111111,\"#46039f\"],[0.2222222222222222,\"#7201a8\"],[0.3333333333333333,\"#9c179e\"],[0.4444444444444444,\"#bd3786\"],[0.5555555555555556,\"#d8576b\"],[0.6666666666666666,\"#ed7953\"],[0.7777777777777778,\"#fb9f3a\"],[0.8888888888888888,\"#fdca26\"],[1.0,\"#f0f921\"]]}],\"heatmap\":[{\"type\":\"heatmap\",\"colorbar\":{\"outlinewidth\":0,\"ticks\":\"\"},\"colorscale\":[[0.0,\"#0d0887\"],[0.1111111111111111,\"#46039f\"],[0.2222222222222222,\"#7201a8\"],[0.3333333333333333,\"#9c179e\"],[0.4444444444444444,\"#bd3786\"],[0.5555555555555556,\"#d8576b\"],[0.6666666666666666,\"#ed7953\"],[0.7777777777777778,\"#fb9f3a\"],[0.8888888888888888,\"#fdca26\"],[1.0,\"#f0f921\"]]}],\"heatmapgl\":[{\"type\":\"heatmapgl\",\"colorbar\":{\"outlinewidth\":0,\"ticks\":\"\"},\"colorscale\":[[0.0,\"#0d0887\"],[0.1111111111111111,\"#46039f\"],[0.2222222222222222,\"#7201a8\"],[0.3333333333333333,\"#9c179e\"],[0.4444444444444444,\"#bd3786\"],[0.5555555555555556,\"#d8576b\"],[0.6666666666666666,\"#ed7953\"],[0.7777777777777778,\"#fb9f3a\"],[0.8888888888888888,\"#fdca26\"],[1.0,\"#f0f921\"]]}],\"contourcarpet\":[{\"type\":\"contourcarpet\",\"colorbar\":{\"outlinewidth\":0,\"ticks\":\"\"}}],\"contour\":[{\"type\":\"contour\",\"colorbar\":{\"outlinewidth\":0,\"ticks\":\"\"},\"colorscale\":[[0.0,\"#0d0887\"],[0.1111111111111111,\"#46039f\"],[0.2222222222222222,\"#7201a8\"],[0.3333333333333333,\"#9c179e\"],[0.4444444444444444,\"#bd3786\"],[0.5555555555555556,\"#d8576b\"],[0.6666666666666666,\"#ed7953\"],[0.7777777777777778,\"#fb9f3a\"],[0.8888888888888888,\"#fdca26\"],[1.0,\"#f0f921\"]]}],\"surface\":[{\"type\":\"surface\",\"colorbar\":{\"outlinewidth\":0,\"ticks\":\"\"},\"colorscale\":[[0.0,\"#0d0887\"],[0.1111111111111111,\"#46039f\"],[0.2222222222222222,\"#7201a8\"],[0.3333333333333333,\"#9c179e\"],[0.4444444444444444,\"#bd3786\"],[0.5555555555555556,\"#d8576b\"],[0.6666666666666666,\"#ed7953\"],[0.7777777777777778,\"#fb9f3a\"],[0.8888888888888888,\"#fdca26\"],[1.0,\"#f0f921\"]]}],\"mesh3d\":[{\"type\":\"mesh3d\",\"colorbar\":{\"outlinewidth\":0,\"ticks\":\"\"}}],\"scatter\":[{\"fillpattern\":{\"fillmode\":\"overlay\",\"size\":10,\"solidity\":0.2},\"type\":\"scatter\"}],\"parcoords\":[{\"type\":\"parcoords\",\"line\":{\"colorbar\":{\"outlinewidth\":0,\"ticks\":\"\"}}}],\"scatterpolargl\":[{\"type\":\"scatterpolargl\",\"marker\":{\"colorbar\":{\"outlinewidth\":0,\"ticks\":\"\"}}}],\"bar\":[{\"error_x\":{\"color\":\"#2a3f5f\"},\"error_y\":{\"color\":\"#2a3f5f\"},\"marker\":{\"line\":{\"color\":\"#E5ECF6\",\"width\":0.5},\"pattern\":{\"fillmode\":\"overlay\",\"size\":10,\"solidity\":0.2}},\"type\":\"bar\"}],\"scattergeo\":[{\"type\":\"scattergeo\",\"marker\":{\"colorbar\":{\"outlinewidth\":0,\"ticks\":\"\"}}}],\"scatterpolar\":[{\"type\":\"scatterpolar\",\"marker\":{\"colorbar\":{\"outlinewidth\":0,\"ticks\":\"\"}}}],\"histogram\":[{\"marker\":{\"pattern\":{\"fillmode\":\"overlay\",\"size\":10,\"solidity\":0.2}},\"type\":\"histogram\"}],\"scattergl\":[{\"type\":\"scattergl\",\"marker\":{\"colorbar\":{\"outlinewidth\":0,\"ticks\":\"\"}}}],\"scatter3d\":[{\"type\":\"scatter3d\",\"line\":{\"colorbar\":{\"outlinewidth\":0,\"ticks\":\"\"}},\"marker\":{\"colorbar\":{\"outlinewidth\":0,\"ticks\":\"\"}}}],\"scattermapbox\":[{\"type\":\"scattermapbox\",\"marker\":{\"colorbar\":{\"outlinewidth\":0,\"ticks\":\"\"}}}],\"scatterternary\":[{\"type\":\"scatterternary\",\"marker\":{\"colorbar\":{\"outlinewidth\":0,\"ticks\":\"\"}}}],\"scattercarpet\":[{\"type\":\"scattercarpet\",\"marker\":{\"colorbar\":{\"outlinewidth\":0,\"ticks\":\"\"}}}],\"carpet\":[{\"aaxis\":{\"endlinecolor\":\"#2a3f5f\",\"gridcolor\":\"white\",\"linecolor\":\"white\",\"minorgridcolor\":\"white\",\"startlinecolor\":\"#2a3f5f\"},\"baxis\":{\"endlinecolor\":\"#2a3f5f\",\"gridcolor\":\"white\",\"linecolor\":\"white\",\"minorgridcolor\":\"white\",\"startlinecolor\":\"#2a3f5f\"},\"type\":\"carpet\"}],\"table\":[{\"cells\":{\"fill\":{\"color\":\"#EBF0F8\"},\"line\":{\"color\":\"white\"}},\"header\":{\"fill\":{\"color\":\"#C8D4E3\"},\"line\":{\"color\":\"white\"}},\"type\":\"table\"}],\"barpolar\":[{\"marker\":{\"line\":{\"color\":\"#E5ECF6\",\"width\":0.5},\"pattern\":{\"fillmode\":\"overlay\",\"size\":10,\"solidity\":0.2}},\"type\":\"barpolar\"}],\"pie\":[{\"automargin\":true,\"type\":\"pie\"}]},\"layout\":{\"autotypenumbers\":\"strict\",\"colorway\":[\"#636efa\",\"#EF553B\",\"#00cc96\",\"#ab63fa\",\"#FFA15A\",\"#19d3f3\",\"#FF6692\",\"#B6E880\",\"#FF97FF\",\"#FECB52\"],\"font\":{\"color\":\"#2a3f5f\"},\"hovermode\":\"closest\",\"hoverlabel\":{\"align\":\"left\"},\"paper_bgcolor\":\"white\",\"plot_bgcolor\":\"#E5ECF6\",\"polar\":{\"bgcolor\":\"#E5ECF6\",\"angularaxis\":{\"gridcolor\":\"white\",\"linecolor\":\"white\",\"ticks\":\"\"},\"radialaxis\":{\"gridcolor\":\"white\",\"linecolor\":\"white\",\"ticks\":\"\"}},\"ternary\":{\"bgcolor\":\"#E5ECF6\",\"aaxis\":{\"gridcolor\":\"white\",\"linecolor\":\"white\",\"ticks\":\"\"},\"baxis\":{\"gridcolor\":\"white\",\"linecolor\":\"white\",\"ticks\":\"\"},\"caxis\":{\"gridcolor\":\"white\",\"linecolor\":\"white\",\"ticks\":\"\"}},\"coloraxis\":{\"colorbar\":{\"outlinewidth\":0,\"ticks\":\"\"}},\"colorscale\":{\"sequential\":[[0.0,\"#0d0887\"],[0.1111111111111111,\"#46039f\"],[0.2222222222222222,\"#7201a8\"],[0.3333333333333333,\"#9c179e\"],[0.4444444444444444,\"#bd3786\"],[0.5555555555555556,\"#d8576b\"],[0.6666666666666666,\"#ed7953\"],[0.7777777777777778,\"#fb9f3a\"],[0.8888888888888888,\"#fdca26\"],[1.0,\"#f0f921\"]],\"sequentialminus\":[[0.0,\"#0d0887\"],[0.1111111111111111,\"#46039f\"],[0.2222222222222222,\"#7201a8\"],[0.3333333333333333,\"#9c179e\"],[0.4444444444444444,\"#bd3786\"],[0.5555555555555556,\"#d8576b\"],[0.6666666666666666,\"#ed7953\"],[0.7777777777777778,\"#fb9f3a\"],[0.8888888888888888,\"#fdca26\"],[1.0,\"#f0f921\"]],\"diverging\":[[0,\"#8e0152\"],[0.1,\"#c51b7d\"],[0.2,\"#de77ae\"],[0.3,\"#f1b6da\"],[0.4,\"#fde0ef\"],[0.5,\"#f7f7f7\"],[0.6,\"#e6f5d0\"],[0.7,\"#b8e186\"],[0.8,\"#7fbc41\"],[0.9,\"#4d9221\"],[1,\"#276419\"]]},\"xaxis\":{\"gridcolor\":\"white\",\"linecolor\":\"white\",\"ticks\":\"\",\"title\":{\"standoff\":15},\"zerolinecolor\":\"white\",\"automargin\":true,\"zerolinewidth\":2},\"yaxis\":{\"gridcolor\":\"white\",\"linecolor\":\"white\",\"ticks\":\"\",\"title\":{\"standoff\":15},\"zerolinecolor\":\"white\",\"automargin\":true,\"zerolinewidth\":2},\"scene\":{\"xaxis\":{\"backgroundcolor\":\"#E5ECF6\",\"gridcolor\":\"white\",\"linecolor\":\"white\",\"showbackground\":true,\"ticks\":\"\",\"zerolinecolor\":\"white\",\"gridwidth\":2},\"yaxis\":{\"backgroundcolor\":\"#E5ECF6\",\"gridcolor\":\"white\",\"linecolor\":\"white\",\"showbackground\":true,\"ticks\":\"\",\"zerolinecolor\":\"white\",\"gridwidth\":2},\"zaxis\":{\"backgroundcolor\":\"#E5ECF6\",\"gridcolor\":\"white\",\"linecolor\":\"white\",\"showbackground\":true,\"ticks\":\"\",\"zerolinecolor\":\"white\",\"gridwidth\":2}},\"shapedefaults\":{\"line\":{\"color\":\"#2a3f5f\"}},\"annotationdefaults\":{\"arrowcolor\":\"#2a3f5f\",\"arrowhead\":0,\"arrowwidth\":1},\"geo\":{\"bgcolor\":\"white\",\"landcolor\":\"#E5ECF6\",\"subunitcolor\":\"white\",\"showland\":true,\"showlakes\":true,\"lakecolor\":\"white\"},\"title\":{\"x\":0.05},\"mapbox\":{\"style\":\"light\"}}}},                        {\"responsive\": true}                    ).then(function(){\n",
       "                            \n",
       "var gd = document.getElementById('a5981aa6-26eb-485b-9fd3-f80d907a74be');\n",
       "var x = new MutationObserver(function (mutations, observer) {{\n",
       "        var display = window.getComputedStyle(gd).display;\n",
       "        if (!display || display === 'none') {{\n",
       "            console.log([gd, 'removed!']);\n",
       "            Plotly.purge(gd);\n",
       "            observer.disconnect();\n",
       "        }}\n",
       "}});\n",
       "\n",
       "// Listen for the removal of the full notebook cells\n",
       "var notebookContainer = gd.closest('#notebook-container');\n",
       "if (notebookContainer) {{\n",
       "    x.observe(notebookContainer, {childList: true});\n",
       "}}\n",
       "\n",
       "// Listen for the clearing of the current output cell\n",
       "var outputEl = gd.closest('.output');\n",
       "if (outputEl) {{\n",
       "    x.observe(outputEl, {childList: true});\n",
       "}}\n",
       "\n",
       "                        })                };                });            </script>        </div>"
      ]
     },
     "metadata": {},
     "output_type": "display_data"
    }
   ],
   "source": [
    "plot_param_importances(study)"
   ]
  },
  {
   "cell_type": "markdown",
   "id": "6f444ad0",
   "metadata": {
    "papermill": {
     "duration": 0.187907,
     "end_time": "2022-07-13T12:31:20.872251",
     "exception": false,
     "start_time": "2022-07-13T12:31:20.684344",
     "status": "completed"
    },
    "tags": []
   },
   "source": [
    "**There does not seem to be any parameter irrelevant enough to be removed for the next optimization.**\n"
   ]
  },
  {
   "cell_type": "code",
   "execution_count": 15,
   "id": "28ddaac1",
   "metadata": {
    "execution": {
     "iopub.execute_input": "2022-07-13T12:31:21.257173Z",
     "iopub.status.busy": "2022-07-13T12:31:21.256824Z",
     "iopub.status.idle": "2022-07-13T12:31:21.591856Z",
     "shell.execute_reply": "2022-07-13T12:31:21.590957Z"
    },
    "papermill": {
     "duration": 0.528529,
     "end_time": "2022-07-13T12:31:21.594032",
     "exception": false,
     "start_time": "2022-07-13T12:31:21.065503",
     "status": "completed"
    },
    "tags": []
   },
   "outputs": [
    {
     "data": {
      "text/html": [
       "<div>                            <div id=\"c24ed6b7-d5d0-4999-a927-a798fee5d86a\" class=\"plotly-graph-div\" style=\"height:525px; width:3000px;\"></div>            <script type=\"text/javascript\">                require([\"plotly\"], function(Plotly) {                    window.PLOTLYENV=window.PLOTLYENV || {};                                    if (document.getElementById(\"c24ed6b7-d5d0-4999-a927-a798fee5d86a\")) {                    Plotly.newPlot(                        \"c24ed6b7-d5d0-4999-a927-a798fee5d86a\",                        [{\"marker\":{\"color\":[0,1,2,3,4,5,6,7,8,9,10,11,12,13,14,15,16,17,18,19,20,21,22,23,24,25,26,27,28,29,30,31,32,33,34,35,36,37,38,39,40,41,42,43,44,45,46,47,48,49],\"colorbar\":{\"title\":{\"text\":\"#Trials\"},\"x\":1.0,\"xpad\":40},\"colorscale\":[[0.0,\"rgb(247,251,255)\"],[0.125,\"rgb(222,235,247)\"],[0.25,\"rgb(198,219,239)\"],[0.375,\"rgb(158,202,225)\"],[0.5,\"rgb(107,174,214)\"],[0.625,\"rgb(66,146,198)\"],[0.75,\"rgb(33,113,181)\"],[0.875,\"rgb(8,81,156)\"],[1.0,\"rgb(8,48,107)\"]],\"line\":{\"color\":\"Grey\",\"width\":0.5},\"showscale\":true},\"mode\":\"markers\",\"showlegend\":false,\"x\":[0.27828689284181335,0.00935901243384435,0.1788223437062113,0.3970480853552237,0.1886175667881292,0.03892494848529504,0.24194437479279102,0.09821138754053826,0.20166310242485008,0.2749254503039769,0.46951993866173025,0.3566080423713403,0.1471837048080266,0.24369956454349437,0.32349154315634765,0.3513930049900553,0.32411147507735427,0.47036594980948154,0.41368552424466065,0.3186770591076369,0.40948739966684566,0.3093524030515883,0.23260310243265053,0.32956551803058176,0.349506897462051,0.2952293826657609,0.3803509553033356,0.25229944103325397,0.43191258655768405,0.3274558427776527,0.49923155956667914,0.2789296733100679,0.27891623961126855,0.2882242687398962,0.26429421039991374,0.20967400245494186,0.36948772664672336,0.1557714409517426,0.3411747541267805,0.2899986912679905,0.21333830950204882,0.283463857365715,0.305454407893571,0.38897006392919725,0.26801845737039626,0.16945937509107484,0.11966535213492158,0.22893857131575987,0.0030894076444860363,0.3332313511971124],\"y\":[0.01904761791229248,0.016071438789367676,0.011904776096343994,0.013095259666442871,0.00952380895614624,0.012499988079071045,0.010714292526245117,0.8943452388048172,0.9014880955219269,0.014583349227905273,0.02529764175415039,0.01220238208770752,0.014285743236541748,0.008630931377410889,0.008630931377410889,0.013988077640533447,0.008630931377410889,0.9014880955219269,0.9014880955219269,0.010416686534881592,0.8940476179122925,0.009226202964782715,0.009226202964782715,0.008333325386047363,0.02767854928970337,0.9014880955219269,0.9014880955219269,0.9014880955219269,0.009821414947509766,0.0077381134033203125,0.9014880955219269,0.007440447807312012,0.007440447807312012,0.010714292526245117,0.020833313465118408,0.016666650772094727,0.009226202964782715,0.01815474033355713,0.011309504508972168,0.0077381134033203125,0.01279759407043457,0.010714292526245117,0.00952380895614624,0.00952380895614624,0.026488065719604492,0.9014880955219269,0.009821414947509766,0.011607170104980469,0.011904776096343994,0.180059552192688],\"type\":\"scatter\",\"xaxis\":\"x\",\"yaxis\":\"y\"},{\"marker\":{\"color\":[0,1,2,3,4,5,6,7,8,9,10,11,12,13,14,15,16,17,18,19,20,21,22,23,24,25,26,27,28,29,30,31,32,33,34,35,36,37,38,39,40,41,42,43,44,45,46,47,48,49],\"colorbar\":{\"title\":{\"text\":\"#Trials\"},\"x\":1.0,\"xpad\":40},\"colorscale\":[[0.0,\"rgb(247,251,255)\"],[0.125,\"rgb(222,235,247)\"],[0.25,\"rgb(198,219,239)\"],[0.375,\"rgb(158,202,225)\"],[0.5,\"rgb(107,174,214)\"],[0.625,\"rgb(66,146,198)\"],[0.75,\"rgb(33,113,181)\"],[0.875,\"rgb(8,81,156)\"],[1.0,\"rgb(8,48,107)\"]],\"line\":{\"color\":\"Grey\",\"width\":0.5},\"showscale\":false},\"mode\":\"markers\",\"showlegend\":false,\"x\":[0.37117361529060827,0.07322258226942924,0.11550078007494952,0.31075617390899396,0.08239516787835971,0.1738371730509758,0.42963473010415876,0.1952554474644152,0.14466360189989247,0.08005786079834637,0.0007535036249653876,0.4958865498669879,0.4961261031874953,0.3763178247531169,0.2737106654921644,0.2677577374749554,0.3467625400877427,0.25594936670384083,0.36000906784955633,0.313485679046627,0.21524158571089883,0.39931439142186764,0.31367442523968575,0.43599129112490237,0.44111619794056595,0.4368266333121822,0.28946943025877847,0.38760421821770524,0.47237598949561105,0.36377494600940175,0.34490589910736025,0.40562913428407965,0.41139563960080644,0.4097686940956778,0.4601310391768561,0.41744316821700866,0.4607946776368102,0.3326309474271047,0.3711595962830644,0.3958480531091827,0.22280809928055914,0.39611577328599445,0.42944248803905205,0.4537881258916776,0.47650861394302546,0.41930117662592165,0.38115632036106933,0.35962032275473693,0.33590318274969627,0.48859252529141906],\"y\":[0.01904761791229248,0.016071438789367676,0.011904776096343994,0.013095259666442871,0.00952380895614624,0.012499988079071045,0.010714292526245117,0.8943452388048172,0.9014880955219269,0.014583349227905273,0.02529764175415039,0.01220238208770752,0.014285743236541748,0.008630931377410889,0.008630931377410889,0.013988077640533447,0.008630931377410889,0.9014880955219269,0.9014880955219269,0.010416686534881592,0.8940476179122925,0.009226202964782715,0.009226202964782715,0.008333325386047363,0.02767854928970337,0.9014880955219269,0.9014880955219269,0.9014880955219269,0.009821414947509766,0.0077381134033203125,0.9014880955219269,0.007440447807312012,0.007440447807312012,0.010714292526245117,0.020833313465118408,0.016666650772094727,0.009226202964782715,0.01815474033355713,0.011309504508972168,0.0077381134033203125,0.01279759407043457,0.010714292526245117,0.00952380895614624,0.00952380895614624,0.026488065719604492,0.9014880955219269,0.009821414947509766,0.011607170104980469,0.011904776096343994,0.180059552192688],\"type\":\"scatter\",\"xaxis\":\"x2\",\"yaxis\":\"y2\"},{\"marker\":{\"color\":[0,1,2,3,4,5,6,7,8,9,10,11,12,13,14,15,16,17,18,19,20,21,22,23,24,25,26,27,28,29,30,31,32,33,34,35,36,37,38,39,40,41,42,43,44,45,46,47,48,49],\"colorbar\":{\"title\":{\"text\":\"#Trials\"},\"x\":1.0,\"xpad\":40},\"colorscale\":[[0.0,\"rgb(247,251,255)\"],[0.125,\"rgb(222,235,247)\"],[0.25,\"rgb(198,219,239)\"],[0.375,\"rgb(158,202,225)\"],[0.5,\"rgb(107,174,214)\"],[0.625,\"rgb(66,146,198)\"],[0.75,\"rgb(33,113,181)\"],[0.875,\"rgb(8,81,156)\"],[1.0,\"rgb(8,48,107)\"]],\"line\":{\"color\":\"Grey\",\"width\":0.5},\"showscale\":false},\"mode\":\"markers\",\"showlegend\":false,\"x\":[100.0,200.0,100.0,300.0,200.0,100.0,100.0,200.0,100.0,100.0,300.0,200.0,200.0,300.0,300.0,300.0,300.0,300.0,300.0,300.0,300.0,300.0,300.0,300.0,200.0,300.0,300.0,300.0,200.0,300.0,200.0,300.0,300.0,300.0,300.0,300.0,300.0,200.0,300.0,200.0,200.0,200.0,200.0,200.0,300.0,100.0,200.0,300.0,300.0,200.0],\"y\":[0.01904761791229248,0.016071438789367676,0.011904776096343994,0.013095259666442871,0.00952380895614624,0.012499988079071045,0.010714292526245117,0.8943452388048172,0.9014880955219269,0.014583349227905273,0.02529764175415039,0.01220238208770752,0.014285743236541748,0.008630931377410889,0.008630931377410889,0.013988077640533447,0.008630931377410889,0.9014880955219269,0.9014880955219269,0.010416686534881592,0.8940476179122925,0.009226202964782715,0.009226202964782715,0.008333325386047363,0.02767854928970337,0.9014880955219269,0.9014880955219269,0.9014880955219269,0.009821414947509766,0.0077381134033203125,0.9014880955219269,0.007440447807312012,0.007440447807312012,0.010714292526245117,0.020833313465118408,0.016666650772094727,0.009226202964782715,0.01815474033355713,0.011309504508972168,0.0077381134033203125,0.01279759407043457,0.010714292526245117,0.00952380895614624,0.00952380895614624,0.026488065719604492,0.9014880955219269,0.009821414947509766,0.011607170104980469,0.011904776096343994,0.180059552192688],\"type\":\"scatter\",\"xaxis\":\"x3\",\"yaxis\":\"y3\"},{\"marker\":{\"color\":[0,1,2,3,4,5,6,7,8,9,10,11,12,13,14,15,16,17,18,19,20,21,22,23,24,25,26,27,28,29,30,31,32,33,34,35,36,37,38,39,40,41,42,43,44,45,46,47,48,49],\"colorbar\":{\"title\":{\"text\":\"#Trials\"},\"x\":1.0,\"xpad\":40},\"colorscale\":[[0.0,\"rgb(247,251,255)\"],[0.125,\"rgb(222,235,247)\"],[0.25,\"rgb(198,219,239)\"],[0.375,\"rgb(158,202,225)\"],[0.5,\"rgb(107,174,214)\"],[0.625,\"rgb(66,146,198)\"],[0.75,\"rgb(33,113,181)\"],[0.875,\"rgb(8,81,156)\"],[1.0,\"rgb(8,48,107)\"]],\"line\":{\"color\":\"Grey\",\"width\":0.5},\"showscale\":false},\"mode\":\"markers\",\"showlegend\":false,\"x\":[32.0,32.0,16.0,96.0,64.0,112.0,48.0,16.0,64.0,112.0,80.0,64.0,48.0,80.0,80.0,128.0,96.0,96.0,96.0,128.0,112.0,80.0,80.0,96.0,96.0,112.0,96.0,80.0,48.0,112.0,128.0,112.0,112.0,112.0,128.0,112.0,112.0,128.0,112.0,96.0,128.0,96.0,96.0,112.0,96.0,112.0,112.0,96.0,32.0,64.0],\"y\":[0.01904761791229248,0.016071438789367676,0.011904776096343994,0.013095259666442871,0.00952380895614624,0.012499988079071045,0.010714292526245117,0.8943452388048172,0.9014880955219269,0.014583349227905273,0.02529764175415039,0.01220238208770752,0.014285743236541748,0.008630931377410889,0.008630931377410889,0.013988077640533447,0.008630931377410889,0.9014880955219269,0.9014880955219269,0.010416686534881592,0.8940476179122925,0.009226202964782715,0.009226202964782715,0.008333325386047363,0.02767854928970337,0.9014880955219269,0.9014880955219269,0.9014880955219269,0.009821414947509766,0.0077381134033203125,0.9014880955219269,0.007440447807312012,0.007440447807312012,0.010714292526245117,0.020833313465118408,0.016666650772094727,0.009226202964782715,0.01815474033355713,0.011309504508972168,0.0077381134033203125,0.01279759407043457,0.010714292526245117,0.00952380895614624,0.00952380895614624,0.026488065719604492,0.9014880955219269,0.009821414947509766,0.011607170104980469,0.011904776096343994,0.180059552192688],\"type\":\"scatter\",\"xaxis\":\"x4\",\"yaxis\":\"y4\"},{\"marker\":{\"color\":[0,1,2,3,4,5,6,7,8,9,10,11,12,13,14,15,16,17,18,19,20,21,22,23,24,25,26,27,28,29,30,31,32,33,34,35,36,37,38,39,40,41,42,43,44,45,46,47,48,49],\"colorbar\":{\"title\":{\"text\":\"#Trials\"},\"x\":1.0,\"xpad\":40},\"colorscale\":[[0.0,\"rgb(247,251,255)\"],[0.125,\"rgb(222,235,247)\"],[0.25,\"rgb(198,219,239)\"],[0.375,\"rgb(158,202,225)\"],[0.5,\"rgb(107,174,214)\"],[0.625,\"rgb(66,146,198)\"],[0.75,\"rgb(33,113,181)\"],[0.875,\"rgb(8,81,156)\"],[1.0,\"rgb(8,48,107)\"]],\"line\":{\"color\":\"Grey\",\"width\":0.5},\"showscale\":false},\"mode\":\"markers\",\"showlegend\":false,\"x\":[96.0,112.0,64.0,80.0,112.0,48.0,16.0,16.0,64.0,128.0,128.0,16.0,32.0,96.0,96.0,96.0,80.0,80.0,48.0,80.0,112.0,96.0,96.0,64.0,64.0,48.0,80.0,112.0,96.0,64.0,32.0,64.0,64.0,64.0,48.0,64.0,48.0,64.0,32.0,64.0,48.0,64.0,64.0,80.0,64.0,48.0,80.0,64.0,80.0,48.0],\"y\":[0.01904761791229248,0.016071438789367676,0.011904776096343994,0.013095259666442871,0.00952380895614624,0.012499988079071045,0.010714292526245117,0.8943452388048172,0.9014880955219269,0.014583349227905273,0.02529764175415039,0.01220238208770752,0.014285743236541748,0.008630931377410889,0.008630931377410889,0.013988077640533447,0.008630931377410889,0.9014880955219269,0.9014880955219269,0.010416686534881592,0.8940476179122925,0.009226202964782715,0.009226202964782715,0.008333325386047363,0.02767854928970337,0.9014880955219269,0.9014880955219269,0.9014880955219269,0.009821414947509766,0.0077381134033203125,0.9014880955219269,0.007440447807312012,0.007440447807312012,0.010714292526245117,0.020833313465118408,0.016666650772094727,0.009226202964782715,0.01815474033355713,0.011309504508972168,0.0077381134033203125,0.01279759407043457,0.010714292526245117,0.00952380895614624,0.00952380895614624,0.026488065719604492,0.9014880955219269,0.009821414947509766,0.011607170104980469,0.011904776096343994,0.180059552192688],\"type\":\"scatter\",\"xaxis\":\"x5\",\"yaxis\":\"y5\"},{\"marker\":{\"color\":[0,1,2,4,5,6,8,10,11,12,13,14,15,16,17,18,19,20,21,22,23,24,25,26,27,28,29,30,31,32,33,34,35,36,37,38,39,40,41,42,43,44,46,47,48,49],\"colorbar\":{\"title\":{\"text\":\"#Trials\"},\"x\":1.0,\"xpad\":40},\"colorscale\":[[0.0,\"rgb(247,251,255)\"],[0.125,\"rgb(222,235,247)\"],[0.25,\"rgb(198,219,239)\"],[0.375,\"rgb(158,202,225)\"],[0.5,\"rgb(107,174,214)\"],[0.625,\"rgb(66,146,198)\"],[0.75,\"rgb(33,113,181)\"],[0.875,\"rgb(8,81,156)\"],[1.0,\"rgb(8,48,107)\"]],\"line\":{\"color\":\"Grey\",\"width\":0.5},\"showscale\":false},\"mode\":\"markers\",\"showlegend\":false,\"x\":[16.0,112.0,128.0,32.0,16.0,80.0,112.0,48.0,64.0,80.0,48.0,48.0,48.0,48.0,64.0,32.0,96.0,32.0,48.0,64.0,48.0,32.0,64.0,48.0,80.0,16.0,32.0,32.0,48.0,32.0,16.0,32.0,16.0,32.0,16.0,64.0,32.0,32.0,16.0,48.0,32.0,128.0,32.0,48.0,32.0,96.0],\"y\":[0.01904761791229248,0.016071438789367676,0.011904776096343994,0.00952380895614624,0.012499988079071045,0.010714292526245117,0.9014880955219269,0.02529764175415039,0.01220238208770752,0.014285743236541748,0.008630931377410889,0.008630931377410889,0.013988077640533447,0.008630931377410889,0.9014880955219269,0.9014880955219269,0.010416686534881592,0.8940476179122925,0.009226202964782715,0.009226202964782715,0.008333325386047363,0.02767854928970337,0.9014880955219269,0.9014880955219269,0.9014880955219269,0.009821414947509766,0.0077381134033203125,0.9014880955219269,0.007440447807312012,0.007440447807312012,0.010714292526245117,0.020833313465118408,0.016666650772094727,0.009226202964782715,0.01815474033355713,0.011309504508972168,0.0077381134033203125,0.01279759407043457,0.010714292526245117,0.00952380895614624,0.00952380895614624,0.026488065719604492,0.009821414947509766,0.011607170104980469,0.011904776096343994,0.180059552192688],\"type\":\"scatter\",\"xaxis\":\"x6\",\"yaxis\":\"y6\"},{\"marker\":{\"color\":[0,2,4,5,6,8,10,11,13,14,15,16,18,19,20,21,22,23,24,25,26,27,28,29,31,32,33,34,35,36,37,38,39,40,41,42,43,44,46,47,48],\"colorbar\":{\"title\":{\"text\":\"#Trials\"},\"x\":1.0,\"xpad\":40},\"colorscale\":[[0.0,\"rgb(247,251,255)\"],[0.125,\"rgb(222,235,247)\"],[0.25,\"rgb(198,219,239)\"],[0.375,\"rgb(158,202,225)\"],[0.5,\"rgb(107,174,214)\"],[0.625,\"rgb(66,146,198)\"],[0.75,\"rgb(33,113,181)\"],[0.875,\"rgb(8,81,156)\"],[1.0,\"rgb(8,48,107)\"]],\"line\":{\"color\":\"Grey\",\"width\":0.5},\"showscale\":false},\"mode\":\"markers\",\"showlegend\":false,\"x\":[48.0,64.0,48.0,128.0,80.0,128.0,16.0,80.0,80.0,32.0,16.0,96.0,96.0,112.0,48.0,96.0,96.0,64.0,32.0,64.0,32.0,64.0,32.0,112.0,112.0,112.0,112.0,112.0,128.0,112.0,112.0,128.0,96.0,96.0,112.0,80.0,96.0,128.0,112.0,48.0,128.0],\"y\":[0.01904761791229248,0.011904776096343994,0.00952380895614624,0.012499988079071045,0.010714292526245117,0.9014880955219269,0.02529764175415039,0.01220238208770752,0.008630931377410889,0.008630931377410889,0.013988077640533447,0.008630931377410889,0.9014880955219269,0.010416686534881592,0.8940476179122925,0.009226202964782715,0.009226202964782715,0.008333325386047363,0.02767854928970337,0.9014880955219269,0.9014880955219269,0.9014880955219269,0.009821414947509766,0.0077381134033203125,0.007440447807312012,0.007440447807312012,0.010714292526245117,0.020833313465118408,0.016666650772094727,0.009226202964782715,0.01815474033355713,0.011309504508972168,0.0077381134033203125,0.01279759407043457,0.010714292526245117,0.00952380895614624,0.00952380895614624,0.026488065719604492,0.009821414947509766,0.011607170104980469,0.011904776096343994],\"type\":\"scatter\",\"xaxis\":\"x7\",\"yaxis\":\"y7\"},{\"marker\":{\"color\":[0,4,8,10,13,14,15,16,19,21,22,23,24,26,28,29,31,32,33,34,36,38,39,41,42,43,44,46,47,48],\"colorbar\":{\"title\":{\"text\":\"#Trials\"},\"x\":1.0,\"xpad\":40},\"colorscale\":[[0.0,\"rgb(247,251,255)\"],[0.125,\"rgb(222,235,247)\"],[0.25,\"rgb(198,219,239)\"],[0.375,\"rgb(158,202,225)\"],[0.5,\"rgb(107,174,214)\"],[0.625,\"rgb(66,146,198)\"],[0.75,\"rgb(33,113,181)\"],[0.875,\"rgb(8,81,156)\"],[1.0,\"rgb(8,48,107)\"]],\"line\":{\"color\":\"Grey\",\"width\":0.5},\"showscale\":false},\"mode\":\"markers\",\"showlegend\":false,\"x\":[32.0,80.0,32.0,128.0,96.0,96.0,96.0,112.0,128.0,96.0,96.0,112.0,112.0,64.0,64.0,112.0,112.0,112.0,112.0,128.0,112.0,112.0,80.0,80.0,128.0,112.0,48.0,80.0,112.0,128.0],\"y\":[0.01904761791229248,0.00952380895614624,0.9014880955219269,0.02529764175415039,0.008630931377410889,0.008630931377410889,0.013988077640533447,0.008630931377410889,0.010416686534881592,0.009226202964782715,0.009226202964782715,0.008333325386047363,0.02767854928970337,0.9014880955219269,0.009821414947509766,0.0077381134033203125,0.007440447807312012,0.007440447807312012,0.010714292526245117,0.020833313465118408,0.009226202964782715,0.011309504508972168,0.0077381134033203125,0.010714292526245117,0.00952380895614624,0.00952380895614624,0.026488065719604492,0.009821414947509766,0.011607170104980469,0.011904776096343994],\"type\":\"scatter\",\"xaxis\":\"x8\",\"yaxis\":\"y8\"},{\"marker\":{\"color\":[0,1,2,3,4,5,6,7,8,9,10,11,12,13,14,15,16,17,18,19,20,21,22,23,24,25,26,27,28,29,30,31,32,33,34,35,36,37,38,39,40,41,42,43,44,45,46,47,48,49],\"colorbar\":{\"title\":{\"text\":\"#Trials\"},\"x\":1.0,\"xpad\":40},\"colorscale\":[[0.0,\"rgb(247,251,255)\"],[0.125,\"rgb(222,235,247)\"],[0.25,\"rgb(198,219,239)\"],[0.375,\"rgb(158,202,225)\"],[0.5,\"rgb(107,174,214)\"],[0.625,\"rgb(66,146,198)\"],[0.75,\"rgb(33,113,181)\"],[0.875,\"rgb(8,81,156)\"],[1.0,\"rgb(8,48,107)\"]],\"line\":{\"color\":\"Grey\",\"width\":0.5},\"showscale\":false},\"mode\":\"markers\",\"showlegend\":false,\"x\":[5,3,4,2,5,4,4,2,5,2,5,4,3,5,5,5,5,3,4,5,4,5,5,5,5,4,5,4,5,5,3,5,5,5,5,4,5,4,5,5,4,5,5,5,5,2,5,5,5,3],\"y\":[0.01904761791229248,0.016071438789367676,0.011904776096343994,0.013095259666442871,0.00952380895614624,0.012499988079071045,0.010714292526245117,0.8943452388048172,0.9014880955219269,0.014583349227905273,0.02529764175415039,0.01220238208770752,0.014285743236541748,0.008630931377410889,0.008630931377410889,0.013988077640533447,0.008630931377410889,0.9014880955219269,0.9014880955219269,0.010416686534881592,0.8940476179122925,0.009226202964782715,0.009226202964782715,0.008333325386047363,0.02767854928970337,0.9014880955219269,0.9014880955219269,0.9014880955219269,0.009821414947509766,0.0077381134033203125,0.9014880955219269,0.007440447807312012,0.007440447807312012,0.010714292526245117,0.020833313465118408,0.016666650772094727,0.009226202964782715,0.01815474033355713,0.011309504508972168,0.0077381134033203125,0.01279759407043457,0.010714292526245117,0.00952380895614624,0.00952380895614624,0.026488065719604492,0.9014880955219269,0.009821414947509766,0.011607170104980469,0.011904776096343994,0.180059552192688],\"type\":\"scatter\",\"xaxis\":\"x9\",\"yaxis\":\"y9\"},{\"marker\":{\"color\":[0,1,2,3,4,5,6,7,8,9,10,11,12,13,14,15,16,17,18,19,20,21,22,23,24,25,26,27,28,29,30,31,32,33,34,35,36,37,38,39,40,41,42,43,44,45,46,47,48,49],\"colorbar\":{\"title\":{\"text\":\"#Trials\"},\"x\":1.0,\"xpad\":40},\"colorscale\":[[0.0,\"rgb(247,251,255)\"],[0.125,\"rgb(222,235,247)\"],[0.25,\"rgb(198,219,239)\"],[0.375,\"rgb(158,202,225)\"],[0.5,\"rgb(107,174,214)\"],[0.625,\"rgb(66,146,198)\"],[0.75,\"rgb(33,113,181)\"],[0.875,\"rgb(8,81,156)\"],[1.0,\"rgb(8,48,107)\"]],\"line\":{\"color\":\"Grey\",\"width\":0.5},\"showscale\":false},\"mode\":\"markers\",\"showlegend\":false,\"x\":[\"sgd\",\"adam\",\"adam\",\"adam\",\"sgd\",\"adam\",\"adam\",\"sgd\",\"sgd\",\"adam\",\"sgd\",\"sgd\",\"adam\",\"sgd\",\"sgd\",\"sgd\",\"sgd\",\"sgd\",\"sgd\",\"sgd\",\"sgd\",\"sgd\",\"sgd\",\"sgd\",\"sgd\",\"sgd\",\"sgd\",\"sgd\",\"sgd\",\"sgd\",\"sgd\",\"sgd\",\"sgd\",\"sgd\",\"sgd\",\"sgd\",\"adam\",\"sgd\",\"adam\",\"sgd\",\"adam\",\"sgd\",\"sgd\",\"sgd\",\"sgd\",\"sgd\",\"sgd\",\"adam\",\"sgd\",\"sgd\"],\"y\":[0.01904761791229248,0.016071438789367676,0.011904776096343994,0.013095259666442871,0.00952380895614624,0.012499988079071045,0.010714292526245117,0.8943452388048172,0.9014880955219269,0.014583349227905273,0.02529764175415039,0.01220238208770752,0.014285743236541748,0.008630931377410889,0.008630931377410889,0.013988077640533447,0.008630931377410889,0.9014880955219269,0.9014880955219269,0.010416686534881592,0.8940476179122925,0.009226202964782715,0.009226202964782715,0.008333325386047363,0.02767854928970337,0.9014880955219269,0.9014880955219269,0.9014880955219269,0.009821414947509766,0.0077381134033203125,0.9014880955219269,0.007440447807312012,0.007440447807312012,0.010714292526245117,0.020833313465118408,0.016666650772094727,0.009226202964782715,0.01815474033355713,0.011309504508972168,0.0077381134033203125,0.01279759407043457,0.010714292526245117,0.00952380895614624,0.00952380895614624,0.026488065719604492,0.9014880955219269,0.009821414947509766,0.011607170104980469,0.011904776096343994,0.180059552192688],\"type\":\"scatter\",\"xaxis\":\"x10\",\"yaxis\":\"y10\"}],                        {\"template\":{\"data\":{\"histogram2dcontour\":[{\"type\":\"histogram2dcontour\",\"colorbar\":{\"outlinewidth\":0,\"ticks\":\"\"},\"colorscale\":[[0.0,\"#0d0887\"],[0.1111111111111111,\"#46039f\"],[0.2222222222222222,\"#7201a8\"],[0.3333333333333333,\"#9c179e\"],[0.4444444444444444,\"#bd3786\"],[0.5555555555555556,\"#d8576b\"],[0.6666666666666666,\"#ed7953\"],[0.7777777777777778,\"#fb9f3a\"],[0.8888888888888888,\"#fdca26\"],[1.0,\"#f0f921\"]]}],\"choropleth\":[{\"type\":\"choropleth\",\"colorbar\":{\"outlinewidth\":0,\"ticks\":\"\"}}],\"histogram2d\":[{\"type\":\"histogram2d\",\"colorbar\":{\"outlinewidth\":0,\"ticks\":\"\"},\"colorscale\":[[0.0,\"#0d0887\"],[0.1111111111111111,\"#46039f\"],[0.2222222222222222,\"#7201a8\"],[0.3333333333333333,\"#9c179e\"],[0.4444444444444444,\"#bd3786\"],[0.5555555555555556,\"#d8576b\"],[0.6666666666666666,\"#ed7953\"],[0.7777777777777778,\"#fb9f3a\"],[0.8888888888888888,\"#fdca26\"],[1.0,\"#f0f921\"]]}],\"heatmap\":[{\"type\":\"heatmap\",\"colorbar\":{\"outlinewidth\":0,\"ticks\":\"\"},\"colorscale\":[[0.0,\"#0d0887\"],[0.1111111111111111,\"#46039f\"],[0.2222222222222222,\"#7201a8\"],[0.3333333333333333,\"#9c179e\"],[0.4444444444444444,\"#bd3786\"],[0.5555555555555556,\"#d8576b\"],[0.6666666666666666,\"#ed7953\"],[0.7777777777777778,\"#fb9f3a\"],[0.8888888888888888,\"#fdca26\"],[1.0,\"#f0f921\"]]}],\"heatmapgl\":[{\"type\":\"heatmapgl\",\"colorbar\":{\"outlinewidth\":0,\"ticks\":\"\"},\"colorscale\":[[0.0,\"#0d0887\"],[0.1111111111111111,\"#46039f\"],[0.2222222222222222,\"#7201a8\"],[0.3333333333333333,\"#9c179e\"],[0.4444444444444444,\"#bd3786\"],[0.5555555555555556,\"#d8576b\"],[0.6666666666666666,\"#ed7953\"],[0.7777777777777778,\"#fb9f3a\"],[0.8888888888888888,\"#fdca26\"],[1.0,\"#f0f921\"]]}],\"contourcarpet\":[{\"type\":\"contourcarpet\",\"colorbar\":{\"outlinewidth\":0,\"ticks\":\"\"}}],\"contour\":[{\"type\":\"contour\",\"colorbar\":{\"outlinewidth\":0,\"ticks\":\"\"},\"colorscale\":[[0.0,\"#0d0887\"],[0.1111111111111111,\"#46039f\"],[0.2222222222222222,\"#7201a8\"],[0.3333333333333333,\"#9c179e\"],[0.4444444444444444,\"#bd3786\"],[0.5555555555555556,\"#d8576b\"],[0.6666666666666666,\"#ed7953\"],[0.7777777777777778,\"#fb9f3a\"],[0.8888888888888888,\"#fdca26\"],[1.0,\"#f0f921\"]]}],\"surface\":[{\"type\":\"surface\",\"colorbar\":{\"outlinewidth\":0,\"ticks\":\"\"},\"colorscale\":[[0.0,\"#0d0887\"],[0.1111111111111111,\"#46039f\"],[0.2222222222222222,\"#7201a8\"],[0.3333333333333333,\"#9c179e\"],[0.4444444444444444,\"#bd3786\"],[0.5555555555555556,\"#d8576b\"],[0.6666666666666666,\"#ed7953\"],[0.7777777777777778,\"#fb9f3a\"],[0.8888888888888888,\"#fdca26\"],[1.0,\"#f0f921\"]]}],\"mesh3d\":[{\"type\":\"mesh3d\",\"colorbar\":{\"outlinewidth\":0,\"ticks\":\"\"}}],\"scatter\":[{\"fillpattern\":{\"fillmode\":\"overlay\",\"size\":10,\"solidity\":0.2},\"type\":\"scatter\"}],\"parcoords\":[{\"type\":\"parcoords\",\"line\":{\"colorbar\":{\"outlinewidth\":0,\"ticks\":\"\"}}}],\"scatterpolargl\":[{\"type\":\"scatterpolargl\",\"marker\":{\"colorbar\":{\"outlinewidth\":0,\"ticks\":\"\"}}}],\"bar\":[{\"error_x\":{\"color\":\"#2a3f5f\"},\"error_y\":{\"color\":\"#2a3f5f\"},\"marker\":{\"line\":{\"color\":\"#E5ECF6\",\"width\":0.5},\"pattern\":{\"fillmode\":\"overlay\",\"size\":10,\"solidity\":0.2}},\"type\":\"bar\"}],\"scattergeo\":[{\"type\":\"scattergeo\",\"marker\":{\"colorbar\":{\"outlinewidth\":0,\"ticks\":\"\"}}}],\"scatterpolar\":[{\"type\":\"scatterpolar\",\"marker\":{\"colorbar\":{\"outlinewidth\":0,\"ticks\":\"\"}}}],\"histogram\":[{\"marker\":{\"pattern\":{\"fillmode\":\"overlay\",\"size\":10,\"solidity\":0.2}},\"type\":\"histogram\"}],\"scattergl\":[{\"type\":\"scattergl\",\"marker\":{\"colorbar\":{\"outlinewidth\":0,\"ticks\":\"\"}}}],\"scatter3d\":[{\"type\":\"scatter3d\",\"line\":{\"colorbar\":{\"outlinewidth\":0,\"ticks\":\"\"}},\"marker\":{\"colorbar\":{\"outlinewidth\":0,\"ticks\":\"\"}}}],\"scattermapbox\":[{\"type\":\"scattermapbox\",\"marker\":{\"colorbar\":{\"outlinewidth\":0,\"ticks\":\"\"}}}],\"scatterternary\":[{\"type\":\"scatterternary\",\"marker\":{\"colorbar\":{\"outlinewidth\":0,\"ticks\":\"\"}}}],\"scattercarpet\":[{\"type\":\"scattercarpet\",\"marker\":{\"colorbar\":{\"outlinewidth\":0,\"ticks\":\"\"}}}],\"carpet\":[{\"aaxis\":{\"endlinecolor\":\"#2a3f5f\",\"gridcolor\":\"white\",\"linecolor\":\"white\",\"minorgridcolor\":\"white\",\"startlinecolor\":\"#2a3f5f\"},\"baxis\":{\"endlinecolor\":\"#2a3f5f\",\"gridcolor\":\"white\",\"linecolor\":\"white\",\"minorgridcolor\":\"white\",\"startlinecolor\":\"#2a3f5f\"},\"type\":\"carpet\"}],\"table\":[{\"cells\":{\"fill\":{\"color\":\"#EBF0F8\"},\"line\":{\"color\":\"white\"}},\"header\":{\"fill\":{\"color\":\"#C8D4E3\"},\"line\":{\"color\":\"white\"}},\"type\":\"table\"}],\"barpolar\":[{\"marker\":{\"line\":{\"color\":\"#E5ECF6\",\"width\":0.5},\"pattern\":{\"fillmode\":\"overlay\",\"size\":10,\"solidity\":0.2}},\"type\":\"barpolar\"}],\"pie\":[{\"automargin\":true,\"type\":\"pie\"}]},\"layout\":{\"autotypenumbers\":\"strict\",\"colorway\":[\"#636efa\",\"#EF553B\",\"#00cc96\",\"#ab63fa\",\"#FFA15A\",\"#19d3f3\",\"#FF6692\",\"#B6E880\",\"#FF97FF\",\"#FECB52\"],\"font\":{\"color\":\"#2a3f5f\"},\"hovermode\":\"closest\",\"hoverlabel\":{\"align\":\"left\"},\"paper_bgcolor\":\"white\",\"plot_bgcolor\":\"#E5ECF6\",\"polar\":{\"bgcolor\":\"#E5ECF6\",\"angularaxis\":{\"gridcolor\":\"white\",\"linecolor\":\"white\",\"ticks\":\"\"},\"radialaxis\":{\"gridcolor\":\"white\",\"linecolor\":\"white\",\"ticks\":\"\"}},\"ternary\":{\"bgcolor\":\"#E5ECF6\",\"aaxis\":{\"gridcolor\":\"white\",\"linecolor\":\"white\",\"ticks\":\"\"},\"baxis\":{\"gridcolor\":\"white\",\"linecolor\":\"white\",\"ticks\":\"\"},\"caxis\":{\"gridcolor\":\"white\",\"linecolor\":\"white\",\"ticks\":\"\"}},\"coloraxis\":{\"colorbar\":{\"outlinewidth\":0,\"ticks\":\"\"}},\"colorscale\":{\"sequential\":[[0.0,\"#0d0887\"],[0.1111111111111111,\"#46039f\"],[0.2222222222222222,\"#7201a8\"],[0.3333333333333333,\"#9c179e\"],[0.4444444444444444,\"#bd3786\"],[0.5555555555555556,\"#d8576b\"],[0.6666666666666666,\"#ed7953\"],[0.7777777777777778,\"#fb9f3a\"],[0.8888888888888888,\"#fdca26\"],[1.0,\"#f0f921\"]],\"sequentialminus\":[[0.0,\"#0d0887\"],[0.1111111111111111,\"#46039f\"],[0.2222222222222222,\"#7201a8\"],[0.3333333333333333,\"#9c179e\"],[0.4444444444444444,\"#bd3786\"],[0.5555555555555556,\"#d8576b\"],[0.6666666666666666,\"#ed7953\"],[0.7777777777777778,\"#fb9f3a\"],[0.8888888888888888,\"#fdca26\"],[1.0,\"#f0f921\"]],\"diverging\":[[0,\"#8e0152\"],[0.1,\"#c51b7d\"],[0.2,\"#de77ae\"],[0.3,\"#f1b6da\"],[0.4,\"#fde0ef\"],[0.5,\"#f7f7f7\"],[0.6,\"#e6f5d0\"],[0.7,\"#b8e186\"],[0.8,\"#7fbc41\"],[0.9,\"#4d9221\"],[1,\"#276419\"]]},\"xaxis\":{\"gridcolor\":\"white\",\"linecolor\":\"white\",\"ticks\":\"\",\"title\":{\"standoff\":15},\"zerolinecolor\":\"white\",\"automargin\":true,\"zerolinewidth\":2},\"yaxis\":{\"gridcolor\":\"white\",\"linecolor\":\"white\",\"ticks\":\"\",\"title\":{\"standoff\":15},\"zerolinecolor\":\"white\",\"automargin\":true,\"zerolinewidth\":2},\"scene\":{\"xaxis\":{\"backgroundcolor\":\"#E5ECF6\",\"gridcolor\":\"white\",\"linecolor\":\"white\",\"showbackground\":true,\"ticks\":\"\",\"zerolinecolor\":\"white\",\"gridwidth\":2},\"yaxis\":{\"backgroundcolor\":\"#E5ECF6\",\"gridcolor\":\"white\",\"linecolor\":\"white\",\"showbackground\":true,\"ticks\":\"\",\"zerolinecolor\":\"white\",\"gridwidth\":2},\"zaxis\":{\"backgroundcolor\":\"#E5ECF6\",\"gridcolor\":\"white\",\"linecolor\":\"white\",\"showbackground\":true,\"ticks\":\"\",\"zerolinecolor\":\"white\",\"gridwidth\":2}},\"shapedefaults\":{\"line\":{\"color\":\"#2a3f5f\"}},\"annotationdefaults\":{\"arrowcolor\":\"#2a3f5f\",\"arrowhead\":0,\"arrowwidth\":1},\"geo\":{\"bgcolor\":\"white\",\"landcolor\":\"#E5ECF6\",\"subunitcolor\":\"white\",\"showland\":true,\"showlakes\":true,\"lakecolor\":\"white\"},\"title\":{\"x\":0.05},\"mapbox\":{\"style\":\"light\"}}},\"xaxis\":{\"anchor\":\"y\",\"domain\":[0.0,0.082],\"title\":{\"text\":\"dropout_rate0\"}},\"yaxis\":{\"anchor\":\"x\",\"domain\":[0.0,1.0],\"title\":{\"text\":\"Objective Value\"}},\"xaxis2\":{\"anchor\":\"y2\",\"domain\":[0.10200000000000001,0.184],\"title\":{\"text\":\"dropout_rate1\"}},\"yaxis2\":{\"anchor\":\"x2\",\"domain\":[0.0,1.0],\"matches\":\"y\",\"showticklabels\":false},\"xaxis3\":{\"anchor\":\"y3\",\"domain\":[0.20400000000000001,0.28600000000000003],\"title\":{\"text\":\"mid_units\"}},\"yaxis3\":{\"anchor\":\"x3\",\"domain\":[0.0,1.0],\"matches\":\"y\",\"showticklabels\":false},\"xaxis4\":{\"anchor\":\"y4\",\"domain\":[0.306,0.388],\"title\":{\"text\":\"num_filter_0\"}},\"yaxis4\":{\"anchor\":\"x4\",\"domain\":[0.0,1.0],\"matches\":\"y\",\"showticklabels\":false},\"xaxis5\":{\"anchor\":\"y5\",\"domain\":[0.40800000000000003,0.49000000000000005],\"title\":{\"text\":\"num_filter_1\"}},\"yaxis5\":{\"anchor\":\"x5\",\"domain\":[0.0,1.0],\"matches\":\"y\",\"showticklabels\":false},\"xaxis6\":{\"anchor\":\"y6\",\"domain\":[0.51,0.592],\"title\":{\"text\":\"num_filter_2\"}},\"yaxis6\":{\"anchor\":\"x6\",\"domain\":[0.0,1.0],\"matches\":\"y\",\"showticklabels\":false},\"xaxis7\":{\"anchor\":\"y7\",\"domain\":[0.6120000000000001,0.6940000000000001],\"title\":{\"text\":\"num_filter_3\"}},\"yaxis7\":{\"anchor\":\"x7\",\"domain\":[0.0,1.0],\"matches\":\"y\",\"showticklabels\":false},\"xaxis8\":{\"anchor\":\"y8\",\"domain\":[0.7140000000000001,0.796],\"title\":{\"text\":\"num_filter_4\"}},\"yaxis8\":{\"anchor\":\"x8\",\"domain\":[0.0,1.0],\"matches\":\"y\",\"showticklabels\":false},\"xaxis9\":{\"anchor\":\"y9\",\"domain\":[0.8160000000000001,0.898],\"title\":{\"text\":\"num_layer\"}},\"yaxis9\":{\"anchor\":\"x9\",\"domain\":[0.0,1.0],\"matches\":\"y\",\"showticklabels\":false},\"xaxis10\":{\"anchor\":\"y10\",\"domain\":[0.9179999999999999,0.9999999999999999],\"title\":{\"text\":\"optimizer\"}},\"yaxis10\":{\"anchor\":\"x10\",\"domain\":[0.0,1.0],\"matches\":\"y\",\"showticklabels\":false},\"title\":{\"text\":\"Slice Plot\"},\"width\":3000},                        {\"responsive\": true}                    ).then(function(){\n",
       "                            \n",
       "var gd = document.getElementById('c24ed6b7-d5d0-4999-a927-a798fee5d86a');\n",
       "var x = new MutationObserver(function (mutations, observer) {{\n",
       "        var display = window.getComputedStyle(gd).display;\n",
       "        if (!display || display === 'none') {{\n",
       "            console.log([gd, 'removed!']);\n",
       "            Plotly.purge(gd);\n",
       "            observer.disconnect();\n",
       "        }}\n",
       "}});\n",
       "\n",
       "// Listen for the removal of the full notebook cells\n",
       "var notebookContainer = gd.closest('#notebook-container');\n",
       "if (notebookContainer) {{\n",
       "    x.observe(notebookContainer, {childList: true});\n",
       "}}\n",
       "\n",
       "// Listen for the clearing of the current output cell\n",
       "var outputEl = gd.closest('.output');\n",
       "if (outputEl) {{\n",
       "    x.observe(outputEl, {childList: true});\n",
       "}}\n",
       "\n",
       "                        })                };                });            </script>        </div>"
      ]
     },
     "metadata": {},
     "output_type": "display_data"
    }
   ],
   "source": [
    "plot_slice(study)"
   ]
  },
  {
   "cell_type": "markdown",
   "id": "94535ef9",
   "metadata": {
    "papermill": {
     "duration": 0.191149,
     "end_time": "2022-07-13T12:31:21.972917",
     "exception": false,
     "start_time": "2022-07-13T12:31:21.781768",
     "status": "completed"
    },
    "tags": []
   },
   "source": [
    "* **Regarding dropout_rate we could shorten the range of possibilities from 0.2 or 0.3 and lengthen it to 0.6, this applies to dropout_rate0 and dropout_rate1.**\n",
    "* **mid_units, the third parameter with the most impact on our model, the model seems to be more comfortable between 200 and 300, I don't think it is necessary to touch anything here.**\n",
    "* **increasing the number of layers may be a good idea, the model prefers 5 layers, we can try a range of 4 to 7.**\n",
    "* **as far as optimizers are concerned sgd is the winner**"
   ]
  },
  {
   "cell_type": "code",
   "execution_count": 16,
   "id": "32fc8028",
   "metadata": {
    "execution": {
     "iopub.execute_input": "2022-07-13T12:31:22.593003Z",
     "iopub.status.busy": "2022-07-13T12:31:22.592653Z",
     "iopub.status.idle": "2022-07-13T12:31:22.601133Z",
     "shell.execute_reply": "2022-07-13T12:31:22.600027Z"
    },
    "papermill": {
     "duration": 0.319897,
     "end_time": "2022-07-13T12:31:22.604798",
     "exception": false,
     "start_time": "2022-07-13T12:31:22.284901",
     "status": "completed"
    },
    "tags": []
   },
   "outputs": [
    {
     "data": {
      "text/plain": [
       "{'num_layer': 5,\n",
       " 'mid_units': 300.0,\n",
       " 'num_filter_0': 112.0,\n",
       " 'num_filter_1': 64.0,\n",
       " 'num_filter_2': 48.0,\n",
       " 'num_filter_3': 112.0,\n",
       " 'num_filter_4': 112.0,\n",
       " 'dropout_rate0': 0.2789296733100679,\n",
       " 'dropout_rate1': 0.40562913428407965,\n",
       " 'optimizer': 'sgd'}"
      ]
     },
     "execution_count": 16,
     "metadata": {},
     "output_type": "execute_result"
    }
   ],
   "source": [
    "study.best_params"
   ]
  },
  {
   "cell_type": "code",
   "execution_count": 17,
   "id": "aff15e4c",
   "metadata": {
    "execution": {
     "iopub.execute_input": "2022-07-13T12:31:23.033364Z",
     "iopub.status.busy": "2022-07-13T12:31:23.032468Z",
     "iopub.status.idle": "2022-07-13T12:31:23.043090Z",
     "shell.execute_reply": "2022-07-13T12:31:23.042208Z"
    },
    "papermill": {
     "duration": 0.212004,
     "end_time": "2022-07-13T12:31:23.045167",
     "exception": false,
     "start_time": "2022-07-13T12:31:22.833163",
     "status": "completed"
    },
    "tags": []
   },
   "outputs": [],
   "source": [
    "def objective1(trial):\n",
    "    # Clear session\n",
    "    keras.backend.clear_session()\n",
    "    \n",
    "    # Number of layers\n",
    "    num_layer = trial.suggest_int(\"num_layer\", 4, 7)\n",
    "    mid_units = int(trial.suggest_discrete_uniform(\"mid_units\", 100, 300, 100))\n",
    "    \n",
    "    # Number of filters in each convolution layer\n",
    "    num_filters = [int(trial.suggest_discrete_uniform(\"num_filter_\"+str(i), 16, 128, 16))\n",
    "                   for i in range(num_layer)]\n",
    "    \n",
    "    # Dropout\n",
    "    dropout_rate = [0] * 2\n",
    "    dropout_rate[0] = trial.suggest_uniform('dropout_rate'+str(0), 0.2, 0.6)\n",
    "    dropout_rate[1] = trial.suggest_uniform('dropout_rate'+str(1), 0.2, 0.6)\n",
    "    \n",
    "    #Optimizer\n",
    "    optimizer = trial.suggest_categorical(\"optimizer\", [\"sgd\"])\n",
    "    \n",
    "    model = create_model(num_layer, mid_units, num_filters,dropout_rate)\n",
    "    model.compile(optimizer=optimizer,\n",
    "                  loss=\"categorical_crossentropy\",\n",
    "                  metrics=[\"acc\"])\n",
    "    \n",
    "    history = model.fit(X_train, y_train, verbose=0, epochs=20,\n",
    "                        batch_size=128, validation_split=0.1)\n",
    "    \n",
    "    scores = model.evaluate(X_train, y_train)\n",
    "    print('accuracy={}'.format(*scores))\n",
    "    \n",
    "    # Find the hyperparameters that maximize the percentage of correct responses to the data for validation\n",
    "    return 1 - history.history[\"val_acc\"][-1]"
   ]
  },
  {
   "cell_type": "code",
   "execution_count": 18,
   "id": "34d40561",
   "metadata": {
    "execution": {
     "iopub.execute_input": "2022-07-13T12:31:23.423720Z",
     "iopub.status.busy": "2022-07-13T12:31:23.423369Z",
     "iopub.status.idle": "2022-07-13T13:25:39.283261Z",
     "shell.execute_reply": "2022-07-13T13:25:39.282290Z"
    },
    "papermill": {
     "duration": 3256.053209,
     "end_time": "2022-07-13T13:25:39.285365",
     "exception": false,
     "start_time": "2022-07-13T12:31:23.232156",
     "status": "completed"
    },
    "tags": []
   },
   "outputs": [
    {
     "name": "stderr",
     "output_type": "stream",
     "text": [
      "\u001b[32m[I 2022-07-13 12:31:23,425]\u001b[0m A new study created in memory with name: no-name-b5ba3049-4d8e-4072-9ed0-66624c610238\u001b[0m\n"
     ]
    },
    {
     "name": "stdout",
     "output_type": "stream",
     "text": [
      "1050/1050 [==============================] - 3s 3ms/step - loss: 0.0239 - acc: 0.9922\n"
     ]
    },
    {
     "name": "stderr",
     "output_type": "stream",
     "text": [
      "\u001b[32m[I 2022-07-13 12:31:54,617]\u001b[0m Trial 0 finished with value: 0.011607170104980469 and parameters: {'num_layer': 4, 'mid_units': 200.0, 'num_filter_0': 80.0, 'num_filter_1': 128.0, 'num_filter_2': 32.0, 'num_filter_3': 32.0, 'dropout_rate0': 0.4075043607356368, 'dropout_rate1': 0.4040855943580465, 'optimizer': 'sgd'}. Best is trial 0 with value: 0.011607170104980469.\u001b[0m\n"
     ]
    },
    {
     "name": "stdout",
     "output_type": "stream",
     "text": [
      "accuracy=0.02386375516653061\n",
      "1050/1050 [==============================] - 4s 3ms/step - loss: 0.0251 - acc: 0.9922\n"
     ]
    },
    {
     "name": "stderr",
     "output_type": "stream",
     "text": [
      "\u001b[32m[I 2022-07-13 12:32:21,399]\u001b[0m Trial 1 finished with value: 0.013690471649169922 and parameters: {'num_layer': 4, 'mid_units': 100.0, 'num_filter_0': 32.0, 'num_filter_1': 112.0, 'num_filter_2': 16.0, 'num_filter_3': 64.0, 'dropout_rate0': 0.4481444976178638, 'dropout_rate1': 0.23697046098555974, 'optimizer': 'sgd'}. Best is trial 0 with value: 0.011607170104980469.\u001b[0m\n"
     ]
    },
    {
     "name": "stdout",
     "output_type": "stream",
     "text": [
      "accuracy=0.025148389860987663\n",
      "1050/1050 [==============================] - 3s 3ms/step - loss: 0.0148 - acc: 0.9956\n"
     ]
    },
    {
     "name": "stderr",
     "output_type": "stream",
     "text": [
      "\u001b[32m[I 2022-07-13 12:33:10,989]\u001b[0m Trial 2 finished with value: 0.008630931377410889 and parameters: {'num_layer': 5, 'mid_units': 300.0, 'num_filter_0': 112.0, 'num_filter_1': 128.0, 'num_filter_2': 64.0, 'num_filter_3': 128.0, 'num_filter_4': 64.0, 'dropout_rate0': 0.38385022475447983, 'dropout_rate1': 0.5757896828003228, 'optimizer': 'sgd'}. Best is trial 2 with value: 0.008630931377410889.\u001b[0m\n"
     ]
    },
    {
     "name": "stdout",
     "output_type": "stream",
     "text": [
      "accuracy=0.014818982221186161\n",
      "1050/1050 [==============================] - 3s 3ms/step - loss: 0.0225 - acc: 0.9926\n"
     ]
    },
    {
     "name": "stderr",
     "output_type": "stream",
     "text": [
      "\u001b[32m[I 2022-07-13 12:33:54,490]\u001b[0m Trial 3 finished with value: 0.009821414947509766 and parameters: {'num_layer': 5, 'mid_units': 300.0, 'num_filter_0': 128.0, 'num_filter_1': 128.0, 'num_filter_2': 80.0, 'num_filter_3': 16.0, 'num_filter_4': 32.0, 'dropout_rate0': 0.5584567851581237, 'dropout_rate1': 0.4844720715410189, 'optimizer': 'sgd'}. Best is trial 2 with value: 0.008630931377410889.\u001b[0m\n"
     ]
    },
    {
     "name": "stdout",
     "output_type": "stream",
     "text": [
      "accuracy=0.02250753343105316\n",
      "1050/1050 [==============================] - 3s 3ms/step - loss: 0.0122 - acc: 0.9965\n"
     ]
    },
    {
     "name": "stderr",
     "output_type": "stream",
     "text": [
      "\u001b[32m[I 2022-07-13 12:34:45,043]\u001b[0m Trial 4 finished with value: 0.008333325386047363 and parameters: {'num_layer': 7, 'mid_units': 200.0, 'num_filter_0': 48.0, 'num_filter_1': 128.0, 'num_filter_2': 128.0, 'num_filter_3': 48.0, 'num_filter_4': 96.0, 'num_filter_5': 80.0, 'num_filter_6': 32.0, 'dropout_rate0': 0.342837023373573, 'dropout_rate1': 0.5470199030340652, 'optimizer': 'sgd'}. Best is trial 4 with value: 0.008333325386047363.\u001b[0m\n"
     ]
    },
    {
     "name": "stdout",
     "output_type": "stream",
     "text": [
      "accuracy=0.012234333902597427\n",
      "1050/1050 [==============================] - 4s 4ms/step - loss: 0.0393 - acc: 0.9874\n"
     ]
    },
    {
     "name": "stderr",
     "output_type": "stream",
     "text": [
      "\u001b[32m[I 2022-07-13 12:35:35,131]\u001b[0m Trial 5 finished with value: 0.01845240592956543 and parameters: {'num_layer': 7, 'mid_units': 100.0, 'num_filter_0': 96.0, 'num_filter_1': 112.0, 'num_filter_2': 112.0, 'num_filter_3': 48.0, 'num_filter_4': 32.0, 'num_filter_5': 64.0, 'num_filter_6': 48.0, 'dropout_rate0': 0.2885453431062453, 'dropout_rate1': 0.4196012631859915, 'optimizer': 'sgd'}. Best is trial 4 with value: 0.008333325386047363.\u001b[0m\n"
     ]
    },
    {
     "name": "stdout",
     "output_type": "stream",
     "text": [
      "accuracy=0.03932422026991844\n",
      "1050/1050 [==============================] - 4s 3ms/step - loss: 0.0208 - acc: 0.9938\n"
     ]
    },
    {
     "name": "stderr",
     "output_type": "stream",
     "text": [
      "\u001b[32m[I 2022-07-13 12:36:30,312]\u001b[0m Trial 6 finished with value: 0.008630931377410889 and parameters: {'num_layer': 7, 'mid_units': 200.0, 'num_filter_0': 128.0, 'num_filter_1': 128.0, 'num_filter_2': 96.0, 'num_filter_3': 112.0, 'num_filter_4': 32.0, 'num_filter_5': 96.0, 'num_filter_6': 16.0, 'dropout_rate0': 0.5753013917369845, 'dropout_rate1': 0.4195526133200027, 'optimizer': 'sgd'}. Best is trial 4 with value: 0.008333325386047363.\u001b[0m\n"
     ]
    },
    {
     "name": "stdout",
     "output_type": "stream",
     "text": [
      "accuracy=0.020834581926465034\n",
      "1050/1050 [==============================] - 3s 3ms/step - loss: 0.0244 - acc: 0.9928\n"
     ]
    },
    {
     "name": "stderr",
     "output_type": "stream",
     "text": [
      "\u001b[32m[I 2022-07-13 12:37:02,294]\u001b[0m Trial 7 finished with value: 0.012499988079071045 and parameters: {'num_layer': 4, 'mid_units': 300.0, 'num_filter_0': 16.0, 'num_filter_1': 16.0, 'num_filter_2': 128.0, 'num_filter_3': 112.0, 'dropout_rate0': 0.4737930737355554, 'dropout_rate1': 0.5492868409776905, 'optimizer': 'sgd'}. Best is trial 4 with value: 0.008333325386047363.\u001b[0m\n"
     ]
    },
    {
     "name": "stdout",
     "output_type": "stream",
     "text": [
      "accuracy=0.02435152418911457\n",
      "1050/1050 [==============================] - 3s 3ms/step - loss: 0.0209 - acc: 0.9940\n"
     ]
    },
    {
     "name": "stderr",
     "output_type": "stream",
     "text": [
      "\u001b[32m[I 2022-07-13 12:37:33,931]\u001b[0m Trial 8 finished with value: 0.011607170104980469 and parameters: {'num_layer': 5, 'mid_units': 200.0, 'num_filter_0': 32.0, 'num_filter_1': 112.0, 'num_filter_2': 64.0, 'num_filter_3': 32.0, 'num_filter_4': 48.0, 'dropout_rate0': 0.3349030078826406, 'dropout_rate1': 0.22849207275904046, 'optimizer': 'sgd'}. Best is trial 4 with value: 0.008333325386047363.\u001b[0m\n"
     ]
    },
    {
     "name": "stdout",
     "output_type": "stream",
     "text": [
      "accuracy=0.020883074030280113\n",
      "1050/1050 [==============================] - 3s 3ms/step - loss: 0.0098 - acc: 0.9974\n"
     ]
    },
    {
     "name": "stderr",
     "output_type": "stream",
     "text": [
      "\u001b[32m[I 2022-07-13 12:38:21,462]\u001b[0m Trial 9 finished with value: 0.007440447807312012 and parameters: {'num_layer': 5, 'mid_units': 200.0, 'num_filter_0': 96.0, 'num_filter_1': 96.0, 'num_filter_2': 112.0, 'num_filter_3': 96.0, 'num_filter_4': 96.0, 'dropout_rate0': 0.4610535009093623, 'dropout_rate1': 0.5468470946894044, 'optimizer': 'sgd'}. Best is trial 9 with value: 0.007440447807312012.\u001b[0m\n"
     ]
    },
    {
     "name": "stdout",
     "output_type": "stream",
     "text": [
      "accuracy=0.009762895293533802\n",
      "1050/1050 [==============================] - 3s 3ms/step - loss: 0.0492 - acc: 0.9844\n"
     ]
    },
    {
     "name": "stderr",
     "output_type": "stream",
     "text": [
      "\u001b[32m[I 2022-07-13 12:39:04,829]\u001b[0m Trial 10 finished with value: 0.018750011920928955 and parameters: {'num_layer': 6, 'mid_units': 100.0, 'num_filter_0': 64.0, 'num_filter_1': 64.0, 'num_filter_2': 96.0, 'num_filter_3': 96.0, 'num_filter_4': 128.0, 'num_filter_5': 16.0, 'dropout_rate0': 0.20070220532089356, 'dropout_rate1': 0.3333874393740913, 'optimizer': 'sgd'}. Best is trial 9 with value: 0.007440447807312012.\u001b[0m\n"
     ]
    },
    {
     "name": "stdout",
     "output_type": "stream",
     "text": [
      "accuracy=0.04922476410865784\n",
      "1050/1050 [==============================] - 3s 3ms/step - loss: 0.0095 - acc: 0.9973\n"
     ]
    },
    {
     "name": "stderr",
     "output_type": "stream",
     "text": [
      "\u001b[32m[I 2022-07-13 12:39:58,941]\u001b[0m Trial 11 finished with value: 0.007440447807312012 and parameters: {'num_layer': 6, 'mid_units': 200.0, 'num_filter_0': 64.0, 'num_filter_1': 80.0, 'num_filter_2': 128.0, 'num_filter_3': 80.0, 'num_filter_4': 112.0, 'num_filter_5': 128.0, 'dropout_rate0': 0.4965214100780854, 'dropout_rate1': 0.5078478514484702, 'optimizer': 'sgd'}. Best is trial 9 with value: 0.007440447807312012.\u001b[0m\n"
     ]
    },
    {
     "name": "stdout",
     "output_type": "stream",
     "text": [
      "accuracy=0.009499013423919678\n",
      "1050/1050 [==============================] - 4s 4ms/step - loss: 0.0152 - acc: 0.9956\n"
     ]
    },
    {
     "name": "stderr",
     "output_type": "stream",
     "text": [
      "\u001b[32m[I 2022-07-13 12:40:56,152]\u001b[0m Trial 12 finished with value: 0.00892859697341919 and parameters: {'num_layer': 6, 'mid_units': 200.0, 'num_filter_0': 80.0, 'num_filter_1': 80.0, 'num_filter_2': 128.0, 'num_filter_3': 80.0, 'num_filter_4': 112.0, 'num_filter_5': 128.0, 'dropout_rate0': 0.5076878243213432, 'dropout_rate1': 0.49041870746396476, 'optimizer': 'sgd'}. Best is trial 9 with value: 0.007440447807312012.\u001b[0m\n"
     ]
    },
    {
     "name": "stdout",
     "output_type": "stream",
     "text": [
      "accuracy=0.015171725302934647\n",
      "1050/1050 [==============================] - 3s 3ms/step - loss: 0.0114 - acc: 0.9964\n"
     ]
    },
    {
     "name": "stderr",
     "output_type": "stream",
     "text": [
      "\u001b[32m[I 2022-07-13 12:41:50,353]\u001b[0m Trial 13 finished with value: 0.009226202964782715 and parameters: {'num_layer': 6, 'mid_units': 200.0, 'num_filter_0': 96.0, 'num_filter_1': 80.0, 'num_filter_2': 96.0, 'num_filter_3': 80.0, 'num_filter_4': 96.0, 'num_filter_5': 128.0, 'dropout_rate0': 0.5027598816228563, 'dropout_rate1': 0.4849378049145834, 'optimizer': 'sgd'}. Best is trial 9 with value: 0.007440447807312012.\u001b[0m\n"
     ]
    },
    {
     "name": "stdout",
     "output_type": "stream",
     "text": [
      "accuracy=0.011377636343240738\n",
      "1050/1050 [==============================] - 3s 3ms/step - loss: 0.0209 - acc: 0.9934\n"
     ]
    },
    {
     "name": "stderr",
     "output_type": "stream",
     "text": [
      "\u001b[32m[I 2022-07-13 12:42:29,698]\u001b[0m Trial 14 finished with value: 0.010416686534881592 and parameters: {'num_layer': 5, 'mid_units': 100.0, 'num_filter_0': 64.0, 'num_filter_1': 48.0, 'num_filter_2': 112.0, 'num_filter_3': 96.0, 'num_filter_4': 80.0, 'dropout_rate0': 0.5293303993511652, 'dropout_rate1': 0.5962231322690466, 'optimizer': 'sgd'}. Best is trial 9 with value: 0.007440447807312012.\u001b[0m\n"
     ]
    },
    {
     "name": "stdout",
     "output_type": "stream",
     "text": [
      "accuracy=0.02093733847141266\n",
      "1050/1050 [==============================] - 3s 3ms/step - loss: 0.0107 - acc: 0.9971\n"
     ]
    },
    {
     "name": "stderr",
     "output_type": "stream",
     "text": [
      "\u001b[32m[I 2022-07-13 12:43:21,231]\u001b[0m Trial 15 finished with value: 0.00952380895614624 and parameters: {'num_layer': 6, 'mid_units': 300.0, 'num_filter_0': 96.0, 'num_filter_1': 96.0, 'num_filter_2': 112.0, 'num_filter_3': 96.0, 'num_filter_4': 128.0, 'num_filter_5': 32.0, 'dropout_rate0': 0.4294983390474396, 'dropout_rate1': 0.33249555570847344, 'optimizer': 'sgd'}. Best is trial 9 with value: 0.007440447807312012.\u001b[0m\n"
     ]
    },
    {
     "name": "stdout",
     "output_type": "stream",
     "text": [
      "accuracy=0.010661524720489979\n",
      "1050/1050 [==============================] - 4s 3ms/step - loss: 0.0143 - acc: 0.9959\n"
     ]
    },
    {
     "name": "stderr",
     "output_type": "stream",
     "text": [
      "\u001b[32m[I 2022-07-13 12:43:53,603]\u001b[0m Trial 16 finished with value: 0.010119020938873291 and parameters: {'num_layer': 5, 'mid_units': 200.0, 'num_filter_0': 48.0, 'num_filter_1': 48.0, 'num_filter_2': 48.0, 'num_filter_3': 64.0, 'num_filter_4': 96.0, 'dropout_rate0': 0.46044469326258325, 'dropout_rate1': 0.5164971796871027, 'optimizer': 'sgd'}. Best is trial 9 with value: 0.007440447807312012.\u001b[0m\n"
     ]
    },
    {
     "name": "stdout",
     "output_type": "stream",
     "text": [
      "accuracy=0.014312013052403927\n",
      "1050/1050 [==============================] - 4s 3ms/step - loss: 0.0127 - acc: 0.9959\n"
     ]
    },
    {
     "name": "stderr",
     "output_type": "stream",
     "text": [
      "\u001b[32m[I 2022-07-13 12:44:52,646]\u001b[0m Trial 17 finished with value: 0.008630931377410889 and parameters: {'num_layer': 6, 'mid_units': 100.0, 'num_filter_0': 112.0, 'num_filter_1': 96.0, 'num_filter_2': 80.0, 'num_filter_3': 128.0, 'num_filter_4': 112.0, 'num_filter_5': 96.0, 'dropout_rate0': 0.593488904300584, 'dropout_rate1': 0.3554738152877973, 'optimizer': 'sgd'}. Best is trial 9 with value: 0.007440447807312012.\u001b[0m\n"
     ]
    },
    {
     "name": "stdout",
     "output_type": "stream",
     "text": [
      "accuracy=0.01273485366255045\n",
      "1050/1050 [==============================] - 3s 3ms/step - loss: 0.0155 - acc: 0.9951\n"
     ]
    },
    {
     "name": "stderr",
     "output_type": "stream",
     "text": [
      "\u001b[32m[I 2022-07-13 12:45:34,620]\u001b[0m Trial 18 finished with value: 0.0077381134033203125 and parameters: {'num_layer': 5, 'mid_units': 300.0, 'num_filter_0': 80.0, 'num_filter_1': 64.0, 'num_filter_2': 112.0, 'num_filter_3': 80.0, 'num_filter_4': 80.0, 'dropout_rate0': 0.3750999969626902, 'dropout_rate1': 0.45193723998969315, 'optimizer': 'sgd'}. Best is trial 9 with value: 0.007440447807312012.\u001b[0m\n"
     ]
    },
    {
     "name": "stdout",
     "output_type": "stream",
     "text": [
      "accuracy=0.015502125024795532\n",
      "1050/1050 [==============================] - 4s 3ms/step - loss: 0.0115 - acc: 0.9965\n"
     ]
    },
    {
     "name": "stderr",
     "output_type": "stream",
     "text": [
      "\u001b[32m[I 2022-07-13 12:46:25,920]\u001b[0m Trial 19 finished with value: 0.00892859697341919 and parameters: {'num_layer': 6, 'mid_units': 200.0, 'num_filter_0': 48.0, 'num_filter_1': 96.0, 'num_filter_2': 128.0, 'num_filter_3': 112.0, 'num_filter_4': 112.0, 'num_filter_5': 48.0, 'dropout_rate0': 0.533850469355088, 'dropout_rate1': 0.5141128004959485, 'optimizer': 'sgd'}. Best is trial 9 with value: 0.007440447807312012.\u001b[0m\n"
     ]
    },
    {
     "name": "stdout",
     "output_type": "stream",
     "text": [
      "accuracy=0.011542534455657005\n",
      "1050/1050 [==============================] - 3s 3ms/step - loss: 0.0299 - acc: 0.9901\n"
     ]
    },
    {
     "name": "stderr",
     "output_type": "stream",
     "text": [
      "\u001b[32m[I 2022-07-13 12:46:59,742]\u001b[0m Trial 20 finished with value: 0.011309504508972168 and parameters: {'num_layer': 4, 'mid_units': 200.0, 'num_filter_0': 112.0, 'num_filter_1': 32.0, 'num_filter_2': 96.0, 'num_filter_3': 64.0, 'dropout_rate0': 0.4776561470538788, 'dropout_rate1': 0.5526619624019162, 'optimizer': 'sgd'}. Best is trial 9 with value: 0.007440447807312012.\u001b[0m\n"
     ]
    },
    {
     "name": "stdout",
     "output_type": "stream",
     "text": [
      "accuracy=0.029931243509054184\n",
      "1050/1050 [==============================] - 4s 4ms/step - loss: 0.0091 - acc: 0.9977\n"
     ]
    },
    {
     "name": "stderr",
     "output_type": "stream",
     "text": [
      "\u001b[32m[I 2022-07-13 12:47:43,750]\u001b[0m Trial 21 finished with value: 0.008630931377410889 and parameters: {'num_layer': 5, 'mid_units': 300.0, 'num_filter_0': 80.0, 'num_filter_1': 64.0, 'num_filter_2': 112.0, 'num_filter_3': 80.0, 'num_filter_4': 80.0, 'dropout_rate0': 0.3745498035317454, 'dropout_rate1': 0.450787884943329, 'optimizer': 'sgd'}. Best is trial 9 with value: 0.007440447807312012.\u001b[0m\n"
     ]
    },
    {
     "name": "stdout",
     "output_type": "stream",
     "text": [
      "accuracy=0.00911595020443201\n",
      "1050/1050 [==============================] - 3s 3ms/step - loss: nan - acc: 0.0984\n"
     ]
    },
    {
     "name": "stderr",
     "output_type": "stream",
     "text": [
      "\u001b[32m[I 2022-07-13 12:48:27,517]\u001b[0m Trial 22 finished with value: 0.9014880955219269 and parameters: {'num_layer': 5, 'mid_units': 300.0, 'num_filter_0': 64.0, 'num_filter_1': 80.0, 'num_filter_2': 112.0, 'num_filter_3': 96.0, 'num_filter_4': 64.0, 'dropout_rate0': 0.3045297534632595, 'dropout_rate1': 0.44049777093546827, 'optimizer': 'sgd'}. Best is trial 9 with value: 0.007440447807312012.\u001b[0m\n"
     ]
    },
    {
     "name": "stdout",
     "output_type": "stream",
     "text": [
      "accuracy=nan\n",
      "1050/1050 [==============================] - 3s 3ms/step - loss: 0.0146 - acc: 0.9951\n"
     ]
    },
    {
     "name": "stderr",
     "output_type": "stream",
     "text": [
      "\u001b[32m[I 2022-07-13 12:49:11,158]\u001b[0m Trial 23 finished with value: 0.010714292526245117 and parameters: {'num_layer': 5, 'mid_units': 300.0, 'num_filter_0': 96.0, 'num_filter_1': 64.0, 'num_filter_2': 128.0, 'num_filter_3': 80.0, 'num_filter_4': 80.0, 'dropout_rate0': 0.4222060131322788, 'dropout_rate1': 0.3760621389912382, 'optimizer': 'sgd'}. Best is trial 9 with value: 0.007440447807312012.\u001b[0m\n"
     ]
    },
    {
     "name": "stdout",
     "output_type": "stream",
     "text": [
      "accuracy=0.014629481360316277\n",
      "1050/1050 [==============================] - 3s 3ms/step - loss: 0.0071 - acc: 0.9981\n"
     ]
    },
    {
     "name": "stderr",
     "output_type": "stream",
     "text": [
      "\u001b[32m[I 2022-07-13 12:50:37,484]\u001b[0m Trial 24 finished with value: 0.008333325386047363 and parameters: {'num_layer': 6, 'mid_units': 200.0, 'num_filter_0': 80.0, 'num_filter_1': 48.0, 'num_filter_2': 80.0, 'num_filter_3': 96.0, 'num_filter_4': 96.0, 'num_filter_5': 112.0, 'dropout_rate0': 0.23268518683407985, 'dropout_rate1': 0.4627050970546923, 'optimizer': 'sgd'}. Best is trial 9 with value: 0.007440447807312012.\u001b[0m\n"
     ]
    },
    {
     "name": "stdout",
     "output_type": "stream",
     "text": [
      "accuracy=0.007122308947145939\n",
      "1050/1050 [==============================] - 3s 3ms/step - loss: 0.0136 - acc: 0.9961\n"
     ]
    },
    {
     "name": "stderr",
     "output_type": "stream",
     "text": [
      "\u001b[32m[I 2022-07-13 12:51:17,958]\u001b[0m Trial 25 finished with value: 0.00952380895614624 and parameters: {'num_layer': 5, 'mid_units': 200.0, 'num_filter_0': 64.0, 'num_filter_1': 80.0, 'num_filter_2': 112.0, 'num_filter_3': 48.0, 'num_filter_4': 112.0, 'dropout_rate0': 0.3747763077830448, 'dropout_rate1': 0.5107874928860023, 'optimizer': 'sgd'}. Best is trial 9 with value: 0.007440447807312012.\u001b[0m\n"
     ]
    },
    {
     "name": "stdout",
     "output_type": "stream",
     "text": [
      "accuracy=0.013577446341514587\n",
      "1050/1050 [==============================] - 3s 3ms/step - loss: 0.0136 - acc: 0.9959\n"
     ]
    },
    {
     "name": "stderr",
     "output_type": "stream",
     "text": [
      "\u001b[32m[I 2022-07-13 12:51:53,655]\u001b[0m Trial 26 finished with value: 0.009821414947509766 and parameters: {'num_layer': 4, 'mid_units': 300.0, 'num_filter_0': 80.0, 'num_filter_1': 96.0, 'num_filter_2': 96.0, 'num_filter_3': 64.0, 'dropout_rate0': 0.48664363256032545, 'dropout_rate1': 0.2861414931789723, 'optimizer': 'sgd'}. Best is trial 9 with value: 0.007440447807312012.\u001b[0m\n"
     ]
    },
    {
     "name": "stdout",
     "output_type": "stream",
     "text": [
      "accuracy=0.01357023324817419\n",
      "1050/1050 [==============================] - 3s 3ms/step - loss: 0.0135 - acc: 0.9959\n"
     ]
    },
    {
     "name": "stderr",
     "output_type": "stream",
     "text": [
      "\u001b[32m[I 2022-07-13 12:52:44,244]\u001b[0m Trial 27 finished with value: 0.008630931377410889 and parameters: {'num_layer': 6, 'mid_units': 200.0, 'num_filter_0': 96.0, 'num_filter_1': 64.0, 'num_filter_2': 128.0, 'num_filter_3': 112.0, 'num_filter_4': 64.0, 'num_filter_5': 64.0, 'dropout_rate0': 0.3490691626422215, 'dropout_rate1': 0.5907578550483049, 'optimizer': 'sgd'}. Best is trial 9 with value: 0.007440447807312012.\u001b[0m\n"
     ]
    },
    {
     "name": "stdout",
     "output_type": "stream",
     "text": [
      "accuracy=0.013547866605222225\n",
      "1050/1050 [==============================] - 3s 3ms/step - loss: 0.0143 - acc: 0.9957\n"
     ]
    },
    {
     "name": "stderr",
     "output_type": "stream",
     "text": [
      "\u001b[32m[I 2022-07-13 12:53:43,712]\u001b[0m Trial 28 finished with value: 0.012499988079071045 and parameters: {'num_layer': 7, 'mid_units': 300.0, 'num_filter_0': 112.0, 'num_filter_1': 32.0, 'num_filter_2': 112.0, 'num_filter_3': 80.0, 'num_filter_4': 128.0, 'num_filter_5': 96.0, 'num_filter_6': 128.0, 'dropout_rate0': 0.43923159974645315, 'dropout_rate1': 0.5275130027690766, 'optimizer': 'sgd'}. Best is trial 9 with value: 0.007440447807312012.\u001b[0m\n"
     ]
    },
    {
     "name": "stdout",
     "output_type": "stream",
     "text": [
      "accuracy=0.014267504215240479\n",
      "1050/1050 [==============================] - 3s 3ms/step - loss: 0.0372 - acc: 0.9882\n"
     ]
    },
    {
     "name": "stderr",
     "output_type": "stream",
     "text": [
      "\u001b[32m[I 2022-07-13 12:54:16,965]\u001b[0m Trial 29 finished with value: 0.01577383279800415 and parameters: {'num_layer': 4, 'mid_units': 200.0, 'num_filter_0': 80.0, 'num_filter_1': 80.0, 'num_filter_2': 48.0, 'num_filter_3': 96.0, 'dropout_rate0': 0.4037520634826428, 'dropout_rate1': 0.3977176133429366, 'optimizer': 'sgd'}. Best is trial 9 with value: 0.007440447807312012.\u001b[0m\n"
     ]
    },
    {
     "name": "stdout",
     "output_type": "stream",
     "text": [
      "accuracy=0.037203267216682434\n",
      "1050/1050 [==============================] - 3s 3ms/step - loss: 0.0197 - acc: 0.9935\n"
     ]
    },
    {
     "name": "stderr",
     "output_type": "stream",
     "text": [
      "\u001b[32m[I 2022-07-13 12:55:02,424]\u001b[0m Trial 30 finished with value: 0.011309504508972168 and parameters: {'num_layer': 5, 'mid_units': 100.0, 'num_filter_0': 48.0, 'num_filter_1': 96.0, 'num_filter_2': 96.0, 'num_filter_3': 80.0, 'num_filter_4': 16.0, 'dropout_rate0': 0.2816675960387035, 'dropout_rate1': 0.5633866027283263, 'optimizer': 'sgd'}. Best is trial 9 with value: 0.007440447807312012.\u001b[0m\n"
     ]
    },
    {
     "name": "stdout",
     "output_type": "stream",
     "text": [
      "accuracy=0.019747743383049965\n",
      "1050/1050 [==============================] - 4s 3ms/step - loss: 0.0090 - acc: 0.9973\n"
     ]
    },
    {
     "name": "stderr",
     "output_type": "stream",
     "text": [
      "\u001b[32m[I 2022-07-13 12:55:56,656]\u001b[0m Trial 31 finished with value: 0.0077381134033203125 and parameters: {'num_layer': 7, 'mid_units': 200.0, 'num_filter_0': 48.0, 'num_filter_1': 112.0, 'num_filter_2': 128.0, 'num_filter_3': 48.0, 'num_filter_4': 96.0, 'num_filter_5': 112.0, 'num_filter_6': 64.0, 'dropout_rate0': 0.3486524960526454, 'dropout_rate1': 0.5428017971924421, 'optimizer': 'sgd'}. Best is trial 9 with value: 0.007440447807312012.\u001b[0m\n"
     ]
    },
    {
     "name": "stdout",
     "output_type": "stream",
     "text": [
      "accuracy=0.00898022297769785\n",
      "1050/1050 [==============================] - 4s 4ms/step - loss: 0.0134 - acc: 0.9960\n"
     ]
    },
    {
     "name": "stderr",
     "output_type": "stream",
     "text": [
      "\u001b[32m[I 2022-07-13 12:56:50,082]\u001b[0m Trial 32 finished with value: 0.010119020938873291 and parameters: {'num_layer': 7, 'mid_units': 200.0, 'num_filter_0': 32.0, 'num_filter_1': 112.0, 'num_filter_2': 128.0, 'num_filter_3': 32.0, 'num_filter_4': 96.0, 'num_filter_5': 128.0, 'num_filter_6': 96.0, 'dropout_rate0': 0.3994550060200092, 'dropout_rate1': 0.470929275874158, 'optimizer': 'sgd'}. Best is trial 9 with value: 0.007440447807312012.\u001b[0m\n"
     ]
    },
    {
     "name": "stdout",
     "output_type": "stream",
     "text": [
      "accuracy=0.013396318070590496\n",
      "1050/1050 [==============================] - 4s 3ms/step - loss: 0.0086 - acc: 0.9977\n"
     ]
    },
    {
     "name": "stderr",
     "output_type": "stream",
     "text": [
      "\u001b[32m[I 2022-07-13 12:57:46,576]\u001b[0m Trial 33 finished with value: 0.007142841815948486 and parameters: {'num_layer': 7, 'mid_units': 200.0, 'num_filter_0': 64.0, 'num_filter_1': 112.0, 'num_filter_2': 128.0, 'num_filter_3': 48.0, 'num_filter_4': 80.0, 'num_filter_5': 112.0, 'num_filter_6': 80.0, 'dropout_rate0': 0.31604279196701063, 'dropout_rate1': 0.5338388602408691, 'optimizer': 'sgd'}. Best is trial 33 with value: 0.007142841815948486.\u001b[0m\n"
     ]
    },
    {
     "name": "stdout",
     "output_type": "stream",
     "text": [
      "accuracy=0.008562726899981499\n",
      "1050/1050 [==============================] - 4s 3ms/step - loss: 0.0062 - acc: 0.9983\n"
     ]
    },
    {
     "name": "stderr",
     "output_type": "stream",
     "text": [
      "\u001b[32m[I 2022-07-13 12:58:43,291]\u001b[0m Trial 34 finished with value: 0.009226202964782715 and parameters: {'num_layer': 7, 'mid_units': 200.0, 'num_filter_0': 32.0, 'num_filter_1': 112.0, 'num_filter_2': 128.0, 'num_filter_3': 48.0, 'num_filter_4': 112.0, 'num_filter_5': 112.0, 'num_filter_6': 80.0, 'dropout_rate0': 0.2481167730480626, 'dropout_rate1': 0.5336111935383215, 'optimizer': 'sgd'}. Best is trial 33 with value: 0.007142841815948486.\u001b[0m\n"
     ]
    },
    {
     "name": "stdout",
     "output_type": "stream",
     "text": [
      "accuracy=0.00624917121604085\n",
      "1050/1050 [==============================] - 4s 3ms/step - loss: 0.0146 - acc: 0.9954\n"
     ]
    },
    {
     "name": "stderr",
     "output_type": "stream",
     "text": [
      "\u001b[32m[I 2022-07-13 12:59:28,488]\u001b[0m Trial 35 finished with value: 0.00952380895614624 and parameters: {'num_layer': 7, 'mid_units': 200.0, 'num_filter_0': 48.0, 'num_filter_1': 112.0, 'num_filter_2': 32.0, 'num_filter_3': 16.0, 'num_filter_4': 96.0, 'num_filter_5': 112.0, 'num_filter_6': 64.0, 'dropout_rate0': 0.310697070658131, 'dropout_rate1': 0.5647051421465716, 'optimizer': 'sgd'}. Best is trial 33 with value: 0.007142841815948486.\u001b[0m\n"
     ]
    },
    {
     "name": "stdout",
     "output_type": "stream",
     "text": [
      "accuracy=0.014557228423655033\n",
      "1050/1050 [==============================] - 3s 3ms/step - loss: 0.0093 - acc: 0.9973\n"
     ]
    },
    {
     "name": "stderr",
     "output_type": "stream",
     "text": [
      "\u001b[32m[I 2022-07-13 13:00:26,330]\u001b[0m Trial 36 finished with value: 0.008035719394683838 and parameters: {'num_layer': 7, 'mid_units': 200.0, 'num_filter_0': 64.0, 'num_filter_1': 128.0, 'num_filter_2': 128.0, 'num_filter_3': 48.0, 'num_filter_4': 80.0, 'num_filter_5': 112.0, 'num_filter_6': 96.0, 'dropout_rate0': 0.32998964665390884, 'dropout_rate1': 0.49943797121075273, 'optimizer': 'sgd'}. Best is trial 33 with value: 0.007142841815948486.\u001b[0m\n"
     ]
    },
    {
     "name": "stdout",
     "output_type": "stream",
     "text": [
      "accuracy=0.009282074868679047\n",
      "1050/1050 [==============================] - 3s 3ms/step - loss: 0.0198 - acc: 0.9944\n"
     ]
    },
    {
     "name": "stderr",
     "output_type": "stream",
     "text": [
      "\u001b[32m[I 2022-07-13 13:01:05,793]\u001b[0m Trial 37 finished with value: 0.008630931377410889 and parameters: {'num_layer': 5, 'mid_units': 100.0, 'num_filter_0': 64.0, 'num_filter_1': 96.0, 'num_filter_2': 112.0, 'num_filter_3': 64.0, 'num_filter_4': 64.0, 'dropout_rate0': 0.5447676637839931, 'dropout_rate1': 0.43548316591066494, 'optimizer': 'sgd'}. Best is trial 33 with value: 0.007142841815948486.\u001b[0m\n"
     ]
    },
    {
     "name": "stdout",
     "output_type": "stream",
     "text": [
      "accuracy=0.019840814173221588\n",
      "1050/1050 [==============================] - 3s 3ms/step - loss: 0.0165 - acc: 0.9949\n"
     ]
    },
    {
     "name": "stderr",
     "output_type": "stream",
     "text": [
      "\u001b[32m[I 2022-07-13 13:01:52,877]\u001b[0m Trial 38 finished with value: 0.00952380895614624 and parameters: {'num_layer': 5, 'mid_units': 200.0, 'num_filter_0': 80.0, 'num_filter_1': 80.0, 'num_filter_2': 80.0, 'num_filter_3': 64.0, 'num_filter_4': 48.0, 'dropout_rate0': 0.45156551794467004, 'dropout_rate1': 0.5800021296937513, 'optimizer': 'sgd'}. Best is trial 33 with value: 0.007142841815948486.\u001b[0m\n"
     ]
    },
    {
     "name": "stdout",
     "output_type": "stream",
     "text": [
      "accuracy=0.016545508056879044\n",
      "1050/1050 [==============================] - 3s 3ms/step - loss: 0.0145 - acc: 0.9957\n"
     ]
    },
    {
     "name": "stderr",
     "output_type": "stream",
     "text": [
      "\u001b[32m[I 2022-07-13 13:02:43,434]\u001b[0m Trial 39 finished with value: 0.00952380895614624 and parameters: {'num_layer': 7, 'mid_units': 200.0, 'num_filter_0': 16.0, 'num_filter_1': 128.0, 'num_filter_2': 128.0, 'num_filter_3': 32.0, 'num_filter_4': 96.0, 'num_filter_5': 128.0, 'num_filter_6': 64.0, 'dropout_rate0': 0.35680931548569794, 'dropout_rate1': 0.5404446086309908, 'optimizer': 'sgd'}. Best is trial 33 with value: 0.007142841815948486.\u001b[0m\n"
     ]
    },
    {
     "name": "stdout",
     "output_type": "stream",
     "text": [
      "accuracy=0.01452205702662468\n",
      "1050/1050 [==============================] - 3s 3ms/step - loss: 0.0097 - acc: 0.9971\n"
     ]
    },
    {
     "name": "stderr",
     "output_type": "stream",
     "text": [
      "\u001b[32m[I 2022-07-13 13:03:36,938]\u001b[0m Trial 40 finished with value: 0.009226202964782715 and parameters: {'num_layer': 7, 'mid_units': 200.0, 'num_filter_0': 48.0, 'num_filter_1': 112.0, 'num_filter_2': 128.0, 'num_filter_3': 16.0, 'num_filter_4': 112.0, 'num_filter_5': 80.0, 'num_filter_6': 112.0, 'dropout_rate0': 0.2621941440240081, 'dropout_rate1': 0.5732461743946251, 'optimizer': 'sgd'}. Best is trial 33 with value: 0.007142841815948486.\u001b[0m\n"
     ]
    },
    {
     "name": "stdout",
     "output_type": "stream",
     "text": [
      "accuracy=0.009735817089676857\n",
      "1050/1050 [==============================] - 3s 3ms/step - loss: 0.0438 - acc: 0.9853\n"
     ]
    },
    {
     "name": "stderr",
     "output_type": "stream",
     "text": [
      "\u001b[32m[I 2022-07-13 13:04:32,097]\u001b[0m Trial 41 finished with value: 0.020535707473754883 and parameters: {'num_layer': 7, 'mid_units': 200.0, 'num_filter_0': 64.0, 'num_filter_1': 112.0, 'num_filter_2': 112.0, 'num_filter_3': 64.0, 'num_filter_4': 80.0, 'num_filter_5': 96.0, 'num_filter_6': 80.0, 'dropout_rate0': 0.3833692964126976, 'dropout_rate1': 0.46814344228437754, 'optimizer': 'sgd'}. Best is trial 33 with value: 0.007142841815948486.\u001b[0m\n"
     ]
    },
    {
     "name": "stdout",
     "output_type": "stream",
     "text": [
      "accuracy=0.043771255761384964\n",
      "1050/1050 [==============================] - 3s 3ms/step - loss: 0.0087 - acc: 0.9975\n"
     ]
    },
    {
     "name": "stderr",
     "output_type": "stream",
     "text": [
      "\u001b[32m[I 2022-07-13 13:05:21,568]\u001b[0m Trial 42 finished with value: 0.0077381134033203125 and parameters: {'num_layer': 6, 'mid_units': 200.0, 'num_filter_0': 80.0, 'num_filter_1': 96.0, 'num_filter_2': 112.0, 'num_filter_3': 48.0, 'num_filter_4': 80.0, 'num_filter_5': 112.0, 'dropout_rate0': 0.3191282481227723, 'dropout_rate1': 0.49682733606349266, 'optimizer': 'sgd'}. Best is trial 33 with value: 0.007142841815948486.\u001b[0m\n"
     ]
    },
    {
     "name": "stdout",
     "output_type": "stream",
     "text": [
      "accuracy=0.008667746558785439\n",
      "1050/1050 [==============================] - 3s 3ms/step - loss: 0.0137 - acc: 0.9960\n"
     ]
    },
    {
     "name": "stderr",
     "output_type": "stream",
     "text": [
      "\u001b[32m[I 2022-07-13 13:06:00,900]\u001b[0m Trial 43 finished with value: 0.0077381134033203125 and parameters: {'num_layer': 6, 'mid_units': 200.0, 'num_filter_0': 48.0, 'num_filter_1': 96.0, 'num_filter_2': 16.0, 'num_filter_3': 48.0, 'num_filter_4': 96.0, 'num_filter_5': 112.0, 'dropout_rate0': 0.3211743243313748, 'dropout_rate1': 0.5013163435569626, 'optimizer': 'sgd'}. Best is trial 33 with value: 0.007142841815948486.\u001b[0m\n"
     ]
    },
    {
     "name": "stdout",
     "output_type": "stream",
     "text": [
      "accuracy=0.01368164923042059\n",
      "1050/1050 [==============================] - 3s 3ms/step - loss: 0.0114 - acc: 0.9968\n"
     ]
    },
    {
     "name": "stderr",
     "output_type": "stream",
     "text": [
      "\u001b[32m[I 2022-07-13 13:06:41,088]\u001b[0m Trial 44 finished with value: 0.00892859697341919 and parameters: {'num_layer': 6, 'mid_units': 200.0, 'num_filter_0': 48.0, 'num_filter_1': 112.0, 'num_filter_2': 16.0, 'num_filter_3': 32.0, 'num_filter_4': 96.0, 'num_filter_5': 128.0, 'dropout_rate0': 0.27735080086846364, 'dropout_rate1': 0.5280117696161994, 'optimizer': 'sgd'}. Best is trial 33 with value: 0.007142841815948486.\u001b[0m\n"
     ]
    },
    {
     "name": "stdout",
     "output_type": "stream",
     "text": [
      "accuracy=0.011361013166606426\n",
      "1050/1050 [==============================] - 4s 3ms/step - loss: 0.0561 - acc: 0.9808\n"
     ]
    },
    {
     "name": "stderr",
     "output_type": "stream",
     "text": [
      "\u001b[32m[I 2022-07-13 13:07:21,701]\u001b[0m Trial 45 finished with value: 0.02529764175415039 and parameters: {'num_layer': 6, 'mid_units': 200.0, 'num_filter_0': 96.0, 'num_filter_1': 96.0, 'num_filter_2': 16.0, 'num_filter_3': 48.0, 'num_filter_4': 48.0, 'num_filter_5': 112.0, 'dropout_rate0': 0.3056016258079577, 'dropout_rate1': 0.5004292455964697, 'optimizer': 'sgd'}. Best is trial 33 with value: 0.007142841815948486.\u001b[0m\n"
     ]
    },
    {
     "name": "stdout",
     "output_type": "stream",
     "text": [
      "accuracy=0.056061167269945145\n",
      "1050/1050 [==============================] - 4s 3ms/step - loss: 0.0234 - acc: 0.9924\n"
     ]
    },
    {
     "name": "stderr",
     "output_type": "stream",
     "text": [
      "\u001b[32m[I 2022-07-13 13:08:03,307]\u001b[0m Trial 46 finished with value: 0.010714292526245117 and parameters: {'num_layer': 7, 'mid_units': 200.0, 'num_filter_0': 32.0, 'num_filter_1': 128.0, 'num_filter_2': 48.0, 'num_filter_3': 32.0, 'num_filter_4': 96.0, 'num_filter_5': 96.0, 'num_filter_6': 48.0, 'dropout_rate0': 0.5062300671583891, 'dropout_rate1': 0.55731052898362, 'optimizer': 'sgd'}. Best is trial 33 with value: 0.007142841815948486.\u001b[0m\n"
     ]
    },
    {
     "name": "stdout",
     "output_type": "stream",
     "text": [
      "accuracy=0.02344338968396187\n",
      "1050/1050 [==============================] - 3s 3ms/step - loss: 0.0101 - acc: 0.9972\n"
     ]
    },
    {
     "name": "stderr",
     "output_type": "stream",
     "text": [
      "\u001b[32m[I 2022-07-13 13:08:44,958]\u001b[0m Trial 47 finished with value: 0.0077381134033203125 and parameters: {'num_layer': 6, 'mid_units': 200.0, 'num_filter_0': 64.0, 'num_filter_1': 96.0, 'num_filter_2': 32.0, 'num_filter_3': 48.0, 'num_filter_4': 80.0, 'num_filter_5': 128.0, 'dropout_rate0': 0.32659070608791935, 'dropout_rate1': 0.49401438266071873, 'optimizer': 'sgd'}. Best is trial 33 with value: 0.007142841815948486.\u001b[0m\n"
     ]
    },
    {
     "name": "stdout",
     "output_type": "stream",
     "text": [
      "accuracy=0.010087226517498493\n",
      "1050/1050 [==============================] - 4s 3ms/step - loss: 0.0131 - acc: 0.9958\n"
     ]
    },
    {
     "name": "stderr",
     "output_type": "stream",
     "text": [
      "\u001b[32m[I 2022-07-13 13:09:33,561]\u001b[0m Trial 48 finished with value: 0.009226202964782715 and parameters: {'num_layer': 5, 'mid_units': 300.0, 'num_filter_0': 128.0, 'num_filter_1': 64.0, 'num_filter_2': 128.0, 'num_filter_3': 80.0, 'num_filter_4': 112.0, 'dropout_rate0': 0.4148904951920958, 'dropout_rate1': 0.41623373591013657, 'optimizer': 'sgd'}. Best is trial 33 with value: 0.007142841815948486.\u001b[0m\n"
     ]
    },
    {
     "name": "stdout",
     "output_type": "stream",
     "text": [
      "accuracy=0.013092847540974617\n",
      "1050/1050 [==============================] - 3s 3ms/step - loss: 0.0104 - acc: 0.9971\n"
     ]
    },
    {
     "name": "stderr",
     "output_type": "stream",
     "text": [
      "\u001b[32m[I 2022-07-13 13:10:14,770]\u001b[0m Trial 49 finished with value: 0.008035719394683838 and parameters: {'num_layer': 4, 'mid_units': 100.0, 'num_filter_0': 96.0, 'num_filter_1': 80.0, 'num_filter_2': 96.0, 'num_filter_3': 112.0, 'dropout_rate0': 0.3535497655572667, 'dropout_rate1': 0.5451660117032447, 'optimizer': 'sgd'}. Best is trial 33 with value: 0.007142841815948486.\u001b[0m\n"
     ]
    },
    {
     "name": "stdout",
     "output_type": "stream",
     "text": [
      "accuracy=0.010441885329782963\n",
      "1050/1050 [==============================] - 3s 3ms/step - loss: 0.0109 - acc: 0.9972\n"
     ]
    },
    {
     "name": "stderr",
     "output_type": "stream",
     "text": [
      "\u001b[32m[I 2022-07-13 13:10:59,596]\u001b[0m Trial 50 finished with value: 0.008035719394683838 and parameters: {'num_layer': 6, 'mid_units': 200.0, 'num_filter_0': 64.0, 'num_filter_1': 96.0, 'num_filter_2': 32.0, 'num_filter_3': 32.0, 'num_filter_4': 128.0, 'num_filter_5': 128.0, 'dropout_rate0': 0.4660870382779561, 'dropout_rate1': 0.4740906627778454, 'optimizer': 'sgd'}. Best is trial 33 with value: 0.007142841815948486.\u001b[0m\n"
     ]
    },
    {
     "name": "stdout",
     "output_type": "stream",
     "text": [
      "accuracy=0.010853704065084457\n",
      "1050/1050 [==============================] - 4s 4ms/step - loss: 0.0142 - acc: 0.9957\n"
     ]
    },
    {
     "name": "stderr",
     "output_type": "stream",
     "text": [
      "\u001b[32m[I 2022-07-13 13:11:38,645]\u001b[0m Trial 51 finished with value: 0.009821414947509766 and parameters: {'num_layer': 5, 'mid_units': 200.0, 'num_filter_0': 64.0, 'num_filter_1': 112.0, 'num_filter_2': 64.0, 'num_filter_3': 64.0, 'num_filter_4': 80.0, 'dropout_rate0': 0.36181351153009933, 'dropout_rate1': 0.5253574075509381, 'optimizer': 'sgd'}. Best is trial 33 with value: 0.007142841815948486.\u001b[0m\n"
     ]
    },
    {
     "name": "stdout",
     "output_type": "stream",
     "text": [
      "accuracy=0.014210947789251804\n",
      "1050/1050 [==============================] - 3s 3ms/step - loss: 0.0089 - acc: 0.9977\n"
     ]
    },
    {
     "name": "stderr",
     "output_type": "stream",
     "text": [
      "\u001b[32m[I 2022-07-13 13:12:30,793]\u001b[0m Trial 52 finished with value: 0.008630931377410889 and parameters: {'num_layer': 6, 'mid_units': 200.0, 'num_filter_0': 80.0, 'num_filter_1': 80.0, 'num_filter_2': 112.0, 'num_filter_3': 80.0, 'num_filter_4': 80.0, 'num_filter_5': 128.0, 'dropout_rate0': 0.3895664249358869, 'dropout_rate1': 0.20003609403031486, 'optimizer': 'sgd'}. Best is trial 33 with value: 0.007142841815948486.\u001b[0m\n"
     ]
    },
    {
     "name": "stdout",
     "output_type": "stream",
     "text": [
      "accuracy=0.00891933124512434\n",
      "1050/1050 [==============================] - 4s 3ms/step - loss: 0.0090 - acc: 0.9976\n"
     ]
    },
    {
     "name": "stderr",
     "output_type": "stream",
     "text": [
      "\u001b[32m[I 2022-07-13 13:13:19,070]\u001b[0m Trial 53 finished with value: 0.008035719394683838 and parameters: {'num_layer': 6, 'mid_units': 200.0, 'num_filter_0': 64.0, 'num_filter_1': 96.0, 'num_filter_2': 128.0, 'num_filter_3': 48.0, 'num_filter_4': 64.0, 'num_filter_5': 112.0, 'dropout_rate0': 0.3358513840301334, 'dropout_rate1': 0.48457543730496133, 'optimizer': 'sgd'}. Best is trial 33 with value: 0.007142841815948486.\u001b[0m\n"
     ]
    },
    {
     "name": "stdout",
     "output_type": "stream",
     "text": [
      "accuracy=0.008979748003184795\n",
      "1050/1050 [==============================] - 4s 3ms/step - loss: 0.0102 - acc: 0.9971\n"
     ]
    },
    {
     "name": "stderr",
     "output_type": "stream",
     "text": [
      "\u001b[32m[I 2022-07-13 13:14:10,568]\u001b[0m Trial 54 finished with value: 0.008035719394683838 and parameters: {'num_layer': 7, 'mid_units': 200.0, 'num_filter_0': 48.0, 'num_filter_1': 64.0, 'num_filter_2': 112.0, 'num_filter_3': 96.0, 'num_filter_4': 96.0, 'num_filter_5': 80.0, 'num_filter_6': 48.0, 'dropout_rate0': 0.2945208338909471, 'dropout_rate1': 0.5121757001859205, 'optimizer': 'sgd'}. Best is trial 33 with value: 0.007142841815948486.\u001b[0m\n"
     ]
    },
    {
     "name": "stdout",
     "output_type": "stream",
     "text": [
      "accuracy=0.010189601220190525\n",
      "1050/1050 [==============================] - 4s 3ms/step - loss: 0.0131 - acc: 0.9963\n"
     ]
    },
    {
     "name": "stderr",
     "output_type": "stream",
     "text": [
      "\u001b[32m[I 2022-07-13 13:14:53,741]\u001b[0m Trial 55 finished with value: 0.008630931377410889 and parameters: {'num_layer': 5, 'mid_units': 200.0, 'num_filter_0': 80.0, 'num_filter_1': 48.0, 'num_filter_2': 128.0, 'num_filter_3': 80.0, 'num_filter_4': 80.0, 'dropout_rate0': 0.4936889900425187, 'dropout_rate1': 0.4542452287131225, 'optimizer': 'sgd'}. Best is trial 33 with value: 0.007142841815948486.\u001b[0m\n"
     ]
    },
    {
     "name": "stdout",
     "output_type": "stream",
     "text": [
      "accuracy=0.013148176483809948\n",
      "1050/1050 [==============================] - 3s 3ms/step - loss: 0.0092 - acc: 0.9975\n"
     ]
    },
    {
     "name": "stderr",
     "output_type": "stream",
     "text": [
      "\u001b[32m[I 2022-07-13 13:15:42,423]\u001b[0m Trial 56 finished with value: 0.008333325386047363 and parameters: {'num_layer': 6, 'mid_units': 200.0, 'num_filter_0': 48.0, 'num_filter_1': 96.0, 'num_filter_2': 112.0, 'num_filter_3': 48.0, 'num_filter_4': 96.0, 'num_filter_5': 112.0, 'dropout_rate0': 0.31630383501362785, 'dropout_rate1': 0.5790357873664388, 'optimizer': 'sgd'}. Best is trial 33 with value: 0.007142841815948486.\u001b[0m\n"
     ]
    },
    {
     "name": "stdout",
     "output_type": "stream",
     "text": [
      "accuracy=0.009164191782474518\n",
      "1050/1050 [==============================] - 3s 3ms/step - loss: 0.0497 - acc: 0.9837\n"
     ]
    },
    {
     "name": "stderr",
     "output_type": "stream",
     "text": [
      "\u001b[32m[I 2022-07-13 13:16:25,895]\u001b[0m Trial 57 finished with value: 0.02261906862258911 and parameters: {'num_layer': 6, 'mid_units': 200.0, 'num_filter_0': 112.0, 'num_filter_1': 96.0, 'num_filter_2': 16.0, 'num_filter_3': 48.0, 'num_filter_4': 64.0, 'num_filter_5': 128.0, 'dropout_rate0': 0.3242903945372975, 'dropout_rate1': 0.49222878668547343, 'optimizer': 'sgd'}. Best is trial 33 with value: 0.007142841815948486.\u001b[0m\n"
     ]
    },
    {
     "name": "stdout",
     "output_type": "stream",
     "text": [
      "accuracy=0.04970402270555496\n",
      "1050/1050 [==============================] - 3s 3ms/step - loss: 0.0129 - acc: 0.9963\n"
     ]
    },
    {
     "name": "stderr",
     "output_type": "stream",
     "text": [
      "\u001b[32m[I 2022-07-13 13:17:17,593]\u001b[0m Trial 58 finished with value: 0.00892859697341919 and parameters: {'num_layer': 6, 'mid_units': 200.0, 'num_filter_0': 64.0, 'num_filter_1': 112.0, 'num_filter_2': 128.0, 'num_filter_3': 64.0, 'num_filter_4': 80.0, 'num_filter_5': 96.0, 'dropout_rate0': 0.527601680796848, 'dropout_rate1': 0.5990226213638249, 'optimizer': 'sgd'}. Best is trial 33 with value: 0.007142841815948486.\u001b[0m\n"
     ]
    },
    {
     "name": "stdout",
     "output_type": "stream",
     "text": [
      "accuracy=0.012896759435534477\n",
      "1050/1050 [==============================] - 3s 3ms/step - loss: 0.0148 - acc: 0.9953\n"
     ]
    },
    {
     "name": "stderr",
     "output_type": "stream",
     "text": [
      "\u001b[32m[I 2022-07-13 13:18:04,389]\u001b[0m Trial 59 finished with value: 0.013392865657806396 and parameters: {'num_layer': 6, 'mid_units': 200.0, 'num_filter_0': 80.0, 'num_filter_1': 80.0, 'num_filter_2': 32.0, 'num_filter_3': 48.0, 'num_filter_4': 112.0, 'num_filter_5': 112.0, 'dropout_rate0': 0.26273978842082446, 'dropout_rate1': 0.5031155507235727, 'optimizer': 'sgd'}. Best is trial 33 with value: 0.007142841815948486.\u001b[0m\n"
     ]
    },
    {
     "name": "stdout",
     "output_type": "stream",
     "text": [
      "accuracy=0.01480850949883461\n",
      "1050/1050 [==============================] - 4s 4ms/step - loss: 0.0098 - acc: 0.9970\n"
     ]
    },
    {
     "name": "stderr",
     "output_type": "stream",
     "text": [
      "\u001b[32m[I 2022-07-13 13:18:46,021]\u001b[0m Trial 60 finished with value: 0.009821414947509766 and parameters: {'num_layer': 6, 'mid_units': 200.0, 'num_filter_0': 64.0, 'num_filter_1': 96.0, 'num_filter_2': 16.0, 'num_filter_3': 32.0, 'num_filter_4': 80.0, 'num_filter_5': 128.0, 'dropout_rate0': 0.23488334220058796, 'dropout_rate1': 0.4857774721558661, 'optimizer': 'sgd'}. Best is trial 33 with value: 0.007142841815948486.\u001b[0m\n"
     ]
    },
    {
     "name": "stdout",
     "output_type": "stream",
     "text": [
      "accuracy=0.00981835462152958\n",
      "1050/1050 [==============================] - 3s 3ms/step - loss: 0.0218 - acc: 0.9932\n"
     ]
    },
    {
     "name": "stderr",
     "output_type": "stream",
     "text": [
      "\u001b[32m[I 2022-07-13 13:19:25,907]\u001b[0m Trial 61 finished with value: 0.00952380895614624 and parameters: {'num_layer': 5, 'mid_units': 300.0, 'num_filter_0': 80.0, 'num_filter_1': 80.0, 'num_filter_2': 96.0, 'num_filter_3': 64.0, 'num_filter_4': 80.0, 'dropout_rate0': 0.3219670680967703, 'dropout_rate1': 0.4302269744278735, 'optimizer': 'sgd'}. Best is trial 33 with value: 0.007142841815948486.\u001b[0m\n"
     ]
    },
    {
     "name": "stdout",
     "output_type": "stream",
     "text": [
      "accuracy=0.021823197603225708\n",
      "1050/1050 [==============================] - 4s 3ms/step - loss: 0.0119 - acc: 0.9966\n"
     ]
    },
    {
     "name": "stderr",
     "output_type": "stream",
     "text": [
      "\u001b[32m[I 2022-07-13 13:20:09,349]\u001b[0m Trial 62 finished with value: 0.008035719394683838 and parameters: {'num_layer': 6, 'mid_units': 200.0, 'num_filter_0': 80.0, 'num_filter_1': 64.0, 'num_filter_2': 48.0, 'num_filter_3': 96.0, 'num_filter_4': 64.0, 'num_filter_5': 96.0, 'dropout_rate0': 0.2942656034250676, 'dropout_rate1': 0.5144808366779852, 'optimizer': 'sgd'}. Best is trial 33 with value: 0.007142841815948486.\u001b[0m\n"
     ]
    },
    {
     "name": "stdout",
     "output_type": "stream",
     "text": [
      "accuracy=0.011947202496230602\n",
      "1050/1050 [==============================] - 3s 3ms/step - loss: 0.0129 - acc: 0.9961\n"
     ]
    },
    {
     "name": "stderr",
     "output_type": "stream",
     "text": [
      "\u001b[32m[I 2022-07-13 13:20:46,481]\u001b[0m Trial 63 finished with value: 0.010416686534881592 and parameters: {'num_layer': 6, 'mid_units': 200.0, 'num_filter_0': 32.0, 'num_filter_1': 96.0, 'num_filter_2': 16.0, 'num_filter_3': 48.0, 'num_filter_4': 96.0, 'num_filter_5': 112.0, 'dropout_rate0': 0.3647128458653924, 'dropout_rate1': 0.5468253979139784, 'optimizer': 'sgd'}. Best is trial 33 with value: 0.007142841815948486.\u001b[0m\n"
     ]
    },
    {
     "name": "stdout",
     "output_type": "stream",
     "text": [
      "accuracy=0.01291426457464695\n",
      "1050/1050 [==============================] - 3s 3ms/step - loss: 0.0105 - acc: 0.9969\n"
     ]
    },
    {
     "name": "stderr",
     "output_type": "stream",
     "text": [
      "\u001b[32m[I 2022-07-13 13:21:25,967]\u001b[0m Trial 64 finished with value: 0.009226202964782715 and parameters: {'num_layer': 5, 'mid_units': 200.0, 'num_filter_0': 48.0, 'num_filter_1': 128.0, 'num_filter_2': 64.0, 'num_filter_3': 80.0, 'num_filter_4': 96.0, 'dropout_rate0': 0.3411489569590778, 'dropout_rate1': 0.5350139106972452, 'optimizer': 'sgd'}. Best is trial 33 with value: 0.007142841815948486.\u001b[0m\n"
     ]
    },
    {
     "name": "stdout",
     "output_type": "stream",
     "text": [
      "accuracy=0.010490207001566887\n",
      "1050/1050 [==============================] - 4s 4ms/step - loss: 0.1109 - acc: 0.9687\n"
     ]
    },
    {
     "name": "stderr",
     "output_type": "stream",
     "text": [
      "\u001b[32m[I 2022-07-13 13:22:30,900]\u001b[0m Trial 65 finished with value: 0.03601193428039551 and parameters: {'num_layer': 7, 'mid_units': 200.0, 'num_filter_0': 96.0, 'num_filter_1': 112.0, 'num_filter_2': 112.0, 'num_filter_3': 128.0, 'num_filter_4': 96.0, 'num_filter_5': 80.0, 'num_filter_6': 96.0, 'dropout_rate0': 0.3774889141436541, 'dropout_rate1': 0.44721133105672384, 'optimizer': 'sgd'}. Best is trial 33 with value: 0.007142841815948486.\u001b[0m\n"
     ]
    },
    {
     "name": "stdout",
     "output_type": "stream",
     "text": [
      "accuracy=0.11094386130571365\n",
      "1050/1050 [==============================] - 4s 3ms/step - loss: 0.0111 - acc: 0.9965\n"
     ]
    },
    {
     "name": "stderr",
     "output_type": "stream",
     "text": [
      "\u001b[32m[I 2022-07-13 13:23:16,279]\u001b[0m Trial 66 finished with value: 0.008630931377410889 and parameters: {'num_layer': 6, 'mid_units': 300.0, 'num_filter_0': 96.0, 'num_filter_1': 80.0, 'num_filter_2': 32.0, 'num_filter_3': 64.0, 'num_filter_4': 80.0, 'num_filter_5': 128.0, 'dropout_rate0': 0.45001756253410524, 'dropout_rate1': 0.5213086908439801, 'optimizer': 'sgd'}. Best is trial 33 with value: 0.007142841815948486.\u001b[0m\n"
     ]
    },
    {
     "name": "stdout",
     "output_type": "stream",
     "text": [
      "accuracy=0.011146774515509605\n",
      "1050/1050 [==============================] - 3s 3ms/step - loss: 0.0135 - acc: 0.9957\n"
     ]
    },
    {
     "name": "stderr",
     "output_type": "stream",
     "text": [
      "\u001b[32m[I 2022-07-13 13:24:07,992]\u001b[0m Trial 67 finished with value: 0.008630931377410889 and parameters: {'num_layer': 5, 'mid_units': 200.0, 'num_filter_0': 80.0, 'num_filter_1': 112.0, 'num_filter_2': 112.0, 'num_filter_3': 96.0, 'num_filter_4': 112.0, 'dropout_rate0': 0.5154833943476929, 'dropout_rate1': 0.5551413445721579, 'optimizer': 'sgd'}. Best is trial 33 with value: 0.007142841815948486.\u001b[0m\n"
     ]
    },
    {
     "name": "stdout",
     "output_type": "stream",
     "text": [
      "accuracy=0.013546627014875412\n",
      "1050/1050 [==============================] - 4s 3ms/step - loss: 0.0137 - acc: 0.9957\n"
     ]
    },
    {
     "name": "stderr",
     "output_type": "stream",
     "text": [
      "\u001b[32m[I 2022-07-13 13:24:53,417]\u001b[0m Trial 68 finished with value: 0.013392865657806396 and parameters: {'num_layer': 7, 'mid_units': 200.0, 'num_filter_0': 48.0, 'num_filter_1': 64.0, 'num_filter_2': 80.0, 'num_filter_3': 96.0, 'num_filter_4': 112.0, 'num_filter_5': 16.0, 'num_filter_6': 80.0, 'dropout_rate0': 0.3446756403933457, 'dropout_rate1': 0.4028823209169364, 'optimizer': 'sgd'}. Best is trial 33 with value: 0.007142841815948486.\u001b[0m\n"
     ]
    },
    {
     "name": "stdout",
     "output_type": "stream",
     "text": [
      "accuracy=0.013740920461714268\n",
      "1050/1050 [==============================] - 4s 3ms/step - loss: 0.0280 - acc: 0.9911\n"
     ]
    },
    {
     "name": "stderr",
     "output_type": "stream",
     "text": [
      "\u001b[32m[I 2022-07-13 13:25:39,276]\u001b[0m Trial 69 finished with value: 0.012499988079071045 and parameters: {'num_layer': 5, 'mid_units': 200.0, 'num_filter_0': 64.0, 'num_filter_1': 112.0, 'num_filter_2': 128.0, 'num_filter_3': 64.0, 'num_filter_4': 96.0, 'dropout_rate0': 0.43685197841618295, 'dropout_rate1': 0.4556273129586357, 'optimizer': 'sgd'}. Best is trial 33 with value: 0.007142841815948486.\u001b[0m\n"
     ]
    },
    {
     "name": "stdout",
     "output_type": "stream",
     "text": [
      "accuracy=0.027972938492894173\n"
     ]
    }
   ],
   "source": [
    "study = optuna.create_study()\n",
    "study.optimize(objective1, n_trials=70)"
   ]
  },
  {
   "cell_type": "markdown",
   "id": "d3f8d0ea",
   "metadata": {
    "papermill": {
     "duration": 0.468501,
     "end_time": "2022-07-13T13:25:40.224109",
     "exception": false,
     "start_time": "2022-07-13T13:25:39.755608",
     "status": "completed"
    },
    "tags": []
   },
   "source": [
    "**Well, we got better accuracy than last time.**"
   ]
  },
  {
   "cell_type": "code",
   "execution_count": 19,
   "id": "422ec1e2",
   "metadata": {
    "execution": {
     "iopub.execute_input": "2022-07-13T13:25:41.222012Z",
     "iopub.status.busy": "2022-07-13T13:25:41.221668Z",
     "iopub.status.idle": "2022-07-13T13:25:41.228918Z",
     "shell.execute_reply": "2022-07-13T13:25:41.227907Z"
    },
    "papermill": {
     "duration": 0.480161,
     "end_time": "2022-07-13T13:25:41.232168",
     "exception": false,
     "start_time": "2022-07-13T13:25:40.752007",
     "status": "completed"
    },
    "tags": []
   },
   "outputs": [
    {
     "data": {
      "text/plain": [
       "{'num_layer': 7,\n",
       " 'mid_units': 200.0,\n",
       " 'num_filter_0': 64.0,\n",
       " 'num_filter_1': 112.0,\n",
       " 'num_filter_2': 128.0,\n",
       " 'num_filter_3': 48.0,\n",
       " 'num_filter_4': 80.0,\n",
       " 'num_filter_5': 112.0,\n",
       " 'num_filter_6': 80.0,\n",
       " 'dropout_rate0': 0.31604279196701063,\n",
       " 'dropout_rate1': 0.5338388602408691,\n",
       " 'optimizer': 'sgd'}"
      ]
     },
     "execution_count": 19,
     "metadata": {},
     "output_type": "execute_result"
    }
   ],
   "source": [
    "study.best_params"
   ]
  },
  {
   "cell_type": "code",
   "execution_count": 20,
   "id": "9b0ee192",
   "metadata": {
    "execution": {
     "iopub.execute_input": "2022-07-13T13:25:42.169079Z",
     "iopub.status.busy": "2022-07-13T13:25:42.168733Z",
     "iopub.status.idle": "2022-07-13T13:25:42.173864Z",
     "shell.execute_reply": "2022-07-13T13:25:42.172936Z"
    },
    "papermill": {
     "duration": 0.476173,
     "end_time": "2022-07-13T13:25:42.175817",
     "exception": false,
     "start_time": "2022-07-13T13:25:41.699644",
     "status": "completed"
    },
    "tags": []
   },
   "outputs": [],
   "source": [
    "num_filters = [128,64,112,112,128]\n",
    "mid_units= 200.0\n",
    "dropout_rate = [0.5436451132049005,0.5811878085067075]\n",
    "optimizer = 'sgd'"
   ]
  },
  {
   "cell_type": "code",
   "execution_count": 21,
   "id": "42121a26",
   "metadata": {
    "execution": {
     "iopub.execute_input": "2022-07-13T13:25:43.164763Z",
     "iopub.status.busy": "2022-07-13T13:25:43.164394Z",
     "iopub.status.idle": "2022-07-13T13:25:43.233281Z",
     "shell.execute_reply": "2022-07-13T13:25:43.232420Z"
    },
    "papermill": {
     "duration": 0.540496,
     "end_time": "2022-07-13T13:25:43.235475",
     "exception": false,
     "start_time": "2022-07-13T13:25:42.694979",
     "status": "completed"
    },
    "tags": []
   },
   "outputs": [],
   "source": [
    "model_best = Sequential()\n",
    "model_best.add(Conv2D(filters=num_filters[0], kernel_size=(3, 3),activation=\"relu\",input_shape=(img_rows, img_cols, 1)))\n",
    "model_best.add(Conv2D(filters=num_filters[1], kernel_size=(3,3), padding=\"same\", activation=\"relu\"))\n",
    "model_best.add(Conv2D(filters=num_filters[2], kernel_size=(3,3), padding=\"same\", activation=\"relu\"))\n",
    "model_best.add(Conv2D(filters=num_filters[3], kernel_size=(3,3), padding=\"same\", activation=\"relu\"))\n",
    "model_best.add(Conv2D(filters=num_filters[4], kernel_size=(3,3), padding=\"same\", activation=\"relu\"))\n",
    "model_best.add(MaxPooling2D(pool_size=(2, 2)))\n",
    "model_best.add(Dropout(dropout_rate[0]))\n",
    "model_best.add(Flatten())\n",
    "model_best.add(Dense(mid_units))\n",
    "model_best.add(Dropout(dropout_rate[1]))\n",
    "model_best.add(Dense(num_classes, activation='softmax'))"
   ]
  },
  {
   "cell_type": "code",
   "execution_count": 22,
   "id": "f64b86ba",
   "metadata": {
    "execution": {
     "iopub.execute_input": "2022-07-13T13:25:44.208284Z",
     "iopub.status.busy": "2022-07-13T13:25:44.207919Z",
     "iopub.status.idle": "2022-07-13T13:31:11.682651Z",
     "shell.execute_reply": "2022-07-13T13:31:11.680836Z"
    },
    "papermill": {
     "duration": 327.949946,
     "end_time": "2022-07-13T13:31:11.684649",
     "exception": false,
     "start_time": "2022-07-13T13:25:43.734703",
     "status": "completed"
    },
    "tags": []
   },
   "outputs": [
    {
     "name": "stdout",
     "output_type": "stream",
     "text": [
      "Epoch 1/50\n",
      "237/237 [==============================] - 8s 27ms/step - loss: 0.9423 - accuracy: 0.7865 - val_loss: 0.1319 - val_accuracy: 0.9574\n",
      "Epoch 2/50\n",
      "237/237 [==============================] - 6s 26ms/step - loss: 0.1872 - accuracy: 0.9421 - val_loss: 0.1466 - val_accuracy: 0.9661\n",
      "Epoch 3/50\n",
      "237/237 [==============================] - 6s 26ms/step - loss: 0.1324 - accuracy: 0.9598 - val_loss: 0.0708 - val_accuracy: 0.9804\n",
      "Epoch 4/50\n",
      "237/237 [==============================] - 6s 26ms/step - loss: 0.1068 - accuracy: 0.9679 - val_loss: 0.0653 - val_accuracy: 0.9798\n",
      "Epoch 5/50\n",
      "237/237 [==============================] - 6s 26ms/step - loss: 0.0948 - accuracy: 0.9702 - val_loss: 0.0526 - val_accuracy: 0.9827\n",
      "Epoch 6/50\n",
      "237/237 [==============================] - 6s 26ms/step - loss: 0.0788 - accuracy: 0.9746 - val_loss: 0.0454 - val_accuracy: 0.9848\n",
      "Epoch 7/50\n",
      "237/237 [==============================] - 6s 26ms/step - loss: 0.0731 - accuracy: 0.9765 - val_loss: 0.0413 - val_accuracy: 0.9878\n",
      "Epoch 8/50\n",
      "237/237 [==============================] - 6s 26ms/step - loss: 0.0688 - accuracy: 0.9786 - val_loss: 0.0385 - val_accuracy: 0.9878\n",
      "Epoch 9/50\n",
      "237/237 [==============================] - 6s 26ms/step - loss: 0.0628 - accuracy: 0.9800 - val_loss: 0.0453 - val_accuracy: 0.9851\n",
      "Epoch 10/50\n",
      "237/237 [==============================] - 6s 26ms/step - loss: 0.0588 - accuracy: 0.9815 - val_loss: 0.0387 - val_accuracy: 0.9887\n",
      "Epoch 11/50\n",
      "237/237 [==============================] - 6s 26ms/step - loss: 0.0536 - accuracy: 0.9828 - val_loss: 0.0311 - val_accuracy: 0.9920\n",
      "Epoch 12/50\n",
      "237/237 [==============================] - 6s 26ms/step - loss: 0.0528 - accuracy: 0.9838 - val_loss: 0.0325 - val_accuracy: 0.9908\n",
      "Epoch 13/50\n",
      "237/237 [==============================] - 6s 26ms/step - loss: 0.0480 - accuracy: 0.9857 - val_loss: 0.0362 - val_accuracy: 0.9887\n",
      "Epoch 14/50\n",
      "237/237 [==============================] - 6s 26ms/step - loss: 0.0436 - accuracy: 0.9859 - val_loss: 0.0335 - val_accuracy: 0.9896\n",
      "Epoch 15/50\n",
      "237/237 [==============================] - 6s 26ms/step - loss: 0.0419 - accuracy: 0.9869 - val_loss: 0.0322 - val_accuracy: 0.9902\n",
      "Epoch 16/50\n",
      "237/237 [==============================] - 6s 26ms/step - loss: 0.0399 - accuracy: 0.9877 - val_loss: 0.0317 - val_accuracy: 0.9914\n",
      "Epoch 17/50\n",
      "237/237 [==============================] - 6s 26ms/step - loss: 0.0382 - accuracy: 0.9883 - val_loss: 0.0393 - val_accuracy: 0.9893\n",
      "Epoch 18/50\n",
      "237/237 [==============================] - 6s 26ms/step - loss: 0.0355 - accuracy: 0.9890 - val_loss: 0.0291 - val_accuracy: 0.9917\n",
      "Epoch 19/50\n",
      "237/237 [==============================] - 6s 26ms/step - loss: 0.0330 - accuracy: 0.9888 - val_loss: 0.0285 - val_accuracy: 0.9923\n",
      "Epoch 20/50\n",
      "237/237 [==============================] - 6s 26ms/step - loss: 0.0352 - accuracy: 0.9888 - val_loss: 0.0344 - val_accuracy: 0.9908\n",
      "Epoch 21/50\n",
      "237/237 [==============================] - 6s 26ms/step - loss: 0.0334 - accuracy: 0.9895 - val_loss: 0.0308 - val_accuracy: 0.9929\n",
      "Epoch 22/50\n",
      "237/237 [==============================] - 6s 26ms/step - loss: 0.0331 - accuracy: 0.9894 - val_loss: 0.0525 - val_accuracy: 0.9830\n",
      "Epoch 23/50\n",
      "237/237 [==============================] - 6s 26ms/step - loss: 0.0306 - accuracy: 0.9896 - val_loss: 0.0287 - val_accuracy: 0.9914\n",
      "Epoch 24/50\n",
      "237/237 [==============================] - 6s 26ms/step - loss: 0.0295 - accuracy: 0.9904 - val_loss: 0.0326 - val_accuracy: 0.9908\n",
      "Epoch 25/50\n",
      "237/237 [==============================] - 6s 26ms/step - loss: 0.0290 - accuracy: 0.9903 - val_loss: 0.0274 - val_accuracy: 0.9926\n",
      "Epoch 26/50\n",
      "237/237 [==============================] - 6s 26ms/step - loss: 0.0272 - accuracy: 0.9914 - val_loss: 0.0285 - val_accuracy: 0.9911\n",
      "Epoch 27/50\n",
      "237/237 [==============================] - 6s 26ms/step - loss: 0.0287 - accuracy: 0.9907 - val_loss: 0.0414 - val_accuracy: 0.9875\n",
      "Epoch 28/50\n",
      "237/237 [==============================] - 6s 26ms/step - loss: 0.0252 - accuracy: 0.9920 - val_loss: 0.0253 - val_accuracy: 0.9932\n",
      "Epoch 29/50\n",
      "237/237 [==============================] - 6s 26ms/step - loss: 0.0245 - accuracy: 0.9914 - val_loss: 0.0261 - val_accuracy: 0.9920\n",
      "Epoch 30/50\n",
      "237/237 [==============================] - 6s 26ms/step - loss: 0.0236 - accuracy: 0.9923 - val_loss: 0.0274 - val_accuracy: 0.9929\n",
      "Epoch 31/50\n",
      "237/237 [==============================] - 6s 26ms/step - loss: 0.0225 - accuracy: 0.9920 - val_loss: 0.0305 - val_accuracy: 0.9911\n",
      "Epoch 32/50\n",
      "237/237 [==============================] - 6s 26ms/step - loss: 0.0241 - accuracy: 0.9920 - val_loss: 0.0289 - val_accuracy: 0.9929\n",
      "Epoch 33/50\n",
      "237/237 [==============================] - 6s 26ms/step - loss: 0.0225 - accuracy: 0.9927 - val_loss: 0.0269 - val_accuracy: 0.9926\n",
      "Epoch 34/50\n",
      "237/237 [==============================] - 6s 26ms/step - loss: 0.0200 - accuracy: 0.9934 - val_loss: 0.0261 - val_accuracy: 0.9923\n",
      "Epoch 35/50\n",
      "237/237 [==============================] - 6s 26ms/step - loss: 0.0215 - accuracy: 0.9933 - val_loss: 0.0249 - val_accuracy: 0.9929\n",
      "Epoch 36/50\n",
      "237/237 [==============================] - 6s 26ms/step - loss: 0.0207 - accuracy: 0.9936 - val_loss: 0.0261 - val_accuracy: 0.9914\n",
      "Epoch 37/50\n",
      "237/237 [==============================] - 6s 26ms/step - loss: 0.0174 - accuracy: 0.9943 - val_loss: 0.0263 - val_accuracy: 0.9920\n",
      "Epoch 38/50\n",
      "237/237 [==============================] - 6s 26ms/step - loss: 0.0197 - accuracy: 0.9937 - val_loss: 0.0277 - val_accuracy: 0.9920\n",
      "Epoch 39/50\n",
      "237/237 [==============================] - 6s 26ms/step - loss: 0.0179 - accuracy: 0.9937 - val_loss: 0.0243 - val_accuracy: 0.9926\n",
      "Epoch 40/50\n",
      "237/237 [==============================] - 6s 26ms/step - loss: 0.0179 - accuracy: 0.9941 - val_loss: 0.0278 - val_accuracy: 0.9908\n",
      "Epoch 41/50\n",
      "237/237 [==============================] - 6s 26ms/step - loss: 0.0166 - accuracy: 0.9946 - val_loss: 0.0229 - val_accuracy: 0.9943\n",
      "Epoch 42/50\n",
      "237/237 [==============================] - 6s 26ms/step - loss: 0.0155 - accuracy: 0.9942 - val_loss: 0.0275 - val_accuracy: 0.9929\n",
      "Epoch 43/50\n",
      "237/237 [==============================] - 6s 26ms/step - loss: 0.0181 - accuracy: 0.9941 - val_loss: 0.0363 - val_accuracy: 0.9905\n",
      "Epoch 44/50\n",
      "237/237 [==============================] - 6s 26ms/step - loss: 0.0167 - accuracy: 0.9945 - val_loss: 0.0240 - val_accuracy: 0.9937\n",
      "Epoch 45/50\n",
      "237/237 [==============================] - 6s 26ms/step - loss: 0.0162 - accuracy: 0.9949 - val_loss: 0.0233 - val_accuracy: 0.9932\n",
      "Epoch 46/50\n",
      "237/237 [==============================] - 6s 26ms/step - loss: 0.0167 - accuracy: 0.9943 - val_loss: 0.0246 - val_accuracy: 0.9926\n",
      "Epoch 47/50\n",
      "237/237 [==============================] - 6s 26ms/step - loss: 0.0149 - accuracy: 0.9951 - val_loss: 0.0351 - val_accuracy: 0.9902\n",
      "Epoch 48/50\n",
      "237/237 [==============================] - 6s 26ms/step - loss: 0.0147 - accuracy: 0.9950 - val_loss: 0.0276 - val_accuracy: 0.9926\n",
      "Epoch 49/50\n",
      "237/237 [==============================] - 6s 26ms/step - loss: 0.0139 - accuracy: 0.9955 - val_loss: 0.0292 - val_accuracy: 0.9929\n",
      "Epoch 50/50\n",
      "237/237 [==============================] - 6s 26ms/step - loss: 0.0127 - accuracy: 0.9961 - val_loss: 0.0260 - val_accuracy: 0.9932\n",
      "1050/1050 [==============================] - 4s 4ms/step - loss: 0.0044 - accuracy: 0.9989\n",
      "accuracy=0.004408338572829962\n"
     ]
    }
   ],
   "source": [
    "#Determine optimization method\n",
    "model_best.compile(loss=keras.losses.categorical_crossentropy,\n",
    "              #optimizer=keras.optimizers.Adadelta(),\n",
    "              optimizer=optimizer,\n",
    "              metrics=['accuracy'])\n",
    "\n",
    "hist2 = model_best.fit(X_train, y_train,\n",
    "                 batch_size=128,\n",
    "                 epochs=50,\n",
    "                 validation_split=0.1,\n",
    "                 verbose=1)\n",
    "\n",
    "scores_best = model_best.evaluate(X_train, y_train)\n",
    "print('accuracy={}'.format(*scores_best))"
   ]
  },
  {
   "cell_type": "markdown",
   "id": "d808b5c7",
   "metadata": {
    "papermill": {
     "duration": 0.758066,
     "end_time": "2022-07-13T13:31:13.263637",
     "exception": false,
     "start_time": "2022-07-13T13:31:12.505571",
     "status": "completed"
    },
    "tags": []
   },
   "source": [
    "**ok, I accidentally ran the model twice in a row, the first time it got its best score at 0.9962**"
   ]
  },
  {
   "cell_type": "code",
   "execution_count": 23,
   "id": "2e794475",
   "metadata": {
    "execution": {
     "iopub.execute_input": "2022-07-13T13:31:14.867856Z",
     "iopub.status.busy": "2022-07-13T13:31:14.867482Z",
     "iopub.status.idle": "2022-07-13T13:31:15.324793Z",
     "shell.execute_reply": "2022-07-13T13:31:15.323886Z"
    },
    "papermill": {
     "duration": 1.219463,
     "end_time": "2022-07-13T13:31:15.327056",
     "exception": false,
     "start_time": "2022-07-13T13:31:14.107593",
     "status": "completed"
    },
    "tags": []
   },
   "outputs": [
    {
     "data": {
      "image/png": "[encoded data removed]",
      "text/plain": [
       "<Figure size 432x288 with 1 Axes>"
      ]
     },
     "metadata": {},
     "output_type": "display_data"
    },
    {
     "data": {
      "image/png": "[encoded data removed]",
      "text/plain": [
       "<Figure size 432x288 with 1 Axes>"
      ]
     },
     "metadata": {},
     "output_type": "display_data"
    }
   ],
   "source": [
    "#loss\n",
    "plt.plot(hist2.history['loss'])\n",
    "plt.plot(hist2.history['val_loss'])\n",
    "plt.title('model loss')\n",
    "plt.ylabel('loss')\n",
    "plt.xlabel('epoch')\n",
    "plt.legend(['train', 'test'], loc='upper left')\n",
    "plt.show()\n",
    "\n",
    "#Accuracy\n",
    "plt.figure()\n",
    "plt.plot(hist2.history['accuracy'])\n",
    "plt.plot(hist2.history['val_accuracy'])\n",
    "plt.title('model accuracy')\n",
    "plt.ylabel('accuracy')\n",
    "plt.xlabel('epoch')\n",
    "plt.legend(['train', 'test'], loc='upper left')\n",
    "plt.show()"
   ]
  },
  {
   "cell_type": "markdown",
   "id": "0cd4a06f",
   "metadata": {
    "papermill": {
     "duration": 0.763766,
     "end_time": "2022-07-13T13:31:16.914107",
     "exception": false,
     "start_time": "2022-07-13T13:31:16.150341",
     "status": "completed"
    },
    "tags": []
   },
   "source": [
    "#  Accuracy: 0.9962 ;>)"
   ]
  },
  {
   "cell_type": "code",
   "execution_count": null,
   "id": "da77284c",
   "metadata": {
    "papermill": {
     "duration": 0.771589,
     "end_time": "2022-07-13T13:31:18.733246",
     "exception": false,
     "start_time": "2022-07-13T13:31:17.961657",
     "status": "completed"
    },
    "tags": []
   },
   "outputs": [],
   "source": []
  }
 ],
 "metadata": {
  "kernelspec": {
   "display_name": "Python 3",
   "language": "python",
   "name": "python3"
  },
  "language_info": {
   "codemirror_mode": {
    "name": "ipython",
    "version": 3
   },
   "file_extension": ".py",
   "mimetype": "text/x-python",
   "name": "python",
   "nbconvert_exporter": "python",
   "pygments_lexer": "ipython3",
   "version": "3.7.12"
  },
  "papermill": {
   "default_parameters": {},
   "duration": 5557.398554,
   "end_time": "2022-07-13T13:31:23.123052",
   "environment_variables": {},
   "exception": null,
   "input_path": "__notebook__.ipynb",
   "output_path": "__notebook__.ipynb",
   "parameters": {},
   "start_time": "2022-07-13T11:58:45.724498",
   "version": "2.3.4"
  }
 },
 "nbformat": 4,
 "nbformat_minor": 5
}
